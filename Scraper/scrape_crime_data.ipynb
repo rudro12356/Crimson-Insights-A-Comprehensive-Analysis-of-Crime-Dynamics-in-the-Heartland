{
 "cells": [
  {
   "cell_type": "code",
   "execution_count": 1,
   "metadata": {},
   "outputs": [],
   "source": [
    "import pandas as pd\n",
    "import requests\n",
    "from bs4 import BeautifulSoup\n",
    "\n",
    "url = 'https://www.city-data.com/crime/crime-Overland-Park-Kansas.html'\n",
    "page = requests.get(url)\n",
    "soup = BeautifulSoup(page.text, 'html.parser')"
   ]
  },
  {
   "cell_type": "code",
   "execution_count": 2,
   "metadata": {},
   "outputs": [],
   "source": [
    "# Extracting table headers\n",
    "headings = []\n",
    "table1 = soup.find('table', id='crimeTab')\n",
    "for j in table1.find_all('h4'):\n",
    "    headings.append(j.text)\n",
    "\n",
    "# Extracting table data\n",
    "body = []\n",
    "for i in table1.find_all('tr')[1:]:\n",
    "    row_data = i.find_all('td')\n",
    "    row = [i.text for i in row_data]\n",
    "    body.append(row)"
   ]
  },
  {
   "cell_type": "code",
   "execution_count": 3,
   "metadata": {},
   "outputs": [],
   "source": [
    "# Creating a DataFrame\n",
    "city_data = pd.DataFrame(body, columns=headings)\n",
    "\n",
    "# Saving data to a CSV file\n",
    "city_data.to_csv('City_data.csv', index=False)"
   ]
  },
  {
   "cell_type": "code",
   "execution_count": null,
   "metadata": {},
   "outputs": [],
   "source": []
  }
 ],
 "metadata": {
  "kernelspec": {
   "display_name": "minimalds",
   "language": "python",
   "name": "python3"
  },
  "language_info": {
   "codemirror_mode": {
    "name": "ipython",
    "version": 3
   },
   "file_extension": ".py",
   "mimetype": "text/x-python",
   "name": "python",
   "nbconvert_exporter": "python",
   "pygments_lexer": "ipython3",
   "version": "3.10.9"
  }
 },
 "nbformat": 4,
 "nbformat_minor": 2
}
