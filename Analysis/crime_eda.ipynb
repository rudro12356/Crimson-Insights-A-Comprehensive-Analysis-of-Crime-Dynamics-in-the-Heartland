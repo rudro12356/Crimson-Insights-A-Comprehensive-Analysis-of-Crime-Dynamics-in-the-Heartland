{
 "cells": [
  {
   "cell_type": "code",
   "execution_count": 1,
   "metadata": {},
   "outputs": [
    {
     "name": "stdout",
     "output_type": "stream",
     "text": [
      "Intel MKL WARNING: Support of Intel(R) Streaming SIMD Extensions 4.2 (Intel(R) SSE4.2) enabled only processors has been deprecated. Intel oneAPI Math Kernel Library 2025.0 will require Intel(R) Advanced Vector Extensions (Intel(R) AVX) instructions.\n",
      "Intel MKL WARNING: Support of Intel(R) Streaming SIMD Extensions 4.2 (Intel(R) SSE4.2) enabled only processors has been deprecated. Intel oneAPI Math Kernel Library 2025.0 will require Intel(R) Advanced Vector Extensions (Intel(R) AVX) instructions.\n"
     ]
    }
   ],
   "source": [
    "import numpy as np\n",
    "import pandas as pd\n",
    "import matplotlib.pyplot as plt\n",
    "import seaborn as sns\n",
    "import datetime\n",
    "import plotly.express as px\n",
    "import os\n",
    "import warnings\n",
    "warnings.filterwarnings('ignore')\n",
    "%matplotlib inline"
   ]
  },
  {
   "cell_type": "code",
   "execution_count": 2,
   "metadata": {},
   "outputs": [],
   "source": [
    "# read and set directory for dataset for any OS\n",
    "os.chdir('/Users/home/Library/CloudStorage/OneDrive-UniversityofKansas/RUDRO/Study Documents/FALL-23/Advanced Data Science/Final Project/Crimson-Insights-A-Comprehensive-Analysis-of-Crime-Dynamics-in-the-Heartland-KS/Datasets')\n",
    "\n",
    "# read the dataset\n",
    "df = pd.read_csv('merged_kansas_state_2007_2020.csv')"
   ]
  },
  {
   "cell_type": "code",
   "execution_count": 3,
   "metadata": {},
   "outputs": [
    {
     "data": {
      "text/html": [
       "<div>\n",
       "<style scoped>\n",
       "    .dataframe tbody tr th:only-of-type {\n",
       "        vertical-align: middle;\n",
       "    }\n",
       "\n",
       "    .dataframe tbody tr th {\n",
       "        vertical-align: top;\n",
       "    }\n",
       "\n",
       "    .dataframe thead th {\n",
       "        text-align: right;\n",
       "    }\n",
       "</style>\n",
       "<table border=\"1\" class=\"dataframe\">\n",
       "  <thead>\n",
       "    <tr style=\"text-align: right;\">\n",
       "      <th></th>\n",
       "      <th>Unnamed: 0</th>\n",
       "      <th>Type</th>\n",
       "      <th>2007</th>\n",
       "      <th>2008</th>\n",
       "      <th>2009</th>\n",
       "      <th>2010</th>\n",
       "      <th>2011</th>\n",
       "      <th>2012</th>\n",
       "      <th>2013</th>\n",
       "      <th>2014</th>\n",
       "      <th>2015</th>\n",
       "      <th>2016</th>\n",
       "      <th>2017</th>\n",
       "      <th>2018</th>\n",
       "      <th>2019</th>\n",
       "      <th>2020</th>\n",
       "      <th>City name</th>\n",
       "      <th>Latitude</th>\n",
       "      <th>Longitude</th>\n",
       "    </tr>\n",
       "  </thead>\n",
       "  <tbody>\n",
       "    <tr>\n",
       "      <th>0</th>\n",
       "      <td>0</td>\n",
       "      <td>Murders</td>\n",
       "      <td>1.0</td>\n",
       "      <td>3.0</td>\n",
       "      <td>0.0</td>\n",
       "      <td>2.0</td>\n",
       "      <td>1.0</td>\n",
       "      <td>1.0</td>\n",
       "      <td>3.0</td>\n",
       "      <td>0.0</td>\n",
       "      <td>1.0</td>\n",
       "      <td>2.0</td>\n",
       "      <td>2.0</td>\n",
       "      <td>1.0</td>\n",
       "      <td>1.0</td>\n",
       "      <td>0.0</td>\n",
       "      <td>Hutchinson</td>\n",
       "      <td>38.060844</td>\n",
       "      <td>-97.929771</td>\n",
       "    </tr>\n",
       "    <tr>\n",
       "      <th>1</th>\n",
       "      <td>1</td>\n",
       "      <td>Rapes</td>\n",
       "      <td>19.0</td>\n",
       "      <td>28.0</td>\n",
       "      <td>34.0</td>\n",
       "      <td>25.0</td>\n",
       "      <td>22.0</td>\n",
       "      <td>26.0</td>\n",
       "      <td>43.0</td>\n",
       "      <td>32.0</td>\n",
       "      <td>43.0</td>\n",
       "      <td>35.0</td>\n",
       "      <td>40.0</td>\n",
       "      <td>37.0</td>\n",
       "      <td>26.0</td>\n",
       "      <td>11.0</td>\n",
       "      <td>Hutchinson</td>\n",
       "      <td>38.060844</td>\n",
       "      <td>-97.929771</td>\n",
       "    </tr>\n",
       "    <tr>\n",
       "      <th>2</th>\n",
       "      <td>2</td>\n",
       "      <td>Robberies</td>\n",
       "      <td>22.0</td>\n",
       "      <td>21.0</td>\n",
       "      <td>23.0</td>\n",
       "      <td>35.0</td>\n",
       "      <td>28.0</td>\n",
       "      <td>24.0</td>\n",
       "      <td>27.0</td>\n",
       "      <td>21.0</td>\n",
       "      <td>26.0</td>\n",
       "      <td>24.0</td>\n",
       "      <td>36.0</td>\n",
       "      <td>18.0</td>\n",
       "      <td>20.0</td>\n",
       "      <td>4.0</td>\n",
       "      <td>Hutchinson</td>\n",
       "      <td>38.060844</td>\n",
       "      <td>-97.929771</td>\n",
       "    </tr>\n",
       "    <tr>\n",
       "      <th>3</th>\n",
       "      <td>3</td>\n",
       "      <td>Assaults</td>\n",
       "      <td>187.0</td>\n",
       "      <td>220.0</td>\n",
       "      <td>206.0</td>\n",
       "      <td>184.0</td>\n",
       "      <td>183.0</td>\n",
       "      <td>211.0</td>\n",
       "      <td>182.0</td>\n",
       "      <td>152.0</td>\n",
       "      <td>186.0</td>\n",
       "      <td>126.0</td>\n",
       "      <td>165.0</td>\n",
       "      <td>115.0</td>\n",
       "      <td>107.0</td>\n",
       "      <td>66.0</td>\n",
       "      <td>Hutchinson</td>\n",
       "      <td>38.060844</td>\n",
       "      <td>-97.929771</td>\n",
       "    </tr>\n",
       "    <tr>\n",
       "      <th>4</th>\n",
       "      <td>4</td>\n",
       "      <td>Burglaries</td>\n",
       "      <td>432.0</td>\n",
       "      <td>468.0</td>\n",
       "      <td>417.0</td>\n",
       "      <td>589.0</td>\n",
       "      <td>503.0</td>\n",
       "      <td>503.0</td>\n",
       "      <td>437.0</td>\n",
       "      <td>381.0</td>\n",
       "      <td>261.0</td>\n",
       "      <td>431.0</td>\n",
       "      <td>429.0</td>\n",
       "      <td>360.0</td>\n",
       "      <td>260.0</td>\n",
       "      <td>79.0</td>\n",
       "      <td>Hutchinson</td>\n",
       "      <td>38.060844</td>\n",
       "      <td>-97.929771</td>\n",
       "    </tr>\n",
       "  </tbody>\n",
       "</table>\n",
       "</div>"
      ],
      "text/plain": [
       "   Unnamed: 0        Type   2007   2008   2009   2010   2011   2012   2013  \\\n",
       "0           0     Murders    1.0    3.0    0.0    2.0    1.0    1.0    3.0   \n",
       "1           1       Rapes   19.0   28.0   34.0   25.0   22.0   26.0   43.0   \n",
       "2           2   Robberies   22.0   21.0   23.0   35.0   28.0   24.0   27.0   \n",
       "3           3    Assaults  187.0  220.0  206.0  184.0  183.0  211.0  182.0   \n",
       "4           4  Burglaries  432.0  468.0  417.0  589.0  503.0  503.0  437.0   \n",
       "\n",
       "    2014   2015   2016   2017   2018   2019  2020   City name   Latitude  \\\n",
       "0    0.0    1.0    2.0    2.0    1.0    1.0   0.0  Hutchinson  38.060844   \n",
       "1   32.0   43.0   35.0   40.0   37.0   26.0  11.0  Hutchinson  38.060844   \n",
       "2   21.0   26.0   24.0   36.0   18.0   20.0   4.0  Hutchinson  38.060844   \n",
       "3  152.0  186.0  126.0  165.0  115.0  107.0  66.0  Hutchinson  38.060844   \n",
       "4  381.0  261.0  431.0  429.0  360.0  260.0  79.0  Hutchinson  38.060844   \n",
       "\n",
       "   Longitude  \n",
       "0 -97.929771  \n",
       "1 -97.929771  \n",
       "2 -97.929771  \n",
       "3 -97.929771  \n",
       "4 -97.929771  "
      ]
     },
     "execution_count": 3,
     "metadata": {},
     "output_type": "execute_result"
    }
   ],
   "source": [
    "df.head()"
   ]
  },
  {
   "cell_type": "code",
   "execution_count": 4,
   "metadata": {},
   "outputs": [
    {
     "data": {
      "text/plain": [
       "(90, 19)"
      ]
     },
     "execution_count": 4,
     "metadata": {},
     "output_type": "execute_result"
    }
   ],
   "source": [
    "df.shape"
   ]
  },
  {
   "cell_type": "code",
   "execution_count": 5,
   "metadata": {},
   "outputs": [
    {
     "name": "stdout",
     "output_type": "stream",
     "text": [
      "<class 'pandas.core.frame.DataFrame'>\n",
      "RangeIndex: 90 entries, 0 to 89\n",
      "Data columns (total 19 columns):\n",
      " #   Column      Non-Null Count  Dtype  \n",
      "---  ------      --------------  -----  \n",
      " 0   Unnamed: 0  90 non-null     int64  \n",
      " 1   Type        90 non-null     object \n",
      " 2   2007        90 non-null     float64\n",
      " 3   2008        90 non-null     float64\n",
      " 4   2009        90 non-null     float64\n",
      " 5   2010        90 non-null     float64\n",
      " 6   2011        90 non-null     float64\n",
      " 7   2012        90 non-null     float64\n",
      " 8   2013        90 non-null     float64\n",
      " 9   2014        90 non-null     float64\n",
      " 10  2015        90 non-null     float64\n",
      " 11  2016        90 non-null     float64\n",
      " 12  2017        90 non-null     float64\n",
      " 13  2018        90 non-null     float64\n",
      " 14  2019        90 non-null     float64\n",
      " 15  2020        90 non-null     float64\n",
      " 16  City name   90 non-null     object \n",
      " 17  Latitude    90 non-null     float64\n",
      " 18  Longitude   90 non-null     float64\n",
      "dtypes: float64(16), int64(1), object(2)\n",
      "memory usage: 13.5+ KB\n"
     ]
    }
   ],
   "source": [
    "df.info()"
   ]
  },
  {
   "cell_type": "code",
   "execution_count": 6,
   "metadata": {},
   "outputs": [],
   "source": [
    "# dropping the Unnamed: 0 column\n",
    "df.drop('Unnamed: 0', axis=1, inplace=True)"
   ]
  },
  {
   "cell_type": "code",
   "execution_count": 7,
   "metadata": {},
   "outputs": [
    {
     "data": {
      "text/html": [
       "<div>\n",
       "<style scoped>\n",
       "    .dataframe tbody tr th:only-of-type {\n",
       "        vertical-align: middle;\n",
       "    }\n",
       "\n",
       "    .dataframe tbody tr th {\n",
       "        vertical-align: top;\n",
       "    }\n",
       "\n",
       "    .dataframe thead th {\n",
       "        text-align: right;\n",
       "    }\n",
       "</style>\n",
       "<table border=\"1\" class=\"dataframe\">\n",
       "  <thead>\n",
       "    <tr style=\"text-align: right;\">\n",
       "      <th></th>\n",
       "      <th>Type</th>\n",
       "      <th>2007</th>\n",
       "      <th>2008</th>\n",
       "      <th>2009</th>\n",
       "      <th>2010</th>\n",
       "      <th>2011</th>\n",
       "      <th>2012</th>\n",
       "      <th>2013</th>\n",
       "      <th>2014</th>\n",
       "      <th>2015</th>\n",
       "      <th>2016</th>\n",
       "      <th>2017</th>\n",
       "      <th>2018</th>\n",
       "      <th>2019</th>\n",
       "      <th>2020</th>\n",
       "      <th>City name</th>\n",
       "      <th>Latitude</th>\n",
       "      <th>Longitude</th>\n",
       "    </tr>\n",
       "  </thead>\n",
       "  <tbody>\n",
       "    <tr>\n",
       "      <th>0</th>\n",
       "      <td>Murders</td>\n",
       "      <td>1.0</td>\n",
       "      <td>3.0</td>\n",
       "      <td>0.0</td>\n",
       "      <td>2.0</td>\n",
       "      <td>1.0</td>\n",
       "      <td>1.0</td>\n",
       "      <td>3.0</td>\n",
       "      <td>0.0</td>\n",
       "      <td>1.0</td>\n",
       "      <td>2.0</td>\n",
       "      <td>2.0</td>\n",
       "      <td>1.0</td>\n",
       "      <td>1.0</td>\n",
       "      <td>0.0</td>\n",
       "      <td>Hutchinson</td>\n",
       "      <td>38.060844</td>\n",
       "      <td>-97.929771</td>\n",
       "    </tr>\n",
       "    <tr>\n",
       "      <th>1</th>\n",
       "      <td>Rapes</td>\n",
       "      <td>19.0</td>\n",
       "      <td>28.0</td>\n",
       "      <td>34.0</td>\n",
       "      <td>25.0</td>\n",
       "      <td>22.0</td>\n",
       "      <td>26.0</td>\n",
       "      <td>43.0</td>\n",
       "      <td>32.0</td>\n",
       "      <td>43.0</td>\n",
       "      <td>35.0</td>\n",
       "      <td>40.0</td>\n",
       "      <td>37.0</td>\n",
       "      <td>26.0</td>\n",
       "      <td>11.0</td>\n",
       "      <td>Hutchinson</td>\n",
       "      <td>38.060844</td>\n",
       "      <td>-97.929771</td>\n",
       "    </tr>\n",
       "    <tr>\n",
       "      <th>2</th>\n",
       "      <td>Robberies</td>\n",
       "      <td>22.0</td>\n",
       "      <td>21.0</td>\n",
       "      <td>23.0</td>\n",
       "      <td>35.0</td>\n",
       "      <td>28.0</td>\n",
       "      <td>24.0</td>\n",
       "      <td>27.0</td>\n",
       "      <td>21.0</td>\n",
       "      <td>26.0</td>\n",
       "      <td>24.0</td>\n",
       "      <td>36.0</td>\n",
       "      <td>18.0</td>\n",
       "      <td>20.0</td>\n",
       "      <td>4.0</td>\n",
       "      <td>Hutchinson</td>\n",
       "      <td>38.060844</td>\n",
       "      <td>-97.929771</td>\n",
       "    </tr>\n",
       "    <tr>\n",
       "      <th>3</th>\n",
       "      <td>Assaults</td>\n",
       "      <td>187.0</td>\n",
       "      <td>220.0</td>\n",
       "      <td>206.0</td>\n",
       "      <td>184.0</td>\n",
       "      <td>183.0</td>\n",
       "      <td>211.0</td>\n",
       "      <td>182.0</td>\n",
       "      <td>152.0</td>\n",
       "      <td>186.0</td>\n",
       "      <td>126.0</td>\n",
       "      <td>165.0</td>\n",
       "      <td>115.0</td>\n",
       "      <td>107.0</td>\n",
       "      <td>66.0</td>\n",
       "      <td>Hutchinson</td>\n",
       "      <td>38.060844</td>\n",
       "      <td>-97.929771</td>\n",
       "    </tr>\n",
       "    <tr>\n",
       "      <th>4</th>\n",
       "      <td>Burglaries</td>\n",
       "      <td>432.0</td>\n",
       "      <td>468.0</td>\n",
       "      <td>417.0</td>\n",
       "      <td>589.0</td>\n",
       "      <td>503.0</td>\n",
       "      <td>503.0</td>\n",
       "      <td>437.0</td>\n",
       "      <td>381.0</td>\n",
       "      <td>261.0</td>\n",
       "      <td>431.0</td>\n",
       "      <td>429.0</td>\n",
       "      <td>360.0</td>\n",
       "      <td>260.0</td>\n",
       "      <td>79.0</td>\n",
       "      <td>Hutchinson</td>\n",
       "      <td>38.060844</td>\n",
       "      <td>-97.929771</td>\n",
       "    </tr>\n",
       "  </tbody>\n",
       "</table>\n",
       "</div>"
      ],
      "text/plain": [
       "         Type   2007   2008   2009   2010   2011   2012   2013   2014   2015  \\\n",
       "0     Murders    1.0    3.0    0.0    2.0    1.0    1.0    3.0    0.0    1.0   \n",
       "1       Rapes   19.0   28.0   34.0   25.0   22.0   26.0   43.0   32.0   43.0   \n",
       "2   Robberies   22.0   21.0   23.0   35.0   28.0   24.0   27.0   21.0   26.0   \n",
       "3    Assaults  187.0  220.0  206.0  184.0  183.0  211.0  182.0  152.0  186.0   \n",
       "4  Burglaries  432.0  468.0  417.0  589.0  503.0  503.0  437.0  381.0  261.0   \n",
       "\n",
       "    2016   2017   2018   2019  2020   City name   Latitude  Longitude  \n",
       "0    2.0    2.0    1.0    1.0   0.0  Hutchinson  38.060844 -97.929771  \n",
       "1   35.0   40.0   37.0   26.0  11.0  Hutchinson  38.060844 -97.929771  \n",
       "2   24.0   36.0   18.0   20.0   4.0  Hutchinson  38.060844 -97.929771  \n",
       "3  126.0  165.0  115.0  107.0  66.0  Hutchinson  38.060844 -97.929771  \n",
       "4  431.0  429.0  360.0  260.0  79.0  Hutchinson  38.060844 -97.929771  "
      ]
     },
     "execution_count": 7,
     "metadata": {},
     "output_type": "execute_result"
    }
   ],
   "source": [
    "df.head()"
   ]
  },
  {
   "cell_type": "code",
   "execution_count": 8,
   "metadata": {},
   "outputs": [
    {
     "data": {
      "text/plain": [
       "Type         0\n",
       "2007         0\n",
       "2008         0\n",
       "2009         0\n",
       "2010         0\n",
       "2011         0\n",
       "2012         0\n",
       "2013         0\n",
       "2014         0\n",
       "2015         0\n",
       "2016         0\n",
       "2017         0\n",
       "2018         0\n",
       "2019         0\n",
       "2020         0\n",
       "City name    0\n",
       "Latitude     0\n",
       "Longitude    0\n",
       "dtype: int64"
      ]
     },
     "execution_count": 8,
     "metadata": {},
     "output_type": "execute_result"
    }
   ],
   "source": [
    "# checking for null values\n",
    "df.isnull().sum()"
   ]
  },
  {
   "cell_type": "code",
   "execution_count": 9,
   "metadata": {},
   "outputs": [
    {
     "data": {
      "text/plain": [
       "0"
      ]
     },
     "execution_count": 9,
     "metadata": {},
     "output_type": "execute_result"
    }
   ],
   "source": [
    "# checking for duplicate rows\n",
    "df.duplicated().sum()"
   ]
  },
  {
   "cell_type": "markdown",
   "metadata": {},
   "source": [
    "## Data transformation"
   ]
  },
  {
   "cell_type": "code",
   "execution_count": 10,
   "metadata": {},
   "outputs": [],
   "source": [
    "# change the year columns to one single year column using wide to long\n",
    "df = pd.melt(df, id_vars=['Type', 'City name', 'Latitude', 'Longitude'], value_vars=['2007', '2008', '2009', '2010', '2011', '2012', '2013','2014', '2015', '2016', '2017', '2018', '2019', '2020'], var_name='Year')\n"
   ]
  },
  {
   "cell_type": "code",
   "execution_count": 11,
   "metadata": {},
   "outputs": [
    {
     "data": {
      "text/html": [
       "<div>\n",
       "<style scoped>\n",
       "    .dataframe tbody tr th:only-of-type {\n",
       "        vertical-align: middle;\n",
       "    }\n",
       "\n",
       "    .dataframe tbody tr th {\n",
       "        vertical-align: top;\n",
       "    }\n",
       "\n",
       "    .dataframe thead th {\n",
       "        text-align: right;\n",
       "    }\n",
       "</style>\n",
       "<table border=\"1\" class=\"dataframe\">\n",
       "  <thead>\n",
       "    <tr style=\"text-align: right;\">\n",
       "      <th></th>\n",
       "      <th>Type</th>\n",
       "      <th>City name</th>\n",
       "      <th>Latitude</th>\n",
       "      <th>Longitude</th>\n",
       "      <th>Year</th>\n",
       "      <th>value</th>\n",
       "    </tr>\n",
       "  </thead>\n",
       "  <tbody>\n",
       "    <tr>\n",
       "      <th>0</th>\n",
       "      <td>Murders</td>\n",
       "      <td>Hutchinson</td>\n",
       "      <td>38.060844</td>\n",
       "      <td>-97.929771</td>\n",
       "      <td>2007</td>\n",
       "      <td>1.0</td>\n",
       "    </tr>\n",
       "    <tr>\n",
       "      <th>1</th>\n",
       "      <td>Rapes</td>\n",
       "      <td>Hutchinson</td>\n",
       "      <td>38.060844</td>\n",
       "      <td>-97.929771</td>\n",
       "      <td>2007</td>\n",
       "      <td>19.0</td>\n",
       "    </tr>\n",
       "    <tr>\n",
       "      <th>2</th>\n",
       "      <td>Robberies</td>\n",
       "      <td>Hutchinson</td>\n",
       "      <td>38.060844</td>\n",
       "      <td>-97.929771</td>\n",
       "      <td>2007</td>\n",
       "      <td>22.0</td>\n",
       "    </tr>\n",
       "    <tr>\n",
       "      <th>3</th>\n",
       "      <td>Assaults</td>\n",
       "      <td>Hutchinson</td>\n",
       "      <td>38.060844</td>\n",
       "      <td>-97.929771</td>\n",
       "      <td>2007</td>\n",
       "      <td>187.0</td>\n",
       "    </tr>\n",
       "    <tr>\n",
       "      <th>4</th>\n",
       "      <td>Burglaries</td>\n",
       "      <td>Hutchinson</td>\n",
       "      <td>38.060844</td>\n",
       "      <td>-97.929771</td>\n",
       "      <td>2007</td>\n",
       "      <td>432.0</td>\n",
       "    </tr>\n",
       "  </tbody>\n",
       "</table>\n",
       "</div>"
      ],
      "text/plain": [
       "         Type   City name   Latitude  Longitude  Year  value\n",
       "0     Murders  Hutchinson  38.060844 -97.929771  2007    1.0\n",
       "1       Rapes  Hutchinson  38.060844 -97.929771  2007   19.0\n",
       "2   Robberies  Hutchinson  38.060844 -97.929771  2007   22.0\n",
       "3    Assaults  Hutchinson  38.060844 -97.929771  2007  187.0\n",
       "4  Burglaries  Hutchinson  38.060844 -97.929771  2007  432.0"
      ]
     },
     "execution_count": 11,
     "metadata": {},
     "output_type": "execute_result"
    }
   ],
   "source": [
    "df.head()"
   ]
  },
  {
   "cell_type": "code",
   "execution_count": 12,
   "metadata": {},
   "outputs": [
    {
     "data": {
      "text/html": [
       "<div>\n",
       "<style scoped>\n",
       "    .dataframe tbody tr th:only-of-type {\n",
       "        vertical-align: middle;\n",
       "    }\n",
       "\n",
       "    .dataframe tbody tr th {\n",
       "        vertical-align: top;\n",
       "    }\n",
       "\n",
       "    .dataframe thead th {\n",
       "        text-align: right;\n",
       "    }\n",
       "</style>\n",
       "<table border=\"1\" class=\"dataframe\">\n",
       "  <thead>\n",
       "    <tr style=\"text-align: right;\">\n",
       "      <th></th>\n",
       "      <th>Type</th>\n",
       "      <th>City name</th>\n",
       "      <th>Latitude</th>\n",
       "      <th>Longitude</th>\n",
       "      <th>Year</th>\n",
       "      <th>value</th>\n",
       "    </tr>\n",
       "  </thead>\n",
       "  <tbody>\n",
       "    <tr>\n",
       "      <th>0</th>\n",
       "      <td>Murders</td>\n",
       "      <td>Hutchinson</td>\n",
       "      <td>38.060844</td>\n",
       "      <td>-97.929771</td>\n",
       "      <td>2007</td>\n",
       "      <td>1.0</td>\n",
       "    </tr>\n",
       "    <tr>\n",
       "      <th>1</th>\n",
       "      <td>Rapes</td>\n",
       "      <td>Hutchinson</td>\n",
       "      <td>38.060844</td>\n",
       "      <td>-97.929771</td>\n",
       "      <td>2007</td>\n",
       "      <td>19.0</td>\n",
       "    </tr>\n",
       "    <tr>\n",
       "      <th>2</th>\n",
       "      <td>Robberies</td>\n",
       "      <td>Hutchinson</td>\n",
       "      <td>38.060844</td>\n",
       "      <td>-97.929771</td>\n",
       "      <td>2007</td>\n",
       "      <td>22.0</td>\n",
       "    </tr>\n",
       "    <tr>\n",
       "      <th>3</th>\n",
       "      <td>Assaults</td>\n",
       "      <td>Hutchinson</td>\n",
       "      <td>38.060844</td>\n",
       "      <td>-97.929771</td>\n",
       "      <td>2007</td>\n",
       "      <td>187.0</td>\n",
       "    </tr>\n",
       "    <tr>\n",
       "      <th>4</th>\n",
       "      <td>Burglaries</td>\n",
       "      <td>Hutchinson</td>\n",
       "      <td>38.060844</td>\n",
       "      <td>-97.929771</td>\n",
       "      <td>2007</td>\n",
       "      <td>432.0</td>\n",
       "    </tr>\n",
       "    <tr>\n",
       "      <th>5</th>\n",
       "      <td>Thefts</td>\n",
       "      <td>Hutchinson</td>\n",
       "      <td>38.060844</td>\n",
       "      <td>-97.929771</td>\n",
       "      <td>2007</td>\n",
       "      <td>1805.0</td>\n",
       "    </tr>\n",
       "    <tr>\n",
       "      <th>6</th>\n",
       "      <td>Auto thefts</td>\n",
       "      <td>Hutchinson</td>\n",
       "      <td>38.060844</td>\n",
       "      <td>-97.929771</td>\n",
       "      <td>2007</td>\n",
       "      <td>104.0</td>\n",
       "    </tr>\n",
       "    <tr>\n",
       "      <th>7</th>\n",
       "      <td>Arson</td>\n",
       "      <td>Hutchinson</td>\n",
       "      <td>38.060844</td>\n",
       "      <td>-97.929771</td>\n",
       "      <td>2007</td>\n",
       "      <td>32.0</td>\n",
       "    </tr>\n",
       "    <tr>\n",
       "      <th>8</th>\n",
       "      <td>Crime Index</td>\n",
       "      <td>Hutchinson</td>\n",
       "      <td>38.060844</td>\n",
       "      <td>-97.929771</td>\n",
       "      <td>2007</td>\n",
       "      <td>420.0</td>\n",
       "    </tr>\n",
       "    <tr>\n",
       "      <th>9</th>\n",
       "      <td>Murders</td>\n",
       "      <td>Kansas</td>\n",
       "      <td>39.106667</td>\n",
       "      <td>-94.676392</td>\n",
       "      <td>2007</td>\n",
       "      <td>20.0</td>\n",
       "    </tr>\n",
       "    <tr>\n",
       "      <th>10</th>\n",
       "      <td>Rapes</td>\n",
       "      <td>Kansas</td>\n",
       "      <td>39.106667</td>\n",
       "      <td>-94.676392</td>\n",
       "      <td>2007</td>\n",
       "      <td>91.0</td>\n",
       "    </tr>\n",
       "    <tr>\n",
       "      <th>11</th>\n",
       "      <td>Robberies</td>\n",
       "      <td>Kansas</td>\n",
       "      <td>39.106667</td>\n",
       "      <td>-94.676392</td>\n",
       "      <td>2007</td>\n",
       "      <td>489.0</td>\n",
       "    </tr>\n",
       "    <tr>\n",
       "      <th>12</th>\n",
       "      <td>Assaults</td>\n",
       "      <td>Kansas</td>\n",
       "      <td>39.106667</td>\n",
       "      <td>-94.676392</td>\n",
       "      <td>2007</td>\n",
       "      <td>549.0</td>\n",
       "    </tr>\n",
       "    <tr>\n",
       "      <th>13</th>\n",
       "      <td>Burglaries</td>\n",
       "      <td>Kansas</td>\n",
       "      <td>39.106667</td>\n",
       "      <td>-94.676392</td>\n",
       "      <td>2007</td>\n",
       "      <td>2269.0</td>\n",
       "    </tr>\n",
       "    <tr>\n",
       "      <th>14</th>\n",
       "      <td>Thefts</td>\n",
       "      <td>Kansas</td>\n",
       "      <td>39.106667</td>\n",
       "      <td>-94.676392</td>\n",
       "      <td>2007</td>\n",
       "      <td>5431.0</td>\n",
       "    </tr>\n",
       "    <tr>\n",
       "      <th>15</th>\n",
       "      <td>Auto thefts</td>\n",
       "      <td>Kansas</td>\n",
       "      <td>39.106667</td>\n",
       "      <td>-94.676392</td>\n",
       "      <td>2007</td>\n",
       "      <td>2017.0</td>\n",
       "    </tr>\n",
       "    <tr>\n",
       "      <th>16</th>\n",
       "      <td>Arson</td>\n",
       "      <td>Kansas</td>\n",
       "      <td>39.106667</td>\n",
       "      <td>-94.676392</td>\n",
       "      <td>2007</td>\n",
       "      <td>0.0</td>\n",
       "    </tr>\n",
       "    <tr>\n",
       "      <th>17</th>\n",
       "      <td>Crime Index</td>\n",
       "      <td>Kansas</td>\n",
       "      <td>39.106667</td>\n",
       "      <td>-94.676392</td>\n",
       "      <td>2007</td>\n",
       "      <td>632.4</td>\n",
       "    </tr>\n",
       "    <tr>\n",
       "      <th>18</th>\n",
       "      <td>Murders</td>\n",
       "      <td>Lawrence</td>\n",
       "      <td>38.960213</td>\n",
       "      <td>-95.277390</td>\n",
       "      <td>2007</td>\n",
       "      <td>0.0</td>\n",
       "    </tr>\n",
       "    <tr>\n",
       "      <th>19</th>\n",
       "      <td>Rapes</td>\n",
       "      <td>Lawrence</td>\n",
       "      <td>38.960213</td>\n",
       "      <td>-95.277390</td>\n",
       "      <td>2007</td>\n",
       "      <td>48.0</td>\n",
       "    </tr>\n",
       "  </tbody>\n",
       "</table>\n",
       "</div>"
      ],
      "text/plain": [
       "           Type   City name   Latitude  Longitude  Year   value\n",
       "0       Murders  Hutchinson  38.060844 -97.929771  2007     1.0\n",
       "1         Rapes  Hutchinson  38.060844 -97.929771  2007    19.0\n",
       "2     Robberies  Hutchinson  38.060844 -97.929771  2007    22.0\n",
       "3      Assaults  Hutchinson  38.060844 -97.929771  2007   187.0\n",
       "4    Burglaries  Hutchinson  38.060844 -97.929771  2007   432.0\n",
       "5        Thefts  Hutchinson  38.060844 -97.929771  2007  1805.0\n",
       "6   Auto thefts  Hutchinson  38.060844 -97.929771  2007   104.0\n",
       "7         Arson  Hutchinson  38.060844 -97.929771  2007    32.0\n",
       "8   Crime Index  Hutchinson  38.060844 -97.929771  2007   420.0\n",
       "9       Murders      Kansas  39.106667 -94.676392  2007    20.0\n",
       "10        Rapes      Kansas  39.106667 -94.676392  2007    91.0\n",
       "11    Robberies      Kansas  39.106667 -94.676392  2007   489.0\n",
       "12     Assaults      Kansas  39.106667 -94.676392  2007   549.0\n",
       "13   Burglaries      Kansas  39.106667 -94.676392  2007  2269.0\n",
       "14       Thefts      Kansas  39.106667 -94.676392  2007  5431.0\n",
       "15  Auto thefts      Kansas  39.106667 -94.676392  2007  2017.0\n",
       "16        Arson      Kansas  39.106667 -94.676392  2007     0.0\n",
       "17  Crime Index      Kansas  39.106667 -94.676392  2007   632.4\n",
       "18      Murders    Lawrence  38.960213 -95.277390  2007     0.0\n",
       "19        Rapes    Lawrence  38.960213 -95.277390  2007    48.0"
      ]
     },
     "execution_count": 12,
     "metadata": {},
     "output_type": "execute_result"
    }
   ],
   "source": [
    "df.head(20)"
   ]
  },
  {
   "cell_type": "code",
   "execution_count": 13,
   "metadata": {},
   "outputs": [
    {
     "data": {
      "text/plain": [
       "(1260, 6)"
      ]
     },
     "execution_count": 13,
     "metadata": {},
     "output_type": "execute_result"
    }
   ],
   "source": [
    "df.shape"
   ]
  },
  {
   "cell_type": "code",
   "execution_count": 14,
   "metadata": {},
   "outputs": [
    {
     "data": {
      "text/html": [
       "<div>\n",
       "<style scoped>\n",
       "    .dataframe tbody tr th:only-of-type {\n",
       "        vertical-align: middle;\n",
       "    }\n",
       "\n",
       "    .dataframe tbody tr th {\n",
       "        vertical-align: top;\n",
       "    }\n",
       "\n",
       "    .dataframe thead th {\n",
       "        text-align: right;\n",
       "    }\n",
       "</style>\n",
       "<table border=\"1\" class=\"dataframe\">\n",
       "  <thead>\n",
       "    <tr style=\"text-align: right;\">\n",
       "      <th></th>\n",
       "      <th>Type</th>\n",
       "      <th>City name</th>\n",
       "      <th>Latitude</th>\n",
       "      <th>Longitude</th>\n",
       "      <th>Year</th>\n",
       "      <th>Count of Types</th>\n",
       "    </tr>\n",
       "  </thead>\n",
       "  <tbody>\n",
       "    <tr>\n",
       "      <th>0</th>\n",
       "      <td>Murders</td>\n",
       "      <td>Hutchinson</td>\n",
       "      <td>38.060844</td>\n",
       "      <td>-97.929771</td>\n",
       "      <td>2007</td>\n",
       "      <td>1.0</td>\n",
       "    </tr>\n",
       "    <tr>\n",
       "      <th>1</th>\n",
       "      <td>Rapes</td>\n",
       "      <td>Hutchinson</td>\n",
       "      <td>38.060844</td>\n",
       "      <td>-97.929771</td>\n",
       "      <td>2007</td>\n",
       "      <td>19.0</td>\n",
       "    </tr>\n",
       "    <tr>\n",
       "      <th>2</th>\n",
       "      <td>Robberies</td>\n",
       "      <td>Hutchinson</td>\n",
       "      <td>38.060844</td>\n",
       "      <td>-97.929771</td>\n",
       "      <td>2007</td>\n",
       "      <td>22.0</td>\n",
       "    </tr>\n",
       "    <tr>\n",
       "      <th>3</th>\n",
       "      <td>Assaults</td>\n",
       "      <td>Hutchinson</td>\n",
       "      <td>38.060844</td>\n",
       "      <td>-97.929771</td>\n",
       "      <td>2007</td>\n",
       "      <td>187.0</td>\n",
       "    </tr>\n",
       "    <tr>\n",
       "      <th>4</th>\n",
       "      <td>Burglaries</td>\n",
       "      <td>Hutchinson</td>\n",
       "      <td>38.060844</td>\n",
       "      <td>-97.929771</td>\n",
       "      <td>2007</td>\n",
       "      <td>432.0</td>\n",
       "    </tr>\n",
       "  </tbody>\n",
       "</table>\n",
       "</div>"
      ],
      "text/plain": [
       "         Type   City name   Latitude  Longitude  Year  Count of Types\n",
       "0     Murders  Hutchinson  38.060844 -97.929771  2007             1.0\n",
       "1       Rapes  Hutchinson  38.060844 -97.929771  2007            19.0\n",
       "2   Robberies  Hutchinson  38.060844 -97.929771  2007            22.0\n",
       "3    Assaults  Hutchinson  38.060844 -97.929771  2007           187.0\n",
       "4  Burglaries  Hutchinson  38.060844 -97.929771  2007           432.0"
      ]
     },
     "execution_count": 14,
     "metadata": {},
     "output_type": "execute_result"
    }
   ],
   "source": [
    "# rename the value column in df to Count of Types\n",
    "df.rename(columns={'value':'Count of Types'}, inplace=True)\n",
    "\n",
    "df.head()"
   ]
  },
  {
   "cell_type": "code",
   "execution_count": 15,
   "metadata": {},
   "outputs": [
    {
     "data": {
      "text/html": [
       "<div>\n",
       "<style scoped>\n",
       "    .dataframe tbody tr th:only-of-type {\n",
       "        vertical-align: middle;\n",
       "    }\n",
       "\n",
       "    .dataframe tbody tr th {\n",
       "        vertical-align: top;\n",
       "    }\n",
       "\n",
       "    .dataframe thead th {\n",
       "        text-align: right;\n",
       "    }\n",
       "</style>\n",
       "<table border=\"1\" class=\"dataframe\">\n",
       "  <thead>\n",
       "    <tr style=\"text-align: right;\">\n",
       "      <th></th>\n",
       "      <th>Type</th>\n",
       "      <th>City name</th>\n",
       "      <th>Latitude</th>\n",
       "      <th>Longitude</th>\n",
       "      <th>Year</th>\n",
       "      <th>Count of Types</th>\n",
       "    </tr>\n",
       "  </thead>\n",
       "  <tbody>\n",
       "    <tr>\n",
       "      <th>8</th>\n",
       "      <td>Crime Index</td>\n",
       "      <td>Hutchinson</td>\n",
       "      <td>38.060844</td>\n",
       "      <td>-97.929771</td>\n",
       "      <td>2007</td>\n",
       "      <td>420.0</td>\n",
       "    </tr>\n",
       "    <tr>\n",
       "      <th>17</th>\n",
       "      <td>Crime Index</td>\n",
       "      <td>Kansas</td>\n",
       "      <td>39.106667</td>\n",
       "      <td>-94.676392</td>\n",
       "      <td>2007</td>\n",
       "      <td>632.4</td>\n",
       "    </tr>\n",
       "    <tr>\n",
       "      <th>26</th>\n",
       "      <td>Crime Index</td>\n",
       "      <td>Lawrence</td>\n",
       "      <td>38.960213</td>\n",
       "      <td>-95.277390</td>\n",
       "      <td>2007</td>\n",
       "      <td>381.8</td>\n",
       "    </tr>\n",
       "    <tr>\n",
       "      <th>35</th>\n",
       "      <td>Crime Index</td>\n",
       "      <td>Lenexa</td>\n",
       "      <td>38.953600</td>\n",
       "      <td>94.733600</td>\n",
       "      <td>2007</td>\n",
       "      <td>199.6</td>\n",
       "    </tr>\n",
       "    <tr>\n",
       "      <th>44</th>\n",
       "      <td>Crime Index</td>\n",
       "      <td>Olathe</td>\n",
       "      <td>38.881400</td>\n",
       "      <td>94.819100</td>\n",
       "      <td>2007</td>\n",
       "      <td>247.4</td>\n",
       "    </tr>\n",
       "  </tbody>\n",
       "</table>\n",
       "</div>"
      ],
      "text/plain": [
       "           Type   City name   Latitude  Longitude  Year  Count of Types\n",
       "8   Crime Index  Hutchinson  38.060844 -97.929771  2007           420.0\n",
       "17  Crime Index      Kansas  39.106667 -94.676392  2007           632.4\n",
       "26  Crime Index    Lawrence  38.960213 -95.277390  2007           381.8\n",
       "35  Crime Index      Lenexa  38.953600  94.733600  2007           199.6\n",
       "44  Crime Index      Olathe  38.881400  94.819100  2007           247.4"
      ]
     },
     "execution_count": 15,
     "metadata": {},
     "output_type": "execute_result"
    }
   ],
   "source": [
    "# Identify rows where 'Type' contains 'Crime Index'\n",
    "crime_index_rows = df['Type'].str.contains('Crime Index')\n",
    "\n",
    "# Create a new DataFrame for 'Crime Index' rows\n",
    "crime_index_df = df[crime_index_rows]\n",
    "\n",
    "crime_index_df.head()\n"
   ]
  },
  {
   "cell_type": "code",
   "execution_count": 16,
   "metadata": {},
   "outputs": [],
   "source": [
    "# drop the row where 'Type' contains 'Crime Index' value\n",
    "# create a Boolean mask for the rows to remove\n",
    "mask = df['Type'] == 'Crime Index'\n",
    "\n",
    "# select all rows except the ones that contain 'Coca Cola'\n",
    "df = df[~mask]"
   ]
  },
  {
   "cell_type": "code",
   "execution_count": 17,
   "metadata": {},
   "outputs": [
    {
     "data": {
      "text/html": [
       "<div>\n",
       "<style scoped>\n",
       "    .dataframe tbody tr th:only-of-type {\n",
       "        vertical-align: middle;\n",
       "    }\n",
       "\n",
       "    .dataframe tbody tr th {\n",
       "        vertical-align: top;\n",
       "    }\n",
       "\n",
       "    .dataframe thead th {\n",
       "        text-align: right;\n",
       "    }\n",
       "</style>\n",
       "<table border=\"1\" class=\"dataframe\">\n",
       "  <thead>\n",
       "    <tr style=\"text-align: right;\">\n",
       "      <th></th>\n",
       "      <th>Type</th>\n",
       "      <th>City name</th>\n",
       "      <th>Year</th>\n",
       "      <th>Count of Types</th>\n",
       "    </tr>\n",
       "  </thead>\n",
       "  <tbody>\n",
       "    <tr>\n",
       "      <th>8</th>\n",
       "      <td>Crime Index</td>\n",
       "      <td>Hutchinson</td>\n",
       "      <td>2007</td>\n",
       "      <td>420.0</td>\n",
       "    </tr>\n",
       "    <tr>\n",
       "      <th>17</th>\n",
       "      <td>Crime Index</td>\n",
       "      <td>Kansas</td>\n",
       "      <td>2007</td>\n",
       "      <td>632.4</td>\n",
       "    </tr>\n",
       "    <tr>\n",
       "      <th>26</th>\n",
       "      <td>Crime Index</td>\n",
       "      <td>Lawrence</td>\n",
       "      <td>2007</td>\n",
       "      <td>381.8</td>\n",
       "    </tr>\n",
       "    <tr>\n",
       "      <th>35</th>\n",
       "      <td>Crime Index</td>\n",
       "      <td>Lenexa</td>\n",
       "      <td>2007</td>\n",
       "      <td>199.6</td>\n",
       "    </tr>\n",
       "    <tr>\n",
       "      <th>44</th>\n",
       "      <td>Crime Index</td>\n",
       "      <td>Olathe</td>\n",
       "      <td>2007</td>\n",
       "      <td>247.4</td>\n",
       "    </tr>\n",
       "  </tbody>\n",
       "</table>\n",
       "</div>"
      ],
      "text/plain": [
       "           Type   City name  Year  Count of Types\n",
       "8   Crime Index  Hutchinson  2007           420.0\n",
       "17  Crime Index      Kansas  2007           632.4\n",
       "26  Crime Index    Lawrence  2007           381.8\n",
       "35  Crime Index      Lenexa  2007           199.6\n",
       "44  Crime Index      Olathe  2007           247.4"
      ]
     },
     "execution_count": 17,
     "metadata": {},
     "output_type": "execute_result"
    }
   ],
   "source": [
    "# drop the latitude and longitude columns as they are not needed\n",
    "crime_index_df.drop(['Latitude', 'Longitude'], axis=1, inplace=True)\n",
    "\n",
    "crime_index_df.head()"
   ]
  },
  {
   "cell_type": "code",
   "execution_count": 18,
   "metadata": {},
   "outputs": [
    {
     "data": {
      "text/html": [
       "<div>\n",
       "<style scoped>\n",
       "    .dataframe tbody tr th:only-of-type {\n",
       "        vertical-align: middle;\n",
       "    }\n",
       "\n",
       "    .dataframe tbody tr th {\n",
       "        vertical-align: top;\n",
       "    }\n",
       "\n",
       "    .dataframe thead th {\n",
       "        text-align: right;\n",
       "    }\n",
       "</style>\n",
       "<table border=\"1\" class=\"dataframe\">\n",
       "  <thead>\n",
       "    <tr style=\"text-align: right;\">\n",
       "      <th></th>\n",
       "      <th>Crime Index</th>\n",
       "      <th>City name</th>\n",
       "      <th>Year</th>\n",
       "      <th>Value of CI</th>\n",
       "    </tr>\n",
       "  </thead>\n",
       "  <tbody>\n",
       "    <tr>\n",
       "      <th>8</th>\n",
       "      <td>Crime Index</td>\n",
       "      <td>Hutchinson</td>\n",
       "      <td>2007</td>\n",
       "      <td>420.0</td>\n",
       "    </tr>\n",
       "    <tr>\n",
       "      <th>17</th>\n",
       "      <td>Crime Index</td>\n",
       "      <td>Kansas</td>\n",
       "      <td>2007</td>\n",
       "      <td>632.4</td>\n",
       "    </tr>\n",
       "    <tr>\n",
       "      <th>26</th>\n",
       "      <td>Crime Index</td>\n",
       "      <td>Lawrence</td>\n",
       "      <td>2007</td>\n",
       "      <td>381.8</td>\n",
       "    </tr>\n",
       "    <tr>\n",
       "      <th>35</th>\n",
       "      <td>Crime Index</td>\n",
       "      <td>Lenexa</td>\n",
       "      <td>2007</td>\n",
       "      <td>199.6</td>\n",
       "    </tr>\n",
       "    <tr>\n",
       "      <th>44</th>\n",
       "      <td>Crime Index</td>\n",
       "      <td>Olathe</td>\n",
       "      <td>2007</td>\n",
       "      <td>247.4</td>\n",
       "    </tr>\n",
       "  </tbody>\n",
       "</table>\n",
       "</div>"
      ],
      "text/plain": [
       "    Crime Index   City name  Year  Value of CI\n",
       "8   Crime Index  Hutchinson  2007        420.0\n",
       "17  Crime Index      Kansas  2007        632.4\n",
       "26  Crime Index    Lawrence  2007        381.8\n",
       "35  Crime Index      Lenexa  2007        199.6\n",
       "44  Crime Index      Olathe  2007        247.4"
      ]
     },
     "execution_count": 18,
     "metadata": {},
     "output_type": "execute_result"
    }
   ],
   "source": [
    "# rename the value column in crime_index_df to Value of CI\n",
    "# rename the Type column to Crime Index\n",
    "crime_index_df.rename(columns={'Count of Types':'Value of CI', 'Type':'Crime Index'}, inplace=True)\n",
    "\n",
    "crime_index_df.head()\n"
   ]
  },
  {
   "cell_type": "code",
   "execution_count": 19,
   "metadata": {},
   "outputs": [
    {
     "data": {
      "text/html": [
       "<div>\n",
       "<style scoped>\n",
       "    .dataframe tbody tr th:only-of-type {\n",
       "        vertical-align: middle;\n",
       "    }\n",
       "\n",
       "    .dataframe tbody tr th {\n",
       "        vertical-align: top;\n",
       "    }\n",
       "\n",
       "    .dataframe thead th {\n",
       "        text-align: right;\n",
       "    }\n",
       "</style>\n",
       "<table border=\"1\" class=\"dataframe\">\n",
       "  <thead>\n",
       "    <tr style=\"text-align: right;\">\n",
       "      <th></th>\n",
       "      <th>City name</th>\n",
       "      <th>Year</th>\n",
       "      <th>Crime Index</th>\n",
       "    </tr>\n",
       "  </thead>\n",
       "  <tbody>\n",
       "    <tr>\n",
       "      <th>8</th>\n",
       "      <td>Hutchinson</td>\n",
       "      <td>2007</td>\n",
       "      <td>420.0</td>\n",
       "    </tr>\n",
       "    <tr>\n",
       "      <th>17</th>\n",
       "      <td>Kansas</td>\n",
       "      <td>2007</td>\n",
       "      <td>632.4</td>\n",
       "    </tr>\n",
       "    <tr>\n",
       "      <th>26</th>\n",
       "      <td>Lawrence</td>\n",
       "      <td>2007</td>\n",
       "      <td>381.8</td>\n",
       "    </tr>\n",
       "    <tr>\n",
       "      <th>35</th>\n",
       "      <td>Lenexa</td>\n",
       "      <td>2007</td>\n",
       "      <td>199.6</td>\n",
       "    </tr>\n",
       "    <tr>\n",
       "      <th>44</th>\n",
       "      <td>Olathe</td>\n",
       "      <td>2007</td>\n",
       "      <td>247.4</td>\n",
       "    </tr>\n",
       "  </tbody>\n",
       "</table>\n",
       "</div>"
      ],
      "text/plain": [
       "     City name  Year  Crime Index\n",
       "8   Hutchinson  2007        420.0\n",
       "17      Kansas  2007        632.4\n",
       "26    Lawrence  2007        381.8\n",
       "35      Lenexa  2007        199.6\n",
       "44      Olathe  2007        247.4"
      ]
     },
     "execution_count": 19,
     "metadata": {},
     "output_type": "execute_result"
    }
   ],
   "source": [
    "# drop the rows Crime Index, and rename the value column to crime index\n",
    "crime_index_df.drop('Crime Index', axis=1, inplace=True)\n",
    "\n",
    "crime_index_df.rename(columns={'Value of CI':'Crime Index'}, inplace=True)\n",
    "\n",
    "crime_index_df.head()"
   ]
  },
  {
   "cell_type": "code",
   "execution_count": 20,
   "metadata": {},
   "outputs": [
    {
     "data": {
      "text/html": [
       "<div>\n",
       "<style scoped>\n",
       "    .dataframe tbody tr th:only-of-type {\n",
       "        vertical-align: middle;\n",
       "    }\n",
       "\n",
       "    .dataframe tbody tr th {\n",
       "        vertical-align: top;\n",
       "    }\n",
       "\n",
       "    .dataframe thead th {\n",
       "        text-align: right;\n",
       "    }\n",
       "</style>\n",
       "<table border=\"1\" class=\"dataframe\">\n",
       "  <thead>\n",
       "    <tr style=\"text-align: right;\">\n",
       "      <th></th>\n",
       "      <th>Type</th>\n",
       "      <th>City name</th>\n",
       "      <th>Latitude</th>\n",
       "      <th>Longitude</th>\n",
       "      <th>Year</th>\n",
       "      <th>Count of Types</th>\n",
       "      <th>Crime Index</th>\n",
       "    </tr>\n",
       "  </thead>\n",
       "  <tbody>\n",
       "    <tr>\n",
       "      <th>0</th>\n",
       "      <td>Murders</td>\n",
       "      <td>Hutchinson</td>\n",
       "      <td>38.060844</td>\n",
       "      <td>-97.929771</td>\n",
       "      <td>2007</td>\n",
       "      <td>1.0</td>\n",
       "      <td>420.0</td>\n",
       "    </tr>\n",
       "    <tr>\n",
       "      <th>1</th>\n",
       "      <td>Rapes</td>\n",
       "      <td>Hutchinson</td>\n",
       "      <td>38.060844</td>\n",
       "      <td>-97.929771</td>\n",
       "      <td>2007</td>\n",
       "      <td>19.0</td>\n",
       "      <td>420.0</td>\n",
       "    </tr>\n",
       "    <tr>\n",
       "      <th>2</th>\n",
       "      <td>Robberies</td>\n",
       "      <td>Hutchinson</td>\n",
       "      <td>38.060844</td>\n",
       "      <td>-97.929771</td>\n",
       "      <td>2007</td>\n",
       "      <td>22.0</td>\n",
       "      <td>420.0</td>\n",
       "    </tr>\n",
       "    <tr>\n",
       "      <th>3</th>\n",
       "      <td>Assaults</td>\n",
       "      <td>Hutchinson</td>\n",
       "      <td>38.060844</td>\n",
       "      <td>-97.929771</td>\n",
       "      <td>2007</td>\n",
       "      <td>187.0</td>\n",
       "      <td>420.0</td>\n",
       "    </tr>\n",
       "    <tr>\n",
       "      <th>4</th>\n",
       "      <td>Burglaries</td>\n",
       "      <td>Hutchinson</td>\n",
       "      <td>38.060844</td>\n",
       "      <td>-97.929771</td>\n",
       "      <td>2007</td>\n",
       "      <td>432.0</td>\n",
       "      <td>420.0</td>\n",
       "    </tr>\n",
       "  </tbody>\n",
       "</table>\n",
       "</div>"
      ],
      "text/plain": [
       "         Type   City name   Latitude  Longitude  Year  Count of Types  \\\n",
       "0     Murders  Hutchinson  38.060844 -97.929771  2007             1.0   \n",
       "1       Rapes  Hutchinson  38.060844 -97.929771  2007            19.0   \n",
       "2   Robberies  Hutchinson  38.060844 -97.929771  2007            22.0   \n",
       "3    Assaults  Hutchinson  38.060844 -97.929771  2007           187.0   \n",
       "4  Burglaries  Hutchinson  38.060844 -97.929771  2007           432.0   \n",
       "\n",
       "   Crime Index  \n",
       "0        420.0  \n",
       "1        420.0  \n",
       "2        420.0  \n",
       "3        420.0  \n",
       "4        420.0  "
      ]
     },
     "execution_count": 20,
     "metadata": {},
     "output_type": "execute_result"
    }
   ],
   "source": [
    "# join the crime_index_df with df on the right side of the df dataframe, creating a new dataframe called df_new\n",
    "df_new = pd.merge(df, crime_index_df, how='left', on=['City name', 'Year'])\n",
    "\n",
    "df_new.head()\n"
   ]
  },
  {
   "cell_type": "code",
   "execution_count": 21,
   "metadata": {},
   "outputs": [
    {
     "data": {
      "text/plain": [
       "(1120, 7)"
      ]
     },
     "execution_count": 21,
     "metadata": {},
     "output_type": "execute_result"
    }
   ],
   "source": [
    "df_new.shape"
   ]
  },
  {
   "cell_type": "code",
   "execution_count": 22,
   "metadata": {},
   "outputs": [
    {
     "data": {
      "text/plain": [
       "Type              0\n",
       "City name         0\n",
       "Latitude          0\n",
       "Longitude         0\n",
       "Year              0\n",
       "Count of Types    0\n",
       "Crime Index       0\n",
       "dtype: int64"
      ]
     },
     "execution_count": 22,
     "metadata": {},
     "output_type": "execute_result"
    }
   ],
   "source": [
    "df_new.isna().sum()"
   ]
  },
  {
   "cell_type": "markdown",
   "metadata": {},
   "source": [
    "## EDA"
   ]
  },
  {
   "cell_type": "code",
   "execution_count": 23,
   "metadata": {},
   "outputs": [
    {
     "data": {
      "text/plain": [
       "Text(0.5, 1.0, 'Count of Crime Types Boxplot')"
      ]
     },
     "execution_count": 23,
     "metadata": {},
     "output_type": "execute_result"
    },
    {
     "data": {
      "image/png": "[encoded data removed]",
      "text/plain": [
       "<Figure size 1000x1000 with 1 Axes>"
      ]
     },
     "metadata": {},
     "output_type": "display_data"
    },
    {
     "data": {
      "image/png": "[encoded data removed]",
      "text/plain": [
       "<Figure size 1000x1000 with 1 Axes>"
      ]
     },
     "metadata": {},
     "output_type": "display_data"
    },
    {
     "data": {
      "image/png": "[encoded data removed]",
      "text/plain": [
       "<Figure size 1000x1000 with 1 Axes>"
      ]
     },
     "metadata": {},
     "output_type": "display_data"
    }
   ],
   "source": [
    "# box plots for crime index\n",
    "plt.figure(figsize=(10,10))\n",
    "sns.boxplot(x='Year', y='Crime Index', data=df_new)\n",
    "plt.title('Crime Index Boxplot', fontsize=20)\n",
    "\n",
    "# box plots for count of types\n",
    "plt.figure(figsize=(10,10))\n",
    "sns.boxplot(x='Year', y='Count of Types', data=df_new)\n",
    "\n",
    "# box plots for count of types\n",
    "plt.figure(figsize=(10,10))\n",
    "sns.boxplot(x='Year', y='Count of Types', data=df_new)\n",
    "plt.title('Count of Crime Types Boxplot', fontsize=20)"
   ]
  },
  {
   "cell_type": "code",
   "execution_count": 24,
   "metadata": {},
   "outputs": [
    {
     "data": {
      "application/vnd.plotly.v1+json": {
       "config": {
        "plotlyServerURL": "https://plot.ly"
       },
       "data": [
        {
         "hovertemplate": "City name=Hutchinson<br>Year=%{x}<br>Crime Index=%{y}<extra></extra>",
         "legendgroup": "Hutchinson",
         "line": {
          "color": "#636efa",
          "dash": "solid"
         },
         "marker": {
          "symbol": "circle"
         },
         "mode": "lines",
         "name": "Hutchinson",
         "showlegend": true,
         "type": "scattergl",
         "x": [
          "2007",
          "2007",
          "2007",
          "2007",
          "2007",
          "2007",
          "2007",
          "2007",
          "2008",
          "2008",
          "2008",
          "2008",
          "2008",
          "2008",
          "2008",
          "2008",
          "2009",
          "2009",
          "2009",
          "2009",
          "2009",
          "2009",
          "2009",
          "2009",
          "2010",
          "2010",
          "2010",
          "2010",
          "2010",
          "2010",
          "2010",
          "2010",
          "2011",
          "2011",
          "2011",
          "2011",
          "2011",
          "2011",
          "2011",
          "2011",
          "2012",
          "2012",
          "2012",
          "2012",
          "2012",
          "2012",
          "2012",
          "2012",
          "2013",
          "2013",
          "2013",
          "2013",
          "2013",
          "2013",
          "2013",
          "2013",
          "2014",
          "2014",
          "2014",
          "2014",
          "2014",
          "2014",
          "2014",
          "2014",
          "2015",
          "2015",
          "2015",
          "2015",
          "2015",
          "2015",
          "2015",
          "2015",
          "2016",
          "2016",
          "2016",
          "2016",
          "2016",
          "2016",
          "2016",
          "2016",
          "2017",
          "2017",
          "2017",
          "2017",
          "2017",
          "2017",
          "2017",
          "2017",
          "2018",
          "2018",
          "2018",
          "2018",
          "2018",
          "2018",
          "2018",
          "2018",
          "2019",
          "2019",
          "2019",
          "2019",
          "2019",
          "2019",
          "2019",
          "2019",
          "2020",
          "2020",
          "2020",
          "2020",
          "2020",
          "2020",
          "2020",
          "2020"
         ],
         "xaxis": "x",
         "y": [
          420,
          420,
          420,
          420,
          420,
          420,
          420,
          420,
          470.9,
          470.9,
          470.9,
          470.9,
          470.9,
          470.9,
          470.9,
          470.9,
          425.3,
          425.3,
          425.3,
          425.3,
          425.3,
          425.3,
          425.3,
          425.3,
          496.6,
          496.6,
          496.6,
          496.6,
          496.6,
          496.6,
          496.6,
          496.6,
          460,
          460,
          460,
          460,
          460,
          460,
          460,
          460,
          457.7,
          457.7,
          457.7,
          457.7,
          457.7,
          457.7,
          457.7,
          457.7,
          463.8,
          463.8,
          463.8,
          463.8,
          463.8,
          463.8,
          463.8,
          463.8,
          348.3,
          348.3,
          348.3,
          348.3,
          348.3,
          348.3,
          348.3,
          348.3,
          402.2,
          402.2,
          402.2,
          402.2,
          402.2,
          402.2,
          402.2,
          402.2,
          385.7,
          385.7,
          385.7,
          385.7,
          385.7,
          385.7,
          385.7,
          385.7,
          428.4,
          428.4,
          428.4,
          428.4,
          428.4,
          428.4,
          428.4,
          428.4,
          351.5,
          351.5,
          351.5,
          351.5,
          351.5,
          351.5,
          351.5,
          351.5,
          278,
          278,
          278,
          278,
          278,
          278,
          278,
          278,
          117.2,
          117.2,
          117.2,
          117.2,
          117.2,
          117.2,
          117.2,
          117.2
         ],
         "yaxis": "y"
        },
        {
         "hovertemplate": "City name=Kansas<br>Year=%{x}<br>Crime Index=%{y}<extra></extra>",
         "legendgroup": "Kansas",
         "line": {
          "color": "#EF553B",
          "dash": "solid"
         },
         "marker": {
          "symbol": "circle"
         },
         "mode": "lines",
         "name": "Kansas",
         "showlegend": true,
         "type": "scattergl",
         "x": [
          "2007",
          "2007",
          "2007",
          "2007",
          "2007",
          "2007",
          "2007",
          "2007",
          "2008",
          "2008",
          "2008",
          "2008",
          "2008",
          "2008",
          "2008",
          "2008",
          "2009",
          "2009",
          "2009",
          "2009",
          "2009",
          "2009",
          "2009",
          "2009",
          "2010",
          "2010",
          "2010",
          "2010",
          "2010",
          "2010",
          "2010",
          "2010",
          "2011",
          "2011",
          "2011",
          "2011",
          "2011",
          "2011",
          "2011",
          "2011",
          "2012",
          "2012",
          "2012",
          "2012",
          "2012",
          "2012",
          "2012",
          "2012",
          "2013",
          "2013",
          "2013",
          "2013",
          "2013",
          "2013",
          "2013",
          "2013",
          "2014",
          "2014",
          "2014",
          "2014",
          "2014",
          "2014",
          "2014",
          "2014",
          "2015",
          "2015",
          "2015",
          "2015",
          "2015",
          "2015",
          "2015",
          "2015",
          "2016",
          "2016",
          "2016",
          "2016",
          "2016",
          "2016",
          "2016",
          "2016",
          "2017",
          "2017",
          "2017",
          "2017",
          "2017",
          "2017",
          "2017",
          "2017",
          "2018",
          "2018",
          "2018",
          "2018",
          "2018",
          "2018",
          "2018",
          "2018",
          "2019",
          "2019",
          "2019",
          "2019",
          "2019",
          "2019",
          "2019",
          "2019",
          "2020",
          "2020",
          "2020",
          "2020",
          "2020",
          "2020",
          "2020",
          "2020"
         ],
         "xaxis": "x",
         "y": [
          632.4,
          632.4,
          632.4,
          632.4,
          632.4,
          632.4,
          632.4,
          632.4,
          406.3,
          406.3,
          406.3,
          406.3,
          406.3,
          406.3,
          406.3,
          406.3,
          521.6,
          521.6,
          521.6,
          521.6,
          521.6,
          521.6,
          521.6,
          521.6,
          471.9,
          471.9,
          471.9,
          471.9,
          471.9,
          471.9,
          471.9,
          471.9,
          507.7,
          507.7,
          507.7,
          507.7,
          507.7,
          507.7,
          507.7,
          507.7,
          464.7,
          464.7,
          464.7,
          464.7,
          464.7,
          464.7,
          464.7,
          464.7,
          440.1,
          440.1,
          440.1,
          440.1,
          440.1,
          440.1,
          440.1,
          440.1,
          538.5,
          538.5,
          538.5,
          538.5,
          538.5,
          538.5,
          538.5,
          538.5,
          553.9,
          553.9,
          553.9,
          553.9,
          553.9,
          553.9,
          553.9,
          553.9,
          0,
          0,
          0,
          0,
          0,
          0,
          0,
          0,
          0,
          0,
          0,
          0,
          0,
          0,
          0,
          0,
          0,
          0,
          0,
          0,
          0,
          0,
          0,
          0,
          0,
          0,
          0,
          0,
          0,
          0,
          0,
          0,
          0,
          0,
          0,
          0,
          0,
          0,
          0,
          0
         ],
         "yaxis": "y"
        },
        {
         "hovertemplate": "City name=Lawrence<br>Year=%{x}<br>Crime Index=%{y}<extra></extra>",
         "legendgroup": "Lawrence",
         "line": {
          "color": "#00cc96",
          "dash": "solid"
         },
         "marker": {
          "symbol": "circle"
         },
         "mode": "lines",
         "name": "Lawrence",
         "showlegend": true,
         "type": "scattergl",
         "x": [
          "2007",
          "2007",
          "2007",
          "2007",
          "2007",
          "2007",
          "2007",
          "2007",
          "2008",
          "2008",
          "2008",
          "2008",
          "2008",
          "2008",
          "2008",
          "2008",
          "2009",
          "2009",
          "2009",
          "2009",
          "2009",
          "2009",
          "2009",
          "2009",
          "2010",
          "2010",
          "2010",
          "2010",
          "2010",
          "2010",
          "2010",
          "2010",
          "2011",
          "2011",
          "2011",
          "2011",
          "2011",
          "2011",
          "2011",
          "2011",
          "2012",
          "2012",
          "2012",
          "2012",
          "2012",
          "2012",
          "2012",
          "2012",
          "2013",
          "2013",
          "2013",
          "2013",
          "2013",
          "2013",
          "2013",
          "2013",
          "2014",
          "2014",
          "2014",
          "2014",
          "2014",
          "2014",
          "2014",
          "2014",
          "2015",
          "2015",
          "2015",
          "2015",
          "2015",
          "2015",
          "2015",
          "2015",
          "2016",
          "2016",
          "2016",
          "2016",
          "2016",
          "2016",
          "2016",
          "2016",
          "2017",
          "2017",
          "2017",
          "2017",
          "2017",
          "2017",
          "2017",
          "2017",
          "2018",
          "2018",
          "2018",
          "2018",
          "2018",
          "2018",
          "2018",
          "2018",
          "2019",
          "2019",
          "2019",
          "2019",
          "2019",
          "2019",
          "2019",
          "2019",
          "2020",
          "2020",
          "2020",
          "2020",
          "2020",
          "2020",
          "2020",
          "2020"
         ],
         "xaxis": "x",
         "y": [
          381.8,
          381.8,
          381.8,
          381.8,
          381.8,
          381.8,
          381.8,
          381.8,
          375.5,
          375.5,
          375.5,
          375.5,
          375.5,
          375.5,
          375.5,
          375.5,
          365.8,
          365.8,
          365.8,
          365.8,
          365.8,
          365.8,
          365.8,
          365.8,
          333.4,
          333.4,
          333.4,
          333.4,
          333.4,
          333.4,
          333.4,
          333.4,
          308.7,
          308.7,
          308.7,
          308.7,
          308.7,
          308.7,
          308.7,
          308.7,
          335.7,
          335.7,
          335.7,
          335.7,
          335.7,
          335.7,
          335.7,
          335.7,
          314.8,
          314.8,
          314.8,
          314.8,
          314.8,
          314.8,
          314.8,
          314.8,
          162.4,
          162.4,
          162.4,
          162.4,
          162.4,
          162.4,
          162.4,
          162.4,
          0,
          0,
          0,
          0,
          0,
          0,
          0,
          0,
          0,
          0,
          0,
          0,
          0,
          0,
          0,
          0,
          0,
          0,
          0,
          0,
          0,
          0,
          0,
          0,
          0,
          0,
          0,
          0,
          0,
          0,
          0,
          0,
          0,
          0,
          0,
          0,
          0,
          0,
          0,
          0,
          0,
          0,
          0,
          0,
          0,
          0,
          0,
          0
         ],
         "yaxis": "y"
        },
        {
         "hovertemplate": "City name=Lenexa<br>Year=%{x}<br>Crime Index=%{y}<extra></extra>",
         "legendgroup": "Lenexa",
         "line": {
          "color": "#ab63fa",
          "dash": "solid"
         },
         "marker": {
          "symbol": "circle"
         },
         "mode": "lines",
         "name": "Lenexa",
         "showlegend": true,
         "type": "scattergl",
         "x": [
          "2007",
          "2007",
          "2007",
          "2007",
          "2007",
          "2007",
          "2007",
          "2007",
          "2008",
          "2008",
          "2008",
          "2008",
          "2008",
          "2008",
          "2008",
          "2008",
          "2009",
          "2009",
          "2009",
          "2009",
          "2009",
          "2009",
          "2009",
          "2009",
          "2010",
          "2010",
          "2010",
          "2010",
          "2010",
          "2010",
          "2010",
          "2010",
          "2011",
          "2011",
          "2011",
          "2011",
          "2011",
          "2011",
          "2011",
          "2011",
          "2012",
          "2012",
          "2012",
          "2012",
          "2012",
          "2012",
          "2012",
          "2012",
          "2013",
          "2013",
          "2013",
          "2013",
          "2013",
          "2013",
          "2013",
          "2013",
          "2014",
          "2014",
          "2014",
          "2014",
          "2014",
          "2014",
          "2014",
          "2014",
          "2015",
          "2015",
          "2015",
          "2015",
          "2015",
          "2015",
          "2015",
          "2015",
          "2016",
          "2016",
          "2016",
          "2016",
          "2016",
          "2016",
          "2016",
          "2016",
          "2017",
          "2017",
          "2017",
          "2017",
          "2017",
          "2017",
          "2017",
          "2017",
          "2018",
          "2018",
          "2018",
          "2018",
          "2018",
          "2018",
          "2018",
          "2018",
          "2019",
          "2019",
          "2019",
          "2019",
          "2019",
          "2019",
          "2019",
          "2019",
          "2020",
          "2020",
          "2020",
          "2020",
          "2020",
          "2020",
          "2020",
          "2020"
         ],
         "xaxis": "x",
         "y": [
          199.6,
          199.6,
          199.6,
          199.6,
          199.6,
          199.6,
          199.6,
          199.6,
          182.1,
          182.1,
          182.1,
          182.1,
          182.1,
          182.1,
          182.1,
          182.1,
          156.9,
          156.9,
          156.9,
          156.9,
          156.9,
          156.9,
          156.9,
          156.9,
          144.6,
          144.6,
          144.6,
          144.6,
          144.6,
          144.6,
          144.6,
          144.6,
          154.8,
          154.8,
          154.8,
          154.8,
          154.8,
          154.8,
          154.8,
          154.8,
          132.2,
          132.2,
          132.2,
          132.2,
          132.2,
          132.2,
          132.2,
          132.2,
          121,
          121,
          121,
          121,
          121,
          121,
          121,
          121,
          115.9,
          115.9,
          115.9,
          115.9,
          115.9,
          115.9,
          115.9,
          115.9,
          121.9,
          121.9,
          121.9,
          121.9,
          121.9,
          121.9,
          121.9,
          121.9,
          119.8,
          119.8,
          119.8,
          119.8,
          119.8,
          119.8,
          119.8,
          119.8,
          144.6,
          144.6,
          144.6,
          144.6,
          144.6,
          144.6,
          144.6,
          144.6,
          130.6,
          130.6,
          130.6,
          130.6,
          130.6,
          130.6,
          130.6,
          130.6,
          113.7,
          113.7,
          113.7,
          113.7,
          113.7,
          113.7,
          113.7,
          113.7,
          131.5,
          131.5,
          131.5,
          131.5,
          131.5,
          131.5,
          131.5,
          131.5
         ],
         "yaxis": "y"
        },
        {
         "hovertemplate": "City name=Olathe<br>Year=%{x}<br>Crime Index=%{y}<extra></extra>",
         "legendgroup": "Olathe",
         "line": {
          "color": "#FFA15A",
          "dash": "solid"
         },
         "marker": {
          "symbol": "circle"
         },
         "mode": "lines",
         "name": "Olathe",
         "showlegend": true,
         "type": "scattergl",
         "x": [
          "2007",
          "2007",
          "2007",
          "2007",
          "2007",
          "2007",
          "2007",
          "2007",
          "2008",
          "2008",
          "2008",
          "2008",
          "2008",
          "2008",
          "2008",
          "2008",
          "2009",
          "2009",
          "2009",
          "2009",
          "2009",
          "2009",
          "2009",
          "2009",
          "2010",
          "2010",
          "2010",
          "2010",
          "2010",
          "2010",
          "2010",
          "2010",
          "2011",
          "2011",
          "2011",
          "2011",
          "2011",
          "2011",
          "2011",
          "2011",
          "2012",
          "2012",
          "2012",
          "2012",
          "2012",
          "2012",
          "2012",
          "2012",
          "2013",
          "2013",
          "2013",
          "2013",
          "2013",
          "2013",
          "2013",
          "2013",
          "2014",
          "2014",
          "2014",
          "2014",
          "2014",
          "2014",
          "2014",
          "2014",
          "2015",
          "2015",
          "2015",
          "2015",
          "2015",
          "2015",
          "2015",
          "2015",
          "2016",
          "2016",
          "2016",
          "2016",
          "2016",
          "2016",
          "2016",
          "2016",
          "2017",
          "2017",
          "2017",
          "2017",
          "2017",
          "2017",
          "2017",
          "2017",
          "2018",
          "2018",
          "2018",
          "2018",
          "2018",
          "2018",
          "2018",
          "2018",
          "2019",
          "2019",
          "2019",
          "2019",
          "2019",
          "2019",
          "2019",
          "2019",
          "2020",
          "2020",
          "2020",
          "2020",
          "2020",
          "2020",
          "2020",
          "2020"
         ],
         "xaxis": "x",
         "y": [
          247.4,
          247.4,
          247.4,
          247.4,
          247.4,
          247.4,
          247.4,
          247.4,
          232.8,
          232.8,
          232.8,
          232.8,
          232.8,
          232.8,
          232.8,
          232.8,
          167.4,
          167.4,
          167.4,
          167.4,
          167.4,
          167.4,
          167.4,
          167.4,
          145.4,
          145.4,
          145.4,
          145.4,
          145.4,
          145.4,
          145.4,
          145.4,
          149.7,
          149.7,
          149.7,
          149.7,
          149.7,
          149.7,
          149.7,
          149.7,
          139.3,
          139.3,
          139.3,
          139.3,
          139.3,
          139.3,
          139.3,
          139.3,
          129.2,
          129.2,
          129.2,
          129.2,
          129.2,
          129.2,
          129.2,
          129.2,
          94.5,
          94.5,
          94.5,
          94.5,
          94.5,
          94.5,
          94.5,
          94.5,
          120.4,
          120.4,
          120.4,
          120.4,
          120.4,
          120.4,
          120.4,
          120.4,
          127.3,
          127.3,
          127.3,
          127.3,
          127.3,
          127.3,
          127.3,
          127.3,
          138.5,
          138.5,
          138.5,
          138.5,
          138.5,
          138.5,
          138.5,
          138.5,
          147.1,
          147.1,
          147.1,
          147.1,
          147.1,
          147.1,
          147.1,
          147.1,
          135.7,
          135.7,
          135.7,
          135.7,
          135.7,
          135.7,
          135.7,
          135.7,
          137.8,
          137.8,
          137.8,
          137.8,
          137.8,
          137.8,
          137.8,
          137.8
         ],
         "yaxis": "y"
        },
        {
         "hovertemplate": "City name=Overland_park<br>Year=%{x}<br>Crime Index=%{y}<extra></extra>",
         "legendgroup": "Overland_park",
         "line": {
          "color": "#19d3f3",
          "dash": "solid"
         },
         "marker": {
          "symbol": "circle"
         },
         "mode": "lines",
         "name": "Overland_park",
         "showlegend": true,
         "type": "scattergl",
         "x": [
          "2007",
          "2007",
          "2007",
          "2007",
          "2007",
          "2007",
          "2007",
          "2007",
          "2008",
          "2008",
          "2008",
          "2008",
          "2008",
          "2008",
          "2008",
          "2008",
          "2009",
          "2009",
          "2009",
          "2009",
          "2009",
          "2009",
          "2009",
          "2009",
          "2010",
          "2010",
          "2010",
          "2010",
          "2010",
          "2010",
          "2010",
          "2010",
          "2011",
          "2011",
          "2011",
          "2011",
          "2011",
          "2011",
          "2011",
          "2011",
          "2012",
          "2012",
          "2012",
          "2012",
          "2012",
          "2012",
          "2012",
          "2012",
          "2013",
          "2013",
          "2013",
          "2013",
          "2013",
          "2013",
          "2013",
          "2013",
          "2014",
          "2014",
          "2014",
          "2014",
          "2014",
          "2014",
          "2014",
          "2014",
          "2015",
          "2015",
          "2015",
          "2015",
          "2015",
          "2015",
          "2015",
          "2015",
          "2016",
          "2016",
          "2016",
          "2016",
          "2016",
          "2016",
          "2016",
          "2016",
          "2017",
          "2017",
          "2017",
          "2017",
          "2017",
          "2017",
          "2017",
          "2017",
          "2018",
          "2018",
          "2018",
          "2018",
          "2018",
          "2018",
          "2018",
          "2018",
          "2019",
          "2019",
          "2019",
          "2019",
          "2019",
          "2019",
          "2019",
          "2019",
          "2020",
          "2020",
          "2020",
          "2020",
          "2020",
          "2020",
          "2020",
          "2020"
         ],
         "xaxis": "x",
         "y": [
          174.8,
          174.8,
          174.8,
          174.8,
          174.8,
          174.8,
          174.8,
          174.8,
          164.7,
          164.7,
          164.7,
          164.7,
          164.7,
          164.7,
          164.7,
          164.7,
          172.1,
          172.1,
          172.1,
          172.1,
          172.1,
          172.1,
          172.1,
          172.1,
          161.3,
          161.3,
          161.3,
          161.3,
          161.3,
          161.3,
          161.3,
          161.3,
          165.2,
          165.2,
          165.2,
          165.2,
          165.2,
          165.2,
          165.2,
          165.2,
          158.4,
          158.4,
          158.4,
          158.4,
          158.4,
          158.4,
          158.4,
          158.4,
          138,
          138,
          138,
          138,
          138,
          138,
          138,
          138,
          168.7,
          168.7,
          168.7,
          168.7,
          168.7,
          168.7,
          168.7,
          168.7,
          196.2,
          196.2,
          196.2,
          196.2,
          196.2,
          196.2,
          196.2,
          196.2,
          153.4,
          153.4,
          153.4,
          153.4,
          153.4,
          153.4,
          153.4,
          153.4,
          161.1,
          161.1,
          161.1,
          161.1,
          161.1,
          161.1,
          161.1,
          161.1,
          179.4,
          179.4,
          179.4,
          179.4,
          179.4,
          179.4,
          179.4,
          179.4,
          135.6,
          135.6,
          135.6,
          135.6,
          135.6,
          135.6,
          135.6,
          135.6,
          154.8,
          154.8,
          154.8,
          154.8,
          154.8,
          154.8,
          154.8,
          154.8
         ],
         "yaxis": "y"
        },
        {
         "hovertemplate": "City name=Salina<br>Year=%{x}<br>Crime Index=%{y}<extra></extra>",
         "legendgroup": "Salina",
         "line": {
          "color": "#FF6692",
          "dash": "solid"
         },
         "marker": {
          "symbol": "circle"
         },
         "mode": "lines",
         "name": "Salina",
         "showlegend": true,
         "type": "scattergl",
         "x": [
          "2007",
          "2007",
          "2007",
          "2007",
          "2007",
          "2007",
          "2007",
          "2007",
          "2008",
          "2008",
          "2008",
          "2008",
          "2008",
          "2008",
          "2008",
          "2008",
          "2009",
          "2009",
          "2009",
          "2009",
          "2009",
          "2009",
          "2009",
          "2009",
          "2010",
          "2010",
          "2010",
          "2010",
          "2010",
          "2010",
          "2010",
          "2010",
          "2011",
          "2011",
          "2011",
          "2011",
          "2011",
          "2011",
          "2011",
          "2011",
          "2012",
          "2012",
          "2012",
          "2012",
          "2012",
          "2012",
          "2012",
          "2012",
          "2013",
          "2013",
          "2013",
          "2013",
          "2013",
          "2013",
          "2013",
          "2013",
          "2014",
          "2014",
          "2014",
          "2014",
          "2014",
          "2014",
          "2014",
          "2014",
          "2015",
          "2015",
          "2015",
          "2015",
          "2015",
          "2015",
          "2015",
          "2015",
          "2016",
          "2016",
          "2016",
          "2016",
          "2016",
          "2016",
          "2016",
          "2016",
          "2017",
          "2017",
          "2017",
          "2017",
          "2017",
          "2017",
          "2017",
          "2017",
          "2018",
          "2018",
          "2018",
          "2018",
          "2018",
          "2018",
          "2018",
          "2018",
          "2019",
          "2019",
          "2019",
          "2019",
          "2019",
          "2019",
          "2019",
          "2019",
          "2020",
          "2020",
          "2020",
          "2020",
          "2020",
          "2020",
          "2020",
          "2020"
         ],
         "xaxis": "x",
         "y": [
          408.3,
          408.3,
          408.3,
          408.3,
          408.3,
          408.3,
          408.3,
          408.3,
          387.1,
          387.1,
          387.1,
          387.1,
          387.1,
          387.1,
          387.1,
          387.1,
          395.4,
          395.4,
          395.4,
          395.4,
          395.4,
          395.4,
          395.4,
          395.4,
          349.1,
          349.1,
          349.1,
          349.1,
          349.1,
          349.1,
          349.1,
          349.1,
          361.9,
          361.9,
          361.9,
          361.9,
          361.9,
          361.9,
          361.9,
          361.9,
          338.9,
          338.9,
          338.9,
          338.9,
          338.9,
          338.9,
          338.9,
          338.9,
          323.3,
          323.3,
          323.3,
          323.3,
          323.3,
          323.3,
          323.3,
          323.3,
          320.8,
          320.8,
          320.8,
          320.8,
          320.8,
          320.8,
          320.8,
          320.8,
          321.4,
          321.4,
          321.4,
          321.4,
          321.4,
          321.4,
          321.4,
          321.4,
          328.5,
          328.5,
          328.5,
          328.5,
          328.5,
          328.5,
          328.5,
          328.5,
          333.7,
          333.7,
          333.7,
          333.7,
          333.7,
          333.7,
          333.7,
          333.7,
          336.5,
          336.5,
          336.5,
          336.5,
          336.5,
          336.5,
          336.5,
          336.5,
          333.5,
          333.5,
          333.5,
          333.5,
          333.5,
          333.5,
          333.5,
          333.5,
          270.9,
          270.9,
          270.9,
          270.9,
          270.9,
          270.9,
          270.9,
          270.9
         ],
         "yaxis": "y"
        },
        {
         "hovertemplate": "City name=Shawnee<br>Year=%{x}<br>Crime Index=%{y}<extra></extra>",
         "legendgroup": "Shawnee",
         "line": {
          "color": "#B6E880",
          "dash": "solid"
         },
         "marker": {
          "symbol": "circle"
         },
         "mode": "lines",
         "name": "Shawnee",
         "showlegend": true,
         "type": "scattergl",
         "x": [
          "2007",
          "2007",
          "2007",
          "2007",
          "2007",
          "2007",
          "2007",
          "2007",
          "2008",
          "2008",
          "2008",
          "2008",
          "2008",
          "2008",
          "2008",
          "2008",
          "2009",
          "2009",
          "2009",
          "2009",
          "2009",
          "2009",
          "2009",
          "2009",
          "2010",
          "2010",
          "2010",
          "2010",
          "2010",
          "2010",
          "2010",
          "2010",
          "2011",
          "2011",
          "2011",
          "2011",
          "2011",
          "2011",
          "2011",
          "2011",
          "2012",
          "2012",
          "2012",
          "2012",
          "2012",
          "2012",
          "2012",
          "2012",
          "2013",
          "2013",
          "2013",
          "2013",
          "2013",
          "2013",
          "2013",
          "2013",
          "2014",
          "2014",
          "2014",
          "2014",
          "2014",
          "2014",
          "2014",
          "2014",
          "2015",
          "2015",
          "2015",
          "2015",
          "2015",
          "2015",
          "2015",
          "2015",
          "2016",
          "2016",
          "2016",
          "2016",
          "2016",
          "2016",
          "2016",
          "2016",
          "2017",
          "2017",
          "2017",
          "2017",
          "2017",
          "2017",
          "2017",
          "2017",
          "2018",
          "2018",
          "2018",
          "2018",
          "2018",
          "2018",
          "2018",
          "2018",
          "2019",
          "2019",
          "2019",
          "2019",
          "2019",
          "2019",
          "2019",
          "2019",
          "2020",
          "2020",
          "2020",
          "2020",
          "2020",
          "2020",
          "2020",
          "2020"
         ],
         "xaxis": "x",
         "y": [
          161.5,
          161.5,
          161.5,
          161.5,
          161.5,
          161.5,
          161.5,
          161.5,
          146,
          146,
          146,
          146,
          146,
          146,
          146,
          146,
          149.4,
          149.4,
          149.4,
          149.4,
          149.4,
          149.4,
          149.4,
          149.4,
          170.6,
          170.6,
          170.6,
          170.6,
          170.6,
          170.6,
          170.6,
          170.6,
          151.2,
          151.2,
          151.2,
          151.2,
          151.2,
          151.2,
          151.2,
          151.2,
          121.7,
          121.7,
          121.7,
          121.7,
          121.7,
          121.7,
          121.7,
          121.7,
          135.4,
          135.4,
          135.4,
          135.4,
          135.4,
          135.4,
          135.4,
          135.4,
          138.9,
          138.9,
          138.9,
          138.9,
          138.9,
          138.9,
          138.9,
          138.9,
          156.9,
          156.9,
          156.9,
          156.9,
          156.9,
          156.9,
          156.9,
          156.9,
          154.1,
          154.1,
          154.1,
          154.1,
          154.1,
          154.1,
          154.1,
          154.1,
          137.8,
          137.8,
          137.8,
          137.8,
          137.8,
          137.8,
          137.8,
          137.8,
          165.1,
          165.1,
          165.1,
          165.1,
          165.1,
          165.1,
          165.1,
          165.1,
          118.8,
          118.8,
          118.8,
          118.8,
          118.8,
          118.8,
          118.8,
          118.8,
          168,
          168,
          168,
          168,
          168,
          168,
          168,
          168
         ],
         "yaxis": "y"
        },
        {
         "hovertemplate": "City name=Topeka<br>Year=%{x}<br>Crime Index=%{y}<extra></extra>",
         "legendgroup": "Topeka",
         "line": {
          "color": "#FF97FF",
          "dash": "solid"
         },
         "marker": {
          "symbol": "circle"
         },
         "mode": "lines",
         "name": "Topeka",
         "showlegend": true,
         "type": "scattergl",
         "x": [
          "2007",
          "2007",
          "2007",
          "2007",
          "2007",
          "2007",
          "2007",
          "2007",
          "2008",
          "2008",
          "2008",
          "2008",
          "2008",
          "2008",
          "2008",
          "2008",
          "2009",
          "2009",
          "2009",
          "2009",
          "2009",
          "2009",
          "2009",
          "2009",
          "2010",
          "2010",
          "2010",
          "2010",
          "2010",
          "2010",
          "2010",
          "2010",
          "2011",
          "2011",
          "2011",
          "2011",
          "2011",
          "2011",
          "2011",
          "2011",
          "2012",
          "2012",
          "2012",
          "2012",
          "2012",
          "2012",
          "2012",
          "2012",
          "2013",
          "2013",
          "2013",
          "2013",
          "2013",
          "2013",
          "2013",
          "2013",
          "2014",
          "2014",
          "2014",
          "2014",
          "2014",
          "2014",
          "2014",
          "2014",
          "2015",
          "2015",
          "2015",
          "2015",
          "2015",
          "2015",
          "2015",
          "2015",
          "2016",
          "2016",
          "2016",
          "2016",
          "2016",
          "2016",
          "2016",
          "2016",
          "2017",
          "2017",
          "2017",
          "2017",
          "2017",
          "2017",
          "2017",
          "2017",
          "2018",
          "2018",
          "2018",
          "2018",
          "2018",
          "2018",
          "2018",
          "2018",
          "2019",
          "2019",
          "2019",
          "2019",
          "2019",
          "2019",
          "2019",
          "2019",
          "2020",
          "2020",
          "2020",
          "2020",
          "2020",
          "2020",
          "2020",
          "2020"
         ],
         "xaxis": "x",
         "y": [
          497.4,
          497.4,
          497.4,
          497.4,
          497.4,
          497.4,
          497.4,
          497.4,
          453.1,
          453.1,
          453.1,
          453.1,
          453.1,
          453.1,
          453.1,
          453.1,
          446.9,
          446.9,
          446.9,
          446.9,
          446.9,
          446.9,
          446.9,
          446.9,
          456.4,
          456.4,
          456.4,
          456.4,
          456.4,
          456.4,
          456.4,
          456.4,
          464.9,
          464.9,
          464.9,
          464.9,
          464.9,
          464.9,
          464.9,
          464.9,
          438,
          438,
          438,
          438,
          438,
          438,
          438,
          438,
          389.5,
          389.5,
          389.5,
          389.5,
          389.5,
          389.5,
          389.5,
          389.5,
          395,
          395,
          395,
          395,
          395,
          395,
          395,
          395,
          443.5,
          443.5,
          443.5,
          443.5,
          443.5,
          443.5,
          443.5,
          443.5,
          457.4,
          457.4,
          457.4,
          457.4,
          457.4,
          457.4,
          457.4,
          457.4,
          462,
          462,
          462,
          462,
          462,
          462,
          462,
          462,
          455.1,
          455.1,
          455.1,
          455.1,
          455.1,
          455.1,
          455.1,
          455.1,
          467.6,
          467.6,
          467.6,
          467.6,
          467.6,
          467.6,
          467.6,
          467.6,
          8.2,
          8.2,
          8.2,
          8.2,
          8.2,
          8.2,
          8.2,
          8.2
         ],
         "yaxis": "y"
        },
        {
         "hovertemplate": "City name=Wichita<br>Year=%{x}<br>Crime Index=%{y}<extra></extra>",
         "legendgroup": "Wichita",
         "line": {
          "color": "#FECB52",
          "dash": "solid"
         },
         "marker": {
          "symbol": "circle"
         },
         "mode": "lines",
         "name": "Wichita",
         "showlegend": true,
         "type": "scattergl",
         "x": [
          "2007",
          "2007",
          "2007",
          "2007",
          "2007",
          "2007",
          "2007",
          "2007",
          "2008",
          "2008",
          "2008",
          "2008",
          "2008",
          "2008",
          "2008",
          "2008",
          "2009",
          "2009",
          "2009",
          "2009",
          "2009",
          "2009",
          "2009",
          "2009",
          "2010",
          "2010",
          "2010",
          "2010",
          "2010",
          "2010",
          "2010",
          "2010",
          "2011",
          "2011",
          "2011",
          "2011",
          "2011",
          "2011",
          "2011",
          "2011",
          "2012",
          "2012",
          "2012",
          "2012",
          "2012",
          "2012",
          "2012",
          "2012",
          "2013",
          "2013",
          "2013",
          "2013",
          "2013",
          "2013",
          "2013",
          "2013",
          "2014",
          "2014",
          "2014",
          "2014",
          "2014",
          "2014",
          "2014",
          "2014",
          "2015",
          "2015",
          "2015",
          "2015",
          "2015",
          "2015",
          "2015",
          "2015",
          "2016",
          "2016",
          "2016",
          "2016",
          "2016",
          "2016",
          "2016",
          "2016",
          "2017",
          "2017",
          "2017",
          "2017",
          "2017",
          "2017",
          "2017",
          "2017",
          "2018",
          "2018",
          "2018",
          "2018",
          "2018",
          "2018",
          "2018",
          "2018",
          "2019",
          "2019",
          "2019",
          "2019",
          "2019",
          "2019",
          "2019",
          "2019",
          "2020",
          "2020",
          "2020",
          "2020",
          "2020",
          "2020",
          "2020",
          "2020"
         ],
         "xaxis": "x",
         "y": [
          564.1,
          564.1,
          564.1,
          564.1,
          564.1,
          564.1,
          564.1,
          564.1,
          521.5,
          521.5,
          521.5,
          521.5,
          521.5,
          521.5,
          521.5,
          521.5,
          511.6,
          511.6,
          511.6,
          511.6,
          511.6,
          511.6,
          511.6,
          511.6,
          459.2,
          459.2,
          459.2,
          459.2,
          459.2,
          459.2,
          459.2,
          459.2,
          470.9,
          470.9,
          470.9,
          470.9,
          470.9,
          470.9,
          470.9,
          470.9,
          480.6,
          480.6,
          480.6,
          480.6,
          480.6,
          480.6,
          480.6,
          480.6,
          483.8,
          483.8,
          483.8,
          483.8,
          483.8,
          483.8,
          483.8,
          483.8,
          447,
          447,
          447,
          447,
          447,
          447,
          447,
          447,
          534.7,
          534.7,
          534.7,
          534.7,
          534.7,
          534.7,
          534.7,
          534.7,
          558.4,
          558.4,
          558.4,
          558.4,
          558.4,
          558.4,
          558.4,
          558.4,
          572.7,
          572.7,
          572.7,
          572.7,
          572.7,
          572.7,
          572.7,
          572.7,
          612.5,
          612.5,
          612.5,
          612.5,
          612.5,
          612.5,
          612.5,
          612.5,
          576.8,
          576.8,
          576.8,
          576.8,
          576.8,
          576.8,
          576.8,
          576.8,
          557.9,
          557.9,
          557.9,
          557.9,
          557.9,
          557.9,
          557.9,
          557.9
         ],
         "yaxis": "y"
        }
       ],
       "layout": {
        "legend": {
         "title": {
          "text": "City name"
         },
         "tracegroupgap": 0
        },
        "margin": {
         "t": 60
        },
        "template": {
         "data": {
          "bar": [
           {
            "error_x": {
             "color": "#2a3f5f"
            },
            "error_y": {
             "color": "#2a3f5f"
            },
            "marker": {
             "line": {
              "color": "#E5ECF6",
              "width": 0.5
             },
             "pattern": {
              "fillmode": "overlay",
              "size": 10,
              "solidity": 0.2
             }
            },
            "type": "bar"
           }
          ],
          "barpolar": [
           {
            "marker": {
             "line": {
              "color": "#E5ECF6",
              "width": 0.5
             },
             "pattern": {
              "fillmode": "overlay",
              "size": 10,
              "solidity": 0.2
             }
            },
            "type": "barpolar"
           }
          ],
          "carpet": [
           {
            "aaxis": {
             "endlinecolor": "#2a3f5f",
             "gridcolor": "white",
             "linecolor": "white",
             "minorgridcolor": "white",
             "startlinecolor": "#2a3f5f"
            },
            "baxis": {
             "endlinecolor": "#2a3f5f",
             "gridcolor": "white",
             "linecolor": "white",
             "minorgridcolor": "white",
             "startlinecolor": "#2a3f5f"
            },
            "type": "carpet"
           }
          ],
          "choropleth": [
           {
            "colorbar": {
             "outlinewidth": 0,
             "ticks": ""
            },
            "type": "choropleth"
           }
          ],
          "contour": [
           {
            "colorbar": {
             "outlinewidth": 0,
             "ticks": ""
            },
            "colorscale": [
             [
              0,
              "#0d0887"
             ],
             [
              0.1111111111111111,
              "#46039f"
             ],
             [
              0.2222222222222222,
              "#7201a8"
             ],
             [
              0.3333333333333333,
              "#9c179e"
             ],
             [
              0.4444444444444444,
              "#bd3786"
             ],
             [
              0.5555555555555556,
              "#d8576b"
             ],
             [
              0.6666666666666666,
              "#ed7953"
             ],
             [
              0.7777777777777778,
              "#fb9f3a"
             ],
             [
              0.8888888888888888,
              "#fdca26"
             ],
             [
              1,
              "#f0f921"
             ]
            ],
            "type": "contour"
           }
          ],
          "contourcarpet": [
           {
            "colorbar": {
             "outlinewidth": 0,
             "ticks": ""
            },
            "type": "contourcarpet"
           }
          ],
          "heatmap": [
           {
            "colorbar": {
             "outlinewidth": 0,
             "ticks": ""
            },
            "colorscale": [
             [
              0,
              "#0d0887"
             ],
             [
              0.1111111111111111,
              "#46039f"
             ],
             [
              0.2222222222222222,
              "#7201a8"
             ],
             [
              0.3333333333333333,
              "#9c179e"
             ],
             [
              0.4444444444444444,
              "#bd3786"
             ],
             [
              0.5555555555555556,
              "#d8576b"
             ],
             [
              0.6666666666666666,
              "#ed7953"
             ],
             [
              0.7777777777777778,
              "#fb9f3a"
             ],
             [
              0.8888888888888888,
              "#fdca26"
             ],
             [
              1,
              "#f0f921"
             ]
            ],
            "type": "heatmap"
           }
          ],
          "heatmapgl": [
           {
            "colorbar": {
             "outlinewidth": 0,
             "ticks": ""
            },
            "colorscale": [
             [
              0,
              "#0d0887"
             ],
             [
              0.1111111111111111,
              "#46039f"
             ],
             [
              0.2222222222222222,
              "#7201a8"
             ],
             [
              0.3333333333333333,
              "#9c179e"
             ],
             [
              0.4444444444444444,
              "#bd3786"
             ],
             [
              0.5555555555555556,
              "#d8576b"
             ],
             [
              0.6666666666666666,
              "#ed7953"
             ],
             [
              0.7777777777777778,
              "#fb9f3a"
             ],
             [
              0.8888888888888888,
              "#fdca26"
             ],
             [
              1,
              "#f0f921"
             ]
            ],
            "type": "heatmapgl"
           }
          ],
          "histogram": [
           {
            "marker": {
             "pattern": {
              "fillmode": "overlay",
              "size": 10,
              "solidity": 0.2
             }
            },
            "type": "histogram"
           }
          ],
          "histogram2d": [
           {
            "colorbar": {
             "outlinewidth": 0,
             "ticks": ""
            },
            "colorscale": [
             [
              0,
              "#0d0887"
             ],
             [
              0.1111111111111111,
              "#46039f"
             ],
             [
              0.2222222222222222,
              "#7201a8"
             ],
             [
              0.3333333333333333,
              "#9c179e"
             ],
             [
              0.4444444444444444,
              "#bd3786"
             ],
             [
              0.5555555555555556,
              "#d8576b"
             ],
             [
              0.6666666666666666,
              "#ed7953"
             ],
             [
              0.7777777777777778,
              "#fb9f3a"
             ],
             [
              0.8888888888888888,
              "#fdca26"
             ],
             [
              1,
              "#f0f921"
             ]
            ],
            "type": "histogram2d"
           }
          ],
          "histogram2dcontour": [
           {
            "colorbar": {
             "outlinewidth": 0,
             "ticks": ""
            },
            "colorscale": [
             [
              0,
              "#0d0887"
             ],
             [
              0.1111111111111111,
              "#46039f"
             ],
             [
              0.2222222222222222,
              "#7201a8"
             ],
             [
              0.3333333333333333,
              "#9c179e"
             ],
             [
              0.4444444444444444,
              "#bd3786"
             ],
             [
              0.5555555555555556,
              "#d8576b"
             ],
             [
              0.6666666666666666,
              "#ed7953"
             ],
             [
              0.7777777777777778,
              "#fb9f3a"
             ],
             [
              0.8888888888888888,
              "#fdca26"
             ],
             [
              1,
              "#f0f921"
             ]
            ],
            "type": "histogram2dcontour"
           }
          ],
          "mesh3d": [
           {
            "colorbar": {
             "outlinewidth": 0,
             "ticks": ""
            },
            "type": "mesh3d"
           }
          ],
          "parcoords": [
           {
            "line": {
             "colorbar": {
              "outlinewidth": 0,
              "ticks": ""
             }
            },
            "type": "parcoords"
           }
          ],
          "pie": [
           {
            "automargin": true,
            "type": "pie"
           }
          ],
          "scatter": [
           {
            "fillpattern": {
             "fillmode": "overlay",
             "size": 10,
             "solidity": 0.2
            },
            "type": "scatter"
           }
          ],
          "scatter3d": [
           {
            "line": {
             "colorbar": {
              "outlinewidth": 0,
              "ticks": ""
             }
            },
            "marker": {
             "colorbar": {
              "outlinewidth": 0,
              "ticks": ""
             }
            },
            "type": "scatter3d"
           }
          ],
          "scattercarpet": [
           {
            "marker": {
             "colorbar": {
              "outlinewidth": 0,
              "ticks": ""
             }
            },
            "type": "scattercarpet"
           }
          ],
          "scattergeo": [
           {
            "marker": {
             "colorbar": {
              "outlinewidth": 0,
              "ticks": ""
             }
            },
            "type": "scattergeo"
           }
          ],
          "scattergl": [
           {
            "marker": {
             "colorbar": {
              "outlinewidth": 0,
              "ticks": ""
             }
            },
            "type": "scattergl"
           }
          ],
          "scattermapbox": [
           {
            "marker": {
             "colorbar": {
              "outlinewidth": 0,
              "ticks": ""
             }
            },
            "type": "scattermapbox"
           }
          ],
          "scatterpolar": [
           {
            "marker": {
             "colorbar": {
              "outlinewidth": 0,
              "ticks": ""
             }
            },
            "type": "scatterpolar"
           }
          ],
          "scatterpolargl": [
           {
            "marker": {
             "colorbar": {
              "outlinewidth": 0,
              "ticks": ""
             }
            },
            "type": "scatterpolargl"
           }
          ],
          "scatterternary": [
           {
            "marker": {
             "colorbar": {
              "outlinewidth": 0,
              "ticks": ""
             }
            },
            "type": "scatterternary"
           }
          ],
          "surface": [
           {
            "colorbar": {
             "outlinewidth": 0,
             "ticks": ""
            },
            "colorscale": [
             [
              0,
              "#0d0887"
             ],
             [
              0.1111111111111111,
              "#46039f"
             ],
             [
              0.2222222222222222,
              "#7201a8"
             ],
             [
              0.3333333333333333,
              "#9c179e"
             ],
             [
              0.4444444444444444,
              "#bd3786"
             ],
             [
              0.5555555555555556,
              "#d8576b"
             ],
             [
              0.6666666666666666,
              "#ed7953"
             ],
             [
              0.7777777777777778,
              "#fb9f3a"
             ],
             [
              0.8888888888888888,
              "#fdca26"
             ],
             [
              1,
              "#f0f921"
             ]
            ],
            "type": "surface"
           }
          ],
          "table": [
           {
            "cells": {
             "fill": {
              "color": "#EBF0F8"
             },
             "line": {
              "color": "white"
             }
            },
            "header": {
             "fill": {
              "color": "#C8D4E3"
             },
             "line": {
              "color": "white"
             }
            },
            "type": "table"
           }
          ]
         },
         "layout": {
          "annotationdefaults": {
           "arrowcolor": "#2a3f5f",
           "arrowhead": 0,
           "arrowwidth": 1
          },
          "autotypenumbers": "strict",
          "coloraxis": {
           "colorbar": {
            "outlinewidth": 0,
            "ticks": ""
           }
          },
          "colorscale": {
           "diverging": [
            [
             0,
             "#8e0152"
            ],
            [
             0.1,
             "#c51b7d"
            ],
            [
             0.2,
             "#de77ae"
            ],
            [
             0.3,
             "#f1b6da"
            ],
            [
             0.4,
             "#fde0ef"
            ],
            [
             0.5,
             "#f7f7f7"
            ],
            [
             0.6,
             "#e6f5d0"
            ],
            [
             0.7,
             "#b8e186"
            ],
            [
             0.8,
             "#7fbc41"
            ],
            [
             0.9,
             "#4d9221"
            ],
            [
             1,
             "#276419"
            ]
           ],
           "sequential": [
            [
             0,
             "#0d0887"
            ],
            [
             0.1111111111111111,
             "#46039f"
            ],
            [
             0.2222222222222222,
             "#7201a8"
            ],
            [
             0.3333333333333333,
             "#9c179e"
            ],
            [
             0.4444444444444444,
             "#bd3786"
            ],
            [
             0.5555555555555556,
             "#d8576b"
            ],
            [
             0.6666666666666666,
             "#ed7953"
            ],
            [
             0.7777777777777778,
             "#fb9f3a"
            ],
            [
             0.8888888888888888,
             "#fdca26"
            ],
            [
             1,
             "#f0f921"
            ]
           ],
           "sequentialminus": [
            [
             0,
             "#0d0887"
            ],
            [
             0.1111111111111111,
             "#46039f"
            ],
            [
             0.2222222222222222,
             "#7201a8"
            ],
            [
             0.3333333333333333,
             "#9c179e"
            ],
            [
             0.4444444444444444,
             "#bd3786"
            ],
            [
             0.5555555555555556,
             "#d8576b"
            ],
            [
             0.6666666666666666,
             "#ed7953"
            ],
            [
             0.7777777777777778,
             "#fb9f3a"
            ],
            [
             0.8888888888888888,
             "#fdca26"
            ],
            [
             1,
             "#f0f921"
            ]
           ]
          },
          "colorway": [
           "#636efa",
           "#EF553B",
           "#00cc96",
           "#ab63fa",
           "#FFA15A",
           "#19d3f3",
           "#FF6692",
           "#B6E880",
           "#FF97FF",
           "#FECB52"
          ],
          "font": {
           "color": "#2a3f5f"
          },
          "geo": {
           "bgcolor": "white",
           "lakecolor": "white",
           "landcolor": "#E5ECF6",
           "showlakes": true,
           "showland": true,
           "subunitcolor": "white"
          },
          "hoverlabel": {
           "align": "left"
          },
          "hovermode": "closest",
          "mapbox": {
           "style": "light"
          },
          "paper_bgcolor": "white",
          "plot_bgcolor": "#E5ECF6",
          "polar": {
           "angularaxis": {
            "gridcolor": "white",
            "linecolor": "white",
            "ticks": ""
           },
           "bgcolor": "#E5ECF6",
           "radialaxis": {
            "gridcolor": "white",
            "linecolor": "white",
            "ticks": ""
           }
          },
          "scene": {
           "xaxis": {
            "backgroundcolor": "#E5ECF6",
            "gridcolor": "white",
            "gridwidth": 2,
            "linecolor": "white",
            "showbackground": true,
            "ticks": "",
            "zerolinecolor": "white"
           },
           "yaxis": {
            "backgroundcolor": "#E5ECF6",
            "gridcolor": "white",
            "gridwidth": 2,
            "linecolor": "white",
            "showbackground": true,
            "ticks": "",
            "zerolinecolor": "white"
           },
           "zaxis": {
            "backgroundcolor": "#E5ECF6",
            "gridcolor": "white",
            "gridwidth": 2,
            "linecolor": "white",
            "showbackground": true,
            "ticks": "",
            "zerolinecolor": "white"
           }
          },
          "shapedefaults": {
           "line": {
            "color": "#2a3f5f"
           }
          },
          "ternary": {
           "aaxis": {
            "gridcolor": "white",
            "linecolor": "white",
            "ticks": ""
           },
           "baxis": {
            "gridcolor": "white",
            "linecolor": "white",
            "ticks": ""
           },
           "bgcolor": "#E5ECF6",
           "caxis": {
            "gridcolor": "white",
            "linecolor": "white",
            "ticks": ""
           }
          },
          "title": {
           "x": 0.05
          },
          "xaxis": {
           "automargin": true,
           "gridcolor": "white",
           "linecolor": "white",
           "ticks": "",
           "title": {
            "standoff": 15
           },
           "zerolinecolor": "white",
           "zerolinewidth": 2
          },
          "yaxis": {
           "automargin": true,
           "gridcolor": "white",
           "linecolor": "white",
           "ticks": "",
           "title": {
            "standoff": 15
           },
           "zerolinecolor": "white",
           "zerolinewidth": 2
          }
         }
        },
        "xaxis": {
         "anchor": "y",
         "domain": [
          0,
          1
         ],
         "title": {
          "text": "Year"
         }
        },
        "yaxis": {
         "anchor": "x",
         "domain": [
          0,
          1
         ],
         "title": {
          "text": "Crime Index"
         }
        }
       }
      }
     },
     "metadata": {},
     "output_type": "display_data"
    },
    {
     "data": {
      "text/plain": [
       "<Figure size 1000x1000 with 0 Axes>"
      ]
     },
     "metadata": {},
     "output_type": "display_data"
    }
   ],
   "source": [
    "# line plot for crime index\n",
    "plt.figure(figsize=(10,10))\n",
    "fig = px.line(x='Year', y='Crime Index', data_frame=df_new, color='City name')\n",
    "fig.show()"
   ]
  },
  {
   "cell_type": "code",
   "execution_count": 25,
   "metadata": {},
   "outputs": [
    {
     "data": {
      "text/plain": [
       "array(['Murders', 'Rapes', 'Robberies', ..., 'Thefts', 'Auto thefts',\n",
       "       'Arson'], dtype=object)"
      ]
     },
     "execution_count": 25,
     "metadata": {},
     "output_type": "execute_result"
    }
   ],
   "source": [
    "# check if df_new has any crime index values\n",
    "df_new['Type'].values"
   ]
  },
  {
   "cell_type": "code",
   "execution_count": 26,
   "metadata": {},
   "outputs": [
    {
     "data": {
      "application/vnd.plotly.v1+json": {
       "config": {
        "plotlyServerURL": "https://plot.ly"
       },
       "data": [
        {
         "hovertemplate": "Type=Murders<br>Year=%{x}<br>Count of Types=%{y}<extra></extra>",
         "legendgroup": "Murders",
         "line": {
          "color": "#636efa",
          "dash": "solid"
         },
         "marker": {
          "symbol": "circle"
         },
         "mode": "lines",
         "name": "Murders",
         "showlegend": true,
         "type": "scattergl",
         "x": [
          "2007",
          "2007",
          "2007",
          "2007",
          "2007",
          "2007",
          "2007",
          "2007",
          "2007",
          "2007",
          "2008",
          "2008",
          "2008",
          "2008",
          "2008",
          "2008",
          "2008",
          "2008",
          "2008",
          "2008",
          "2009",
          "2009",
          "2009",
          "2009",
          "2009",
          "2009",
          "2009",
          "2009",
          "2009",
          "2009",
          "2010",
          "2010",
          "2010",
          "2010",
          "2010",
          "2010",
          "2010",
          "2010",
          "2010",
          "2010",
          "2011",
          "2011",
          "2011",
          "2011",
          "2011",
          "2011",
          "2011",
          "2011",
          "2011",
          "2011",
          "2012",
          "2012",
          "2012",
          "2012",
          "2012",
          "2012",
          "2012",
          "2012",
          "2012",
          "2012",
          "2013",
          "2013",
          "2013",
          "2013",
          "2013",
          "2013",
          "2013",
          "2013",
          "2013",
          "2013",
          "2014",
          "2014",
          "2014",
          "2014",
          "2014",
          "2014",
          "2014",
          "2014",
          "2014",
          "2014",
          "2015",
          "2015",
          "2015",
          "2015",
          "2015",
          "2015",
          "2015",
          "2015",
          "2015",
          "2015",
          "2016",
          "2016",
          "2016",
          "2016",
          "2016",
          "2016",
          "2016",
          "2016",
          "2016",
          "2016",
          "2017",
          "2017",
          "2017",
          "2017",
          "2017",
          "2017",
          "2017",
          "2017",
          "2017",
          "2017",
          "2018",
          "2018",
          "2018",
          "2018",
          "2018",
          "2018",
          "2018",
          "2018",
          "2018",
          "2018",
          "2019",
          "2019",
          "2019",
          "2019",
          "2019",
          "2019",
          "2019",
          "2019",
          "2019",
          "2019",
          "2020",
          "2020",
          "2020",
          "2020",
          "2020",
          "2020",
          "2020",
          "2020",
          "2020",
          "2020"
         ],
         "xaxis": "x",
         "y": [
          1,
          20,
          0,
          0,
          2,
          2,
          0,
          0,
          12,
          40,
          3,
          23,
          4,
          0,
          2,
          1,
          4,
          2,
          10,
          30,
          0,
          35,
          0,
          0,
          0,
          3,
          5,
          1,
          10,
          25,
          2,
          25,
          0,
          1,
          4,
          0,
          1,
          4,
          12,
          16,
          1,
          27,
          0,
          1,
          6,
          2,
          3,
          1,
          14,
          25,
          1,
          15,
          0,
          1,
          0,
          2,
          1,
          0,
          15,
          23,
          3,
          28,
          3,
          0,
          2,
          2,
          1,
          2,
          11,
          15,
          0,
          25,
          1,
          2,
          0,
          6,
          0,
          0,
          6,
          21,
          1,
          28,
          0,
          0,
          3,
          5,
          2,
          2,
          11,
          27,
          2,
          0,
          0,
          0,
          1,
          4,
          2,
          1,
          17,
          31,
          2,
          0,
          0,
          1,
          2,
          4,
          2,
          0,
          27,
          35,
          1,
          0,
          0,
          0,
          2,
          3,
          1,
          3,
          14,
          35,
          1,
          0,
          0,
          0,
          4,
          4,
          2,
          1,
          13,
          35,
          0,
          0,
          0,
          0,
          2,
          4,
          0,
          0,
          1,
          45
         ],
         "yaxis": "y"
        },
        {
         "hovertemplate": "Type=Rapes<br>Year=%{x}<br>Count of Types=%{y}<extra></extra>",
         "legendgroup": "Rapes",
         "line": {
          "color": "#EF553B",
          "dash": "solid"
         },
         "marker": {
          "symbol": "circle"
         },
         "mode": "lines",
         "name": "Rapes",
         "showlegend": true,
         "type": "scattergl",
         "x": [
          "2007",
          "2007",
          "2007",
          "2007",
          "2007",
          "2007",
          "2007",
          "2007",
          "2007",
          "2007",
          "2008",
          "2008",
          "2008",
          "2008",
          "2008",
          "2008",
          "2008",
          "2008",
          "2008",
          "2008",
          "2009",
          "2009",
          "2009",
          "2009",
          "2009",
          "2009",
          "2009",
          "2009",
          "2009",
          "2009",
          "2010",
          "2010",
          "2010",
          "2010",
          "2010",
          "2010",
          "2010",
          "2010",
          "2010",
          "2010",
          "2011",
          "2011",
          "2011",
          "2011",
          "2011",
          "2011",
          "2011",
          "2011",
          "2011",
          "2011",
          "2012",
          "2012",
          "2012",
          "2012",
          "2012",
          "2012",
          "2012",
          "2012",
          "2012",
          "2012",
          "2013",
          "2013",
          "2013",
          "2013",
          "2013",
          "2013",
          "2013",
          "2013",
          "2013",
          "2013",
          "2014",
          "2014",
          "2014",
          "2014",
          "2014",
          "2014",
          "2014",
          "2014",
          "2014",
          "2014",
          "2015",
          "2015",
          "2015",
          "2015",
          "2015",
          "2015",
          "2015",
          "2015",
          "2015",
          "2015",
          "2016",
          "2016",
          "2016",
          "2016",
          "2016",
          "2016",
          "2016",
          "2016",
          "2016",
          "2016",
          "2017",
          "2017",
          "2017",
          "2017",
          "2017",
          "2017",
          "2017",
          "2017",
          "2017",
          "2017",
          "2018",
          "2018",
          "2018",
          "2018",
          "2018",
          "2018",
          "2018",
          "2018",
          "2018",
          "2018",
          "2019",
          "2019",
          "2019",
          "2019",
          "2019",
          "2019",
          "2019",
          "2019",
          "2019",
          "2019",
          "2020",
          "2020",
          "2020",
          "2020",
          "2020",
          "2020",
          "2020",
          "2020",
          "2020",
          "2020"
         ],
         "xaxis": "x",
         "y": [
          19,
          91,
          48,
          7,
          37,
          35,
          46,
          9,
          47,
          278,
          28,
          59,
          41,
          12,
          62,
          35,
          37,
          7,
          35,
          282,
          34,
          80,
          62,
          12,
          48,
          28,
          29,
          18,
          44,
          262,
          25,
          62,
          42,
          9,
          41,
          40,
          28,
          21,
          51,
          251,
          22,
          95,
          38,
          12,
          48,
          60,
          43,
          17,
          53,
          245,
          26,
          85,
          53,
          9,
          38,
          40,
          23,
          11,
          39,
          242,
          43,
          83,
          55,
          9,
          37,
          33,
          44,
          15,
          33,
          250,
          32,
          233,
          25,
          8,
          37,
          127,
          47,
          24,
          66,
          243,
          43,
          264,
          0,
          7,
          36,
          166,
          44,
          19,
          93,
          360,
          35,
          0,
          0,
          9,
          45,
          108,
          36,
          23,
          54,
          327,
          40,
          0,
          0,
          18,
          71,
          109,
          45,
          21,
          56,
          406,
          37,
          0,
          0,
          13,
          80,
          120,
          43,
          26,
          84,
          407,
          26,
          0,
          0,
          17,
          78,
          69,
          38,
          7,
          74,
          387,
          11,
          0,
          0,
          12,
          46,
          39,
          36,
          24,
          3,
          353
         ],
         "yaxis": "y"
        },
        {
         "hovertemplate": "Type=Robberies<br>Year=%{x}<br>Count of Types=%{y}<extra></extra>",
         "legendgroup": "Robberies",
         "line": {
          "color": "#00cc96",
          "dash": "solid"
         },
         "marker": {
          "symbol": "circle"
         },
         "mode": "lines",
         "name": "Robberies",
         "showlegend": true,
         "type": "scattergl",
         "x": [
          "2007",
          "2007",
          "2007",
          "2007",
          "2007",
          "2007",
          "2007",
          "2007",
          "2007",
          "2007",
          "2008",
          "2008",
          "2008",
          "2008",
          "2008",
          "2008",
          "2008",
          "2008",
          "2008",
          "2008",
          "2009",
          "2009",
          "2009",
          "2009",
          "2009",
          "2009",
          "2009",
          "2009",
          "2009",
          "2009",
          "2010",
          "2010",
          "2010",
          "2010",
          "2010",
          "2010",
          "2010",
          "2010",
          "2010",
          "2010",
          "2011",
          "2011",
          "2011",
          "2011",
          "2011",
          "2011",
          "2011",
          "2011",
          "2011",
          "2011",
          "2012",
          "2012",
          "2012",
          "2012",
          "2012",
          "2012",
          "2012",
          "2012",
          "2012",
          "2012",
          "2013",
          "2013",
          "2013",
          "2013",
          "2013",
          "2013",
          "2013",
          "2013",
          "2013",
          "2013",
          "2014",
          "2014",
          "2014",
          "2014",
          "2014",
          "2014",
          "2014",
          "2014",
          "2014",
          "2014",
          "2015",
          "2015",
          "2015",
          "2015",
          "2015",
          "2015",
          "2015",
          "2015",
          "2015",
          "2015",
          "2016",
          "2016",
          "2016",
          "2016",
          "2016",
          "2016",
          "2016",
          "2016",
          "2016",
          "2016",
          "2017",
          "2017",
          "2017",
          "2017",
          "2017",
          "2017",
          "2017",
          "2017",
          "2017",
          "2017",
          "2018",
          "2018",
          "2018",
          "2018",
          "2018",
          "2018",
          "2018",
          "2018",
          "2018",
          "2018",
          "2019",
          "2019",
          "2019",
          "2019",
          "2019",
          "2019",
          "2019",
          "2019",
          "2019",
          "2019",
          "2020",
          "2020",
          "2020",
          "2020",
          "2020",
          "2020",
          "2020",
          "2020",
          "2020",
          "2020"
         ],
         "xaxis": "x",
         "y": [
          22,
          489,
          63,
          14,
          39,
          53,
          15,
          21,
          308,
          557,
          21,
          229,
          78,
          10,
          35,
          60,
          24,
          14,
          275,
          482,
          23,
          318,
          76,
          21,
          44,
          51,
          30,
          23,
          301,
          527,
          35,
          289,
          62,
          12,
          28,
          36,
          29,
          22,
          222,
          481,
          28,
          291,
          37,
          12,
          20,
          38,
          26,
          15,
          235,
          490,
          24,
          277,
          53,
          6,
          24,
          42,
          23,
          12,
          237,
          496,
          27,
          238,
          75,
          11,
          23,
          45,
          24,
          17,
          172,
          467,
          21,
          254,
          27,
          6,
          15,
          29,
          24,
          14,
          198,
          496,
          26,
          304,
          0,
          11,
          23,
          52,
          25,
          19,
          228,
          733,
          24,
          0,
          0,
          7,
          31,
          58,
          32,
          10,
          248,
          653,
          36,
          0,
          0,
          9,
          33,
          70,
          23,
          14,
          269,
          599,
          18,
          0,
          0,
          12,
          26,
          78,
          19,
          14,
          254,
          571,
          20,
          0,
          0,
          4,
          35,
          65,
          27,
          10,
          243,
          460,
          4,
          0,
          0,
          11,
          22,
          43,
          18,
          15,
          3,
          442
         ],
         "yaxis": "y"
        },
        {
         "hovertemplate": "Type=Assaults<br>Year=%{x}<br>Count of Types=%{y}<extra></extra>",
         "legendgroup": "Assaults",
         "line": {
          "color": "#ab63fa",
          "dash": "solid"
         },
         "marker": {
          "symbol": "circle"
         },
         "mode": "lines",
         "name": "Assaults",
         "showlegend": true,
         "type": "scattergl",
         "x": [
          "2007",
          "2007",
          "2007",
          "2007",
          "2007",
          "2007",
          "2007",
          "2007",
          "2007",
          "2007",
          "2008",
          "2008",
          "2008",
          "2008",
          "2008",
          "2008",
          "2008",
          "2008",
          "2008",
          "2008",
          "2009",
          "2009",
          "2009",
          "2009",
          "2009",
          "2009",
          "2009",
          "2009",
          "2009",
          "2009",
          "2010",
          "2010",
          "2010",
          "2010",
          "2010",
          "2010",
          "2010",
          "2010",
          "2010",
          "2010",
          "2011",
          "2011",
          "2011",
          "2011",
          "2011",
          "2011",
          "2011",
          "2011",
          "2011",
          "2011",
          "2012",
          "2012",
          "2012",
          "2012",
          "2012",
          "2012",
          "2012",
          "2012",
          "2012",
          "2012",
          "2013",
          "2013",
          "2013",
          "2013",
          "2013",
          "2013",
          "2013",
          "2013",
          "2013",
          "2013",
          "2014",
          "2014",
          "2014",
          "2014",
          "2014",
          "2014",
          "2014",
          "2014",
          "2014",
          "2014",
          "2015",
          "2015",
          "2015",
          "2015",
          "2015",
          "2015",
          "2015",
          "2015",
          "2015",
          "2015",
          "2016",
          "2016",
          "2016",
          "2016",
          "2016",
          "2016",
          "2016",
          "2016",
          "2016",
          "2016",
          "2017",
          "2017",
          "2017",
          "2017",
          "2017",
          "2017",
          "2017",
          "2017",
          "2017",
          "2017",
          "2018",
          "2018",
          "2018",
          "2018",
          "2018",
          "2018",
          "2018",
          "2018",
          "2018",
          "2018",
          "2019",
          "2019",
          "2019",
          "2019",
          "2019",
          "2019",
          "2019",
          "2019",
          "2019",
          "2019",
          "2020",
          "2020",
          "2020",
          "2020",
          "2020",
          "2020",
          "2020",
          "2020",
          "2020",
          "2020"
         ],
         "xaxis": "x",
         "y": [
          187,
          549,
          299,
          68,
          555,
          221,
          108,
          97,
          352,
          2516,
          220,
          386,
          291,
          64,
          514,
          209,
          115,
          73,
          289,
          2303,
          206,
          507,
          293,
          56,
          172,
          226,
          88,
          64,
          360,
          2441,
          184,
          447,
          315,
          44,
          143,
          213,
          132,
          71,
          410,
          2290,
          183,
          534,
          271,
          44,
          152,
          189,
          95,
          75,
          395,
          2203,
          211,
          500,
          269,
          43,
          129,
          201,
          118,
          62,
          481,
          2135,
          182,
          382,
          216,
          38,
          123,
          204,
          91,
          53,
          396,
          2337,
          152,
          548,
          158,
          40,
          49,
          165,
          122,
          68,
          381,
          2179,
          186,
          567,
          0,
          56,
          115,
          176,
          119,
          82,
          388,
          2734,
          126,
          0,
          0,
          55,
          145,
          206,
          135,
          103,
          392,
          3152,
          165,
          0,
          0,
          63,
          149,
          216,
          136,
          84,
          425,
          2987,
          115,
          0,
          0,
          84,
          197,
          239,
          167,
          123,
          414,
          3653,
          107,
          0,
          0,
          66,
          174,
          229,
          154,
          126,
          565,
          3611,
          66,
          0,
          0,
          80,
          285,
          325,
          150,
          152,
          9,
          4032
         ],
         "yaxis": "y"
        },
        {
         "hovertemplate": "Type=Burglaries<br>Year=%{x}<br>Count of Types=%{y}<extra></extra>",
         "legendgroup": "Burglaries",
         "line": {
          "color": "#FFA15A",
          "dash": "solid"
         },
         "marker": {
          "symbol": "circle"
         },
         "mode": "lines",
         "name": "Burglaries",
         "showlegend": true,
         "type": "scattergl",
         "x": [
          "2007",
          "2007",
          "2007",
          "2007",
          "2007",
          "2007",
          "2007",
          "2007",
          "2007",
          "2007",
          "2008",
          "2008",
          "2008",
          "2008",
          "2008",
          "2008",
          "2008",
          "2008",
          "2008",
          "2008",
          "2009",
          "2009",
          "2009",
          "2009",
          "2009",
          "2009",
          "2009",
          "2009",
          "2009",
          "2009",
          "2010",
          "2010",
          "2010",
          "2010",
          "2010",
          "2010",
          "2010",
          "2010",
          "2010",
          "2010",
          "2011",
          "2011",
          "2011",
          "2011",
          "2011",
          "2011",
          "2011",
          "2011",
          "2011",
          "2011",
          "2012",
          "2012",
          "2012",
          "2012",
          "2012",
          "2012",
          "2012",
          "2012",
          "2012",
          "2012",
          "2013",
          "2013",
          "2013",
          "2013",
          "2013",
          "2013",
          "2013",
          "2013",
          "2013",
          "2013",
          "2014",
          "2014",
          "2014",
          "2014",
          "2014",
          "2014",
          "2014",
          "2014",
          "2014",
          "2014",
          "2015",
          "2015",
          "2015",
          "2015",
          "2015",
          "2015",
          "2015",
          "2015",
          "2015",
          "2015",
          "2016",
          "2016",
          "2016",
          "2016",
          "2016",
          "2016",
          "2016",
          "2016",
          "2016",
          "2016",
          "2017",
          "2017",
          "2017",
          "2017",
          "2017",
          "2017",
          "2017",
          "2017",
          "2017",
          "2017",
          "2018",
          "2018",
          "2018",
          "2018",
          "2018",
          "2018",
          "2018",
          "2018",
          "2018",
          "2018",
          "2019",
          "2019",
          "2019",
          "2019",
          "2019",
          "2019",
          "2019",
          "2019",
          "2019",
          "2019",
          "2020",
          "2020",
          "2020",
          "2020",
          "2020",
          "2020",
          "2020",
          "2020",
          "2020",
          "2020"
         ],
         "xaxis": "x",
         "y": [
          432,
          2269,
          550,
          196,
          346,
          532,
          365,
          165,
          1424,
          4362,
          468,
          1498,
          800,
          182,
          247,
          507,
          305,
          184,
          1561,
          4081,
          417,
          1918,
          683,
          122,
          321,
          534,
          436,
          177,
          1663,
          4054,
          589,
          1922,
          527,
          158,
          243,
          491,
          395,
          224,
          1598,
          4248,
          503,
          1827,
          505,
          113,
          259,
          468,
          420,
          159,
          1727,
          4017,
          503,
          1772,
          607,
          95,
          315,
          517,
          446,
          152,
          1277,
          3949,
          437,
          1617,
          494,
          106,
          217,
          404,
          325,
          171,
          1238,
          3941,
          381,
          1663,
          209,
          84,
          199,
          384,
          236,
          181,
          1007,
          3264,
          261,
          1311,
          0,
          97,
          190,
          505,
          262,
          165,
          1176,
          3489,
          431,
          0,
          0,
          92,
          178,
          405,
          295,
          132,
          1114,
          3470,
          429,
          0,
          0,
          145,
          165,
          302,
          284,
          114,
          1001,
          3296,
          360,
          0,
          0,
          100,
          147,
          379,
          262,
          137,
          973,
          3420,
          260,
          0,
          0,
          69,
          126,
          277,
          214,
          97,
          905,
          2674,
          79,
          0,
          0,
          99,
          155,
          382,
          155,
          142,
          9,
          2427
         ],
         "yaxis": "y"
        },
        {
         "hovertemplate": "Type=Thefts<br>Year=%{x}<br>Count of Types=%{y}<extra></extra>",
         "legendgroup": "Thefts",
         "line": {
          "color": "#19d3f3",
          "dash": "solid"
         },
         "marker": {
          "symbol": "circle"
         },
         "mode": "lines",
         "name": "Thefts",
         "showlegend": true,
         "type": "scattergl",
         "x": [
          "2007",
          "2007",
          "2007",
          "2007",
          "2007",
          "2007",
          "2007",
          "2007",
          "2007",
          "2007",
          "2008",
          "2008",
          "2008",
          "2008",
          "2008",
          "2008",
          "2008",
          "2008",
          "2008",
          "2008",
          "2009",
          "2009",
          "2009",
          "2009",
          "2009",
          "2009",
          "2009",
          "2009",
          "2009",
          "2009",
          "2010",
          "2010",
          "2010",
          "2010",
          "2010",
          "2010",
          "2010",
          "2010",
          "2010",
          "2010",
          "2011",
          "2011",
          "2011",
          "2011",
          "2011",
          "2011",
          "2011",
          "2011",
          "2011",
          "2011",
          "2012",
          "2012",
          "2012",
          "2012",
          "2012",
          "2012",
          "2012",
          "2012",
          "2012",
          "2012",
          "2013",
          "2013",
          "2013",
          "2013",
          "2013",
          "2013",
          "2013",
          "2013",
          "2013",
          "2013",
          "2014",
          "2014",
          "2014",
          "2014",
          "2014",
          "2014",
          "2014",
          "2014",
          "2014",
          "2014",
          "2015",
          "2015",
          "2015",
          "2015",
          "2015",
          "2015",
          "2015",
          "2015",
          "2015",
          "2015",
          "2016",
          "2016",
          "2016",
          "2016",
          "2016",
          "2016",
          "2016",
          "2016",
          "2016",
          "2016",
          "2017",
          "2017",
          "2017",
          "2017",
          "2017",
          "2017",
          "2017",
          "2017",
          "2017",
          "2017",
          "2018",
          "2018",
          "2018",
          "2018",
          "2018",
          "2018",
          "2018",
          "2018",
          "2018",
          "2018",
          "2019",
          "2019",
          "2019",
          "2019",
          "2019",
          "2019",
          "2019",
          "2019",
          "2019",
          "2019",
          "2020",
          "2020",
          "2020",
          "2020",
          "2020",
          "2020",
          "2020",
          "2020",
          "2020",
          "2020"
         ],
         "xaxis": "x",
         "y": [
          1805,
          5431,
          4313,
          1009,
          2553,
          3305,
          2302,
          937,
          5646,
          14296,
          1806,
          3470,
          3693,
          951,
          2267,
          3226,
          2097,
          914,
          5067,
          14132,
          1564,
          4744,
          3603,
          838,
          2126,
          3628,
          2144,
          927,
          4632,
          13928,
          2199,
          4684,
          3189,
          756,
          1922,
          3389,
          1803,
          875,
          5404,
          12515,
          2117,
          4792,
          3142,
          867,
          1774,
          3237,
          1779,
          950,
          5213,
          13615,
          1915,
          4558,
          3213,
          777,
          1988,
          3238,
          1813,
          769,
          4967,
          15466,
          1704,
          4566,
          2981,
          716,
          1877,
          2846,
          1524,
          763,
          4679,
          14930,
          1244,
          4697,
          1609,
          638,
          1388,
          2130,
          1503,
          763,
          4672,
          13006,
          1455,
          4754,
          0,
          679,
          1710,
          2422,
          1428,
          926,
          4876,
          14178,
          1366,
          0,
          0,
          740,
          1789,
          2078,
          1413,
          905,
          5227,
          15417,
          1382,
          0,
          0,
          698,
          1641,
          2655,
          1369,
          842,
          4725,
          15943,
          1191,
          0,
          0,
          672,
          1639,
          3017,
          1336,
          796,
          4851,
          15988,
          978,
          0,
          0,
          606,
          1300,
          2273,
          1409,
          668,
          4404,
          15937,
          415,
          0,
          0,
          646,
          1550,
          2979,
          1044,
          796,
          49,
          13321
         ],
         "yaxis": "y"
        },
        {
         "hovertemplate": "Type=Auto thefts<br>Year=%{x}<br>Count of Types=%{y}<extra></extra>",
         "legendgroup": "Auto thefts",
         "line": {
          "color": "#FF6692",
          "dash": "solid"
         },
         "marker": {
          "symbol": "circle"
         },
         "mode": "lines",
         "name": "Auto thefts",
         "showlegend": true,
         "type": "scattergl",
         "x": [
          "2007",
          "2007",
          "2007",
          "2007",
          "2007",
          "2007",
          "2007",
          "2007",
          "2007",
          "2007",
          "2008",
          "2008",
          "2008",
          "2008",
          "2008",
          "2008",
          "2008",
          "2008",
          "2008",
          "2008",
          "2009",
          "2009",
          "2009",
          "2009",
          "2009",
          "2009",
          "2009",
          "2009",
          "2009",
          "2009",
          "2010",
          "2010",
          "2010",
          "2010",
          "2010",
          "2010",
          "2010",
          "2010",
          "2010",
          "2010",
          "2011",
          "2011",
          "2011",
          "2011",
          "2011",
          "2011",
          "2011",
          "2011",
          "2011",
          "2011",
          "2012",
          "2012",
          "2012",
          "2012",
          "2012",
          "2012",
          "2012",
          "2012",
          "2012",
          "2012",
          "2013",
          "2013",
          "2013",
          "2013",
          "2013",
          "2013",
          "2013",
          "2013",
          "2013",
          "2013",
          "2014",
          "2014",
          "2014",
          "2014",
          "2014",
          "2014",
          "2014",
          "2014",
          "2014",
          "2014",
          "2015",
          "2015",
          "2015",
          "2015",
          "2015",
          "2015",
          "2015",
          "2015",
          "2015",
          "2015",
          "2016",
          "2016",
          "2016",
          "2016",
          "2016",
          "2016",
          "2016",
          "2016",
          "2016",
          "2016",
          "2017",
          "2017",
          "2017",
          "2017",
          "2017",
          "2017",
          "2017",
          "2017",
          "2017",
          "2017",
          "2018",
          "2018",
          "2018",
          "2018",
          "2018",
          "2018",
          "2018",
          "2018",
          "2018",
          "2018",
          "2019",
          "2019",
          "2019",
          "2019",
          "2019",
          "2019",
          "2019",
          "2019",
          "2019",
          "2019",
          "2020",
          "2020",
          "2020",
          "2020",
          "2020",
          "2020",
          "2020",
          "2020",
          "2020",
          "2020"
         ],
         "xaxis": "x",
         "y": [
          104,
          2017,
          196,
          156,
          116,
          429,
          100,
          206,
          704,
          2139,
          89,
          1166,
          199,
          104,
          99,
          360,
          89,
          150,
          688,
          1865,
          80,
          1080,
          156,
          69,
          162,
          345,
          100,
          98,
          407,
          1674,
          106,
          1129,
          157,
          85,
          142,
          305,
          91,
          123,
          504,
          1537,
          129,
          1264,
          194,
          106,
          171,
          310,
          75,
          130,
          589,
          1908,
          123,
          1208,
          203,
          97,
          177,
          324,
          107,
          139,
          597,
          1832,
          134,
          1045,
          174,
          76,
          179,
          280,
          116,
          157,
          569,
          1989,
          86,
          956,
          99,
          92,
          159,
          519,
          96,
          123,
          581,
          2031,
          113,
          989,
          0,
          113,
          199,
          520,
          99,
          155,
          549,
          2052,
          133,
          0,
          0,
          95,
          160,
          320,
          131,
          146,
          807,
          2202,
          140,
          0,
          0,
          99,
          152,
          274,
          112,
          138,
          768,
          2492,
          122,
          0,
          0,
          79,
          171,
          343,
          130,
          149,
          736,
          2785,
          61,
          0,
          0,
          86,
          192,
          320,
          133,
          118,
          962,
          2318,
          22,
          0,
          0,
          158,
          235,
          545,
          111,
          192,
          7,
          2072
         ],
         "yaxis": "y"
        },
        {
         "hovertemplate": "Type=Arson<br>Year=%{x}<br>Count of Types=%{y}<extra></extra>",
         "legendgroup": "Arson",
         "line": {
          "color": "#B6E880",
          "dash": "solid"
         },
         "marker": {
          "symbol": "circle"
         },
         "mode": "lines",
         "name": "Arson",
         "showlegend": true,
         "type": "scattergl",
         "x": [
          "2007",
          "2007",
          "2007",
          "2007",
          "2007",
          "2007",
          "2007",
          "2007",
          "2007",
          "2007",
          "2008",
          "2008",
          "2008",
          "2008",
          "2008",
          "2008",
          "2008",
          "2008",
          "2008",
          "2008",
          "2009",
          "2009",
          "2009",
          "2009",
          "2009",
          "2009",
          "2009",
          "2009",
          "2009",
          "2009",
          "2010",
          "2010",
          "2010",
          "2010",
          "2010",
          "2010",
          "2010",
          "2010",
          "2010",
          "2010",
          "2011",
          "2011",
          "2011",
          "2011",
          "2011",
          "2011",
          "2011",
          "2011",
          "2011",
          "2011",
          "2012",
          "2012",
          "2012",
          "2012",
          "2012",
          "2012",
          "2012",
          "2012",
          "2012",
          "2012",
          "2013",
          "2013",
          "2013",
          "2013",
          "2013",
          "2013",
          "2013",
          "2013",
          "2013",
          "2013",
          "2014",
          "2014",
          "2014",
          "2014",
          "2014",
          "2014",
          "2014",
          "2014",
          "2014",
          "2014",
          "2015",
          "2015",
          "2015",
          "2015",
          "2015",
          "2015",
          "2015",
          "2015",
          "2015",
          "2015",
          "2016",
          "2016",
          "2016",
          "2016",
          "2016",
          "2016",
          "2016",
          "2016",
          "2016",
          "2016",
          "2017",
          "2017",
          "2017",
          "2017",
          "2017",
          "2017",
          "2017",
          "2017",
          "2017",
          "2017",
          "2018",
          "2018",
          "2018",
          "2018",
          "2018",
          "2018",
          "2018",
          "2018",
          "2018",
          "2018",
          "2019",
          "2019",
          "2019",
          "2019",
          "2019",
          "2019",
          "2019",
          "2019",
          "2019",
          "2019",
          "2020",
          "2020",
          "2020",
          "2020",
          "2020",
          "2020",
          "2020",
          "2020",
          "2020",
          "2020"
         ],
         "xaxis": "x",
         "y": [
          32,
          0,
          23,
          14,
          17,
          44,
          20,
          18,
          10,
          189,
          37,
          0,
          26,
          12,
          19,
          44,
          23,
          24,
          10,
          187,
          36,
          0,
          20,
          5,
          23,
          21,
          23,
          21,
          9,
          180,
          23,
          0,
          21,
          4,
          19,
          38,
          39,
          11,
          14,
          129,
          22,
          0,
          14,
          8,
          19,
          38,
          32,
          12,
          6,
          139,
          21,
          69,
          26,
          14,
          16,
          27,
          23,
          11,
          7,
          134,
          17,
          56,
          19,
          1,
          19,
          15,
          15,
          8,
          7,
          113,
          17,
          61,
          12,
          1,
          0,
          9,
          9,
          7,
          5,
          120,
          8,
          77,
          0,
          3,
          10,
          16,
          18,
          12,
          12,
          129,
          10,
          0,
          0,
          1,
          2,
          16,
          19,
          6,
          1,
          136,
          17,
          0,
          0,
          1,
          9,
          10,
          29,
          9,
          11,
          100,
          16,
          0,
          0,
          2,
          7,
          22,
          26,
          8,
          7,
          139,
          11,
          0,
          0,
          0,
          9,
          5,
          9,
          7,
          3,
          127,
          6,
          0,
          0,
          3,
          11,
          13,
          15,
          8,
          1,
          132
         ],
         "yaxis": "y"
        }
       ],
       "layout": {
        "legend": {
         "title": {
          "text": "Type"
         },
         "tracegroupgap": 0
        },
        "margin": {
         "t": 60
        },
        "template": {
         "data": {
          "bar": [
           {
            "error_x": {
             "color": "#2a3f5f"
            },
            "error_y": {
             "color": "#2a3f5f"
            },
            "marker": {
             "line": {
              "color": "#E5ECF6",
              "width": 0.5
             },
             "pattern": {
              "fillmode": "overlay",
              "size": 10,
              "solidity": 0.2
             }
            },
            "type": "bar"
           }
          ],
          "barpolar": [
           {
            "marker": {
             "line": {
              "color": "#E5ECF6",
              "width": 0.5
             },
             "pattern": {
              "fillmode": "overlay",
              "size": 10,
              "solidity": 0.2
             }
            },
            "type": "barpolar"
           }
          ],
          "carpet": [
           {
            "aaxis": {
             "endlinecolor": "#2a3f5f",
             "gridcolor": "white",
             "linecolor": "white",
             "minorgridcolor": "white",
             "startlinecolor": "#2a3f5f"
            },
            "baxis": {
             "endlinecolor": "#2a3f5f",
             "gridcolor": "white",
             "linecolor": "white",
             "minorgridcolor": "white",
             "startlinecolor": "#2a3f5f"
            },
            "type": "carpet"
           }
          ],
          "choropleth": [
           {
            "colorbar": {
             "outlinewidth": 0,
             "ticks": ""
            },
            "type": "choropleth"
           }
          ],
          "contour": [
           {
            "colorbar": {
             "outlinewidth": 0,
             "ticks": ""
            },
            "colorscale": [
             [
              0,
              "#0d0887"
             ],
             [
              0.1111111111111111,
              "#46039f"
             ],
             [
              0.2222222222222222,
              "#7201a8"
             ],
             [
              0.3333333333333333,
              "#9c179e"
             ],
             [
              0.4444444444444444,
              "#bd3786"
             ],
             [
              0.5555555555555556,
              "#d8576b"
             ],
             [
              0.6666666666666666,
              "#ed7953"
             ],
             [
              0.7777777777777778,
              "#fb9f3a"
             ],
             [
              0.8888888888888888,
              "#fdca26"
             ],
             [
              1,
              "#f0f921"
             ]
            ],
            "type": "contour"
           }
          ],
          "contourcarpet": [
           {
            "colorbar": {
             "outlinewidth": 0,
             "ticks": ""
            },
            "type": "contourcarpet"
           }
          ],
          "heatmap": [
           {
            "colorbar": {
             "outlinewidth": 0,
             "ticks": ""
            },
            "colorscale": [
             [
              0,
              "#0d0887"
             ],
             [
              0.1111111111111111,
              "#46039f"
             ],
             [
              0.2222222222222222,
              "#7201a8"
             ],
             [
              0.3333333333333333,
              "#9c179e"
             ],
             [
              0.4444444444444444,
              "#bd3786"
             ],
             [
              0.5555555555555556,
              "#d8576b"
             ],
             [
              0.6666666666666666,
              "#ed7953"
             ],
             [
              0.7777777777777778,
              "#fb9f3a"
             ],
             [
              0.8888888888888888,
              "#fdca26"
             ],
             [
              1,
              "#f0f921"
             ]
            ],
            "type": "heatmap"
           }
          ],
          "heatmapgl": [
           {
            "colorbar": {
             "outlinewidth": 0,
             "ticks": ""
            },
            "colorscale": [
             [
              0,
              "#0d0887"
             ],
             [
              0.1111111111111111,
              "#46039f"
             ],
             [
              0.2222222222222222,
              "#7201a8"
             ],
             [
              0.3333333333333333,
              "#9c179e"
             ],
             [
              0.4444444444444444,
              "#bd3786"
             ],
             [
              0.5555555555555556,
              "#d8576b"
             ],
             [
              0.6666666666666666,
              "#ed7953"
             ],
             [
              0.7777777777777778,
              "#fb9f3a"
             ],
             [
              0.8888888888888888,
              "#fdca26"
             ],
             [
              1,
              "#f0f921"
             ]
            ],
            "type": "heatmapgl"
           }
          ],
          "histogram": [
           {
            "marker": {
             "pattern": {
              "fillmode": "overlay",
              "size": 10,
              "solidity": 0.2
             }
            },
            "type": "histogram"
           }
          ],
          "histogram2d": [
           {
            "colorbar": {
             "outlinewidth": 0,
             "ticks": ""
            },
            "colorscale": [
             [
              0,
              "#0d0887"
             ],
             [
              0.1111111111111111,
              "#46039f"
             ],
             [
              0.2222222222222222,
              "#7201a8"
             ],
             [
              0.3333333333333333,
              "#9c179e"
             ],
             [
              0.4444444444444444,
              "#bd3786"
             ],
             [
              0.5555555555555556,
              "#d8576b"
             ],
             [
              0.6666666666666666,
              "#ed7953"
             ],
             [
              0.7777777777777778,
              "#fb9f3a"
             ],
             [
              0.8888888888888888,
              "#fdca26"
             ],
             [
              1,
              "#f0f921"
             ]
            ],
            "type": "histogram2d"
           }
          ],
          "histogram2dcontour": [
           {
            "colorbar": {
             "outlinewidth": 0,
             "ticks": ""
            },
            "colorscale": [
             [
              0,
              "#0d0887"
             ],
             [
              0.1111111111111111,
              "#46039f"
             ],
             [
              0.2222222222222222,
              "#7201a8"
             ],
             [
              0.3333333333333333,
              "#9c179e"
             ],
             [
              0.4444444444444444,
              "#bd3786"
             ],
             [
              0.5555555555555556,
              "#d8576b"
             ],
             [
              0.6666666666666666,
              "#ed7953"
             ],
             [
              0.7777777777777778,
              "#fb9f3a"
             ],
             [
              0.8888888888888888,
              "#fdca26"
             ],
             [
              1,
              "#f0f921"
             ]
            ],
            "type": "histogram2dcontour"
           }
          ],
          "mesh3d": [
           {
            "colorbar": {
             "outlinewidth": 0,
             "ticks": ""
            },
            "type": "mesh3d"
           }
          ],
          "parcoords": [
           {
            "line": {
             "colorbar": {
              "outlinewidth": 0,
              "ticks": ""
             }
            },
            "type": "parcoords"
           }
          ],
          "pie": [
           {
            "automargin": true,
            "type": "pie"
           }
          ],
          "scatter": [
           {
            "fillpattern": {
             "fillmode": "overlay",
             "size": 10,
             "solidity": 0.2
            },
            "type": "scatter"
           }
          ],
          "scatter3d": [
           {
            "line": {
             "colorbar": {
              "outlinewidth": 0,
              "ticks": ""
             }
            },
            "marker": {
             "colorbar": {
              "outlinewidth": 0,
              "ticks": ""
             }
            },
            "type": "scatter3d"
           }
          ],
          "scattercarpet": [
           {
            "marker": {
             "colorbar": {
              "outlinewidth": 0,
              "ticks": ""
             }
            },
            "type": "scattercarpet"
           }
          ],
          "scattergeo": [
           {
            "marker": {
             "colorbar": {
              "outlinewidth": 0,
              "ticks": ""
             }
            },
            "type": "scattergeo"
           }
          ],
          "scattergl": [
           {
            "marker": {
             "colorbar": {
              "outlinewidth": 0,
              "ticks": ""
             }
            },
            "type": "scattergl"
           }
          ],
          "scattermapbox": [
           {
            "marker": {
             "colorbar": {
              "outlinewidth": 0,
              "ticks": ""
             }
            },
            "type": "scattermapbox"
           }
          ],
          "scatterpolar": [
           {
            "marker": {
             "colorbar": {
              "outlinewidth": 0,
              "ticks": ""
             }
            },
            "type": "scatterpolar"
           }
          ],
          "scatterpolargl": [
           {
            "marker": {
             "colorbar": {
              "outlinewidth": 0,
              "ticks": ""
             }
            },
            "type": "scatterpolargl"
           }
          ],
          "scatterternary": [
           {
            "marker": {
             "colorbar": {
              "outlinewidth": 0,
              "ticks": ""
             }
            },
            "type": "scatterternary"
           }
          ],
          "surface": [
           {
            "colorbar": {
             "outlinewidth": 0,
             "ticks": ""
            },
            "colorscale": [
             [
              0,
              "#0d0887"
             ],
             [
              0.1111111111111111,
              "#46039f"
             ],
             [
              0.2222222222222222,
              "#7201a8"
             ],
             [
              0.3333333333333333,
              "#9c179e"
             ],
             [
              0.4444444444444444,
              "#bd3786"
             ],
             [
              0.5555555555555556,
              "#d8576b"
             ],
             [
              0.6666666666666666,
              "#ed7953"
             ],
             [
              0.7777777777777778,
              "#fb9f3a"
             ],
             [
              0.8888888888888888,
              "#fdca26"
             ],
             [
              1,
              "#f0f921"
             ]
            ],
            "type": "surface"
           }
          ],
          "table": [
           {
            "cells": {
             "fill": {
              "color": "#EBF0F8"
             },
             "line": {
              "color": "white"
             }
            },
            "header": {
             "fill": {
              "color": "#C8D4E3"
             },
             "line": {
              "color": "white"
             }
            },
            "type": "table"
           }
          ]
         },
         "layout": {
          "annotationdefaults": {
           "arrowcolor": "#2a3f5f",
           "arrowhead": 0,
           "arrowwidth": 1
          },
          "autotypenumbers": "strict",
          "coloraxis": {
           "colorbar": {
            "outlinewidth": 0,
            "ticks": ""
           }
          },
          "colorscale": {
           "diverging": [
            [
             0,
             "#8e0152"
            ],
            [
             0.1,
             "#c51b7d"
            ],
            [
             0.2,
             "#de77ae"
            ],
            [
             0.3,
             "#f1b6da"
            ],
            [
             0.4,
             "#fde0ef"
            ],
            [
             0.5,
             "#f7f7f7"
            ],
            [
             0.6,
             "#e6f5d0"
            ],
            [
             0.7,
             "#b8e186"
            ],
            [
             0.8,
             "#7fbc41"
            ],
            [
             0.9,
             "#4d9221"
            ],
            [
             1,
             "#276419"
            ]
           ],
           "sequential": [
            [
             0,
             "#0d0887"
            ],
            [
             0.1111111111111111,
             "#46039f"
            ],
            [
             0.2222222222222222,
             "#7201a8"
            ],
            [
             0.3333333333333333,
             "#9c179e"
            ],
            [
             0.4444444444444444,
             "#bd3786"
            ],
            [
             0.5555555555555556,
             "#d8576b"
            ],
            [
             0.6666666666666666,
             "#ed7953"
            ],
            [
             0.7777777777777778,
             "#fb9f3a"
            ],
            [
             0.8888888888888888,
             "#fdca26"
            ],
            [
             1,
             "#f0f921"
            ]
           ],
           "sequentialminus": [
            [
             0,
             "#0d0887"
            ],
            [
             0.1111111111111111,
             "#46039f"
            ],
            [
             0.2222222222222222,
             "#7201a8"
            ],
            [
             0.3333333333333333,
             "#9c179e"
            ],
            [
             0.4444444444444444,
             "#bd3786"
            ],
            [
             0.5555555555555556,
             "#d8576b"
            ],
            [
             0.6666666666666666,
             "#ed7953"
            ],
            [
             0.7777777777777778,
             "#fb9f3a"
            ],
            [
             0.8888888888888888,
             "#fdca26"
            ],
            [
             1,
             "#f0f921"
            ]
           ]
          },
          "colorway": [
           "#636efa",
           "#EF553B",
           "#00cc96",
           "#ab63fa",
           "#FFA15A",
           "#19d3f3",
           "#FF6692",
           "#B6E880",
           "#FF97FF",
           "#FECB52"
          ],
          "font": {
           "color": "#2a3f5f"
          },
          "geo": {
           "bgcolor": "white",
           "lakecolor": "white",
           "landcolor": "#E5ECF6",
           "showlakes": true,
           "showland": true,
           "subunitcolor": "white"
          },
          "hoverlabel": {
           "align": "left"
          },
          "hovermode": "closest",
          "mapbox": {
           "style": "light"
          },
          "paper_bgcolor": "white",
          "plot_bgcolor": "#E5ECF6",
          "polar": {
           "angularaxis": {
            "gridcolor": "white",
            "linecolor": "white",
            "ticks": ""
           },
           "bgcolor": "#E5ECF6",
           "radialaxis": {
            "gridcolor": "white",
            "linecolor": "white",
            "ticks": ""
           }
          },
          "scene": {
           "xaxis": {
            "backgroundcolor": "#E5ECF6",
            "gridcolor": "white",
            "gridwidth": 2,
            "linecolor": "white",
            "showbackground": true,
            "ticks": "",
            "zerolinecolor": "white"
           },
           "yaxis": {
            "backgroundcolor": "#E5ECF6",
            "gridcolor": "white",
            "gridwidth": 2,
            "linecolor": "white",
            "showbackground": true,
            "ticks": "",
            "zerolinecolor": "white"
           },
           "zaxis": {
            "backgroundcolor": "#E5ECF6",
            "gridcolor": "white",
            "gridwidth": 2,
            "linecolor": "white",
            "showbackground": true,
            "ticks": "",
            "zerolinecolor": "white"
           }
          },
          "shapedefaults": {
           "line": {
            "color": "#2a3f5f"
           }
          },
          "ternary": {
           "aaxis": {
            "gridcolor": "white",
            "linecolor": "white",
            "ticks": ""
           },
           "baxis": {
            "gridcolor": "white",
            "linecolor": "white",
            "ticks": ""
           },
           "bgcolor": "#E5ECF6",
           "caxis": {
            "gridcolor": "white",
            "linecolor": "white",
            "ticks": ""
           }
          },
          "title": {
           "x": 0.05
          },
          "xaxis": {
           "automargin": true,
           "gridcolor": "white",
           "linecolor": "white",
           "ticks": "",
           "title": {
            "standoff": 15
           },
           "zerolinecolor": "white",
           "zerolinewidth": 2
          },
          "yaxis": {
           "automargin": true,
           "gridcolor": "white",
           "linecolor": "white",
           "ticks": "",
           "title": {
            "standoff": 15
           },
           "zerolinecolor": "white",
           "zerolinewidth": 2
          }
         }
        },
        "xaxis": {
         "anchor": "y",
         "domain": [
          0,
          1
         ],
         "title": {
          "text": "Year"
         }
        },
        "yaxis": {
         "anchor": "x",
         "domain": [
          0,
          1
         ],
         "title": {
          "text": "Count of Types"
         }
        }
       }
      }
     },
     "metadata": {},
     "output_type": "display_data"
    },
    {
     "data": {
      "text/plain": [
       "<Figure size 1800x1500 with 0 Axes>"
      ]
     },
     "metadata": {},
     "output_type": "display_data"
    }
   ],
   "source": [
    "# line plot for Types of Crime\n",
    "plt.figure(figsize=(18,15))\n",
    "fig = px.line(x='Year', y='Count of Types', data_frame=df_new, color='Type')\n",
    "fig.show()"
   ]
  },
  {
   "cell_type": "code",
   "execution_count": 29,
   "metadata": {},
   "outputs": [
    {
     "data": {
      "application/vnd.plotly.v1+json": {
       "config": {
        "plotlyServerURL": "https://plot.ly"
       },
       "data": [
        {
         "hovertemplate": "Type=Murders<br>City name=Hutchinson<br>Year=%{x}<br>Count of Types=%{y}<extra></extra>",
         "legendgroup": "Murders",
         "line": {
          "color": "#636efa",
          "dash": "solid"
         },
         "marker": {
          "symbol": "circle"
         },
         "mode": "lines",
         "name": "Murders",
         "showlegend": true,
         "type": "scattergl",
         "x": [
          "2007",
          "2008",
          "2009",
          "2010",
          "2011",
          "2012",
          "2013",
          "2014",
          "2015",
          "2016",
          "2017",
          "2018",
          "2019",
          "2020"
         ],
         "xaxis": "x",
         "y": [
          1,
          3,
          0,
          2,
          1,
          1,
          3,
          0,
          1,
          2,
          2,
          1,
          1,
          0
         ],
         "yaxis": "y"
        },
        {
         "hovertemplate": "Type=Murders<br>City name=Kansas<br>Year=%{x}<br>Count of Types=%{y}<extra></extra>",
         "legendgroup": "Murders",
         "line": {
          "color": "#636efa",
          "dash": "solid"
         },
         "marker": {
          "symbol": "circle"
         },
         "mode": "lines",
         "name": "Murders",
         "showlegend": false,
         "type": "scattergl",
         "x": [
          "2007",
          "2008",
          "2009",
          "2010",
          "2011",
          "2012",
          "2013",
          "2014",
          "2015",
          "2016",
          "2017",
          "2018",
          "2019",
          "2020"
         ],
         "xaxis": "x2",
         "y": [
          20,
          23,
          35,
          25,
          27,
          15,
          28,
          25,
          28,
          0,
          0,
          0,
          0,
          0
         ],
         "yaxis": "y2"
        },
        {
         "hovertemplate": "Type=Murders<br>City name=Lawrence<br>Year=%{x}<br>Count of Types=%{y}<extra></extra>",
         "legendgroup": "Murders",
         "line": {
          "color": "#636efa",
          "dash": "solid"
         },
         "marker": {
          "symbol": "circle"
         },
         "mode": "lines",
         "name": "Murders",
         "showlegend": false,
         "type": "scattergl",
         "x": [
          "2007",
          "2008",
          "2009",
          "2010",
          "2011",
          "2012",
          "2013",
          "2014",
          "2015",
          "2016",
          "2017",
          "2018",
          "2019",
          "2020"
         ],
         "xaxis": "x3",
         "y": [
          0,
          4,
          0,
          0,
          0,
          0,
          3,
          1,
          0,
          0,
          0,
          0,
          0,
          0
         ],
         "yaxis": "y3"
        },
        {
         "hovertemplate": "Type=Murders<br>City name=Lenexa<br>Year=%{x}<br>Count of Types=%{y}<extra></extra>",
         "legendgroup": "Murders",
         "line": {
          "color": "#636efa",
          "dash": "solid"
         },
         "marker": {
          "symbol": "circle"
         },
         "mode": "lines",
         "name": "Murders",
         "showlegend": false,
         "type": "scattergl",
         "x": [
          "2007",
          "2008",
          "2009",
          "2010",
          "2011",
          "2012",
          "2013",
          "2014",
          "2015",
          "2016",
          "2017",
          "2018",
          "2019",
          "2020"
         ],
         "xaxis": "x4",
         "y": [
          0,
          0,
          0,
          1,
          1,
          1,
          0,
          2,
          0,
          0,
          1,
          0,
          0,
          0
         ],
         "yaxis": "y4"
        },
        {
         "hovertemplate": "Type=Murders<br>City name=Olathe<br>Year=%{x}<br>Count of Types=%{y}<extra></extra>",
         "legendgroup": "Murders",
         "line": {
          "color": "#636efa",
          "dash": "solid"
         },
         "marker": {
          "symbol": "circle"
         },
         "mode": "lines",
         "name": "Murders",
         "showlegend": false,
         "type": "scattergl",
         "x": [
          "2007",
          "2008",
          "2009",
          "2010",
          "2011",
          "2012",
          "2013",
          "2014",
          "2015",
          "2016",
          "2017",
          "2018",
          "2019",
          "2020"
         ],
         "xaxis": "x5",
         "y": [
          2,
          2,
          0,
          4,
          6,
          0,
          2,
          0,
          3,
          1,
          2,
          2,
          4,
          2
         ],
         "yaxis": "y5"
        },
        {
         "hovertemplate": "Type=Murders<br>City name=Overland_park<br>Year=%{x}<br>Count of Types=%{y}<extra></extra>",
         "legendgroup": "Murders",
         "line": {
          "color": "#636efa",
          "dash": "solid"
         },
         "marker": {
          "symbol": "circle"
         },
         "mode": "lines",
         "name": "Murders",
         "showlegend": false,
         "type": "scattergl",
         "x": [
          "2007",
          "2008",
          "2009",
          "2010",
          "2011",
          "2012",
          "2013",
          "2014",
          "2015",
          "2016",
          "2017",
          "2018",
          "2019",
          "2020"
         ],
         "xaxis": "x6",
         "y": [
          2,
          1,
          3,
          0,
          2,
          2,
          2,
          6,
          5,
          4,
          4,
          3,
          4,
          4
         ],
         "yaxis": "y6"
        },
        {
         "hovertemplate": "Type=Murders<br>City name=Salina<br>Year=%{x}<br>Count of Types=%{y}<extra></extra>",
         "legendgroup": "Murders",
         "line": {
          "color": "#636efa",
          "dash": "solid"
         },
         "marker": {
          "symbol": "circle"
         },
         "mode": "lines",
         "name": "Murders",
         "showlegend": false,
         "type": "scattergl",
         "x": [
          "2007",
          "2008",
          "2009",
          "2010",
          "2011",
          "2012",
          "2013",
          "2014",
          "2015",
          "2016",
          "2017",
          "2018",
          "2019",
          "2020"
         ],
         "xaxis": "x7",
         "y": [
          0,
          4,
          5,
          1,
          3,
          1,
          1,
          0,
          2,
          2,
          2,
          1,
          2,
          0
         ],
         "yaxis": "y7"
        },
        {
         "hovertemplate": "Type=Murders<br>City name=Shawnee<br>Year=%{x}<br>Count of Types=%{y}<extra></extra>",
         "legendgroup": "Murders",
         "line": {
          "color": "#636efa",
          "dash": "solid"
         },
         "marker": {
          "symbol": "circle"
         },
         "mode": "lines",
         "name": "Murders",
         "showlegend": false,
         "type": "scattergl",
         "x": [
          "2007",
          "2008",
          "2009",
          "2010",
          "2011",
          "2012",
          "2013",
          "2014",
          "2015",
          "2016",
          "2017",
          "2018",
          "2019",
          "2020"
         ],
         "xaxis": "x8",
         "y": [
          0,
          2,
          1,
          4,
          1,
          0,
          2,
          0,
          2,
          1,
          0,
          3,
          1,
          0
         ],
         "yaxis": "y8"
        },
        {
         "hovertemplate": "Type=Murders<br>City name=Topeka<br>Year=%{x}<br>Count of Types=%{y}<extra></extra>",
         "legendgroup": "Murders",
         "line": {
          "color": "#636efa",
          "dash": "solid"
         },
         "marker": {
          "symbol": "circle"
         },
         "mode": "lines",
         "name": "Murders",
         "showlegend": false,
         "type": "scattergl",
         "x": [
          "2007",
          "2008",
          "2009",
          "2010",
          "2011",
          "2012",
          "2013",
          "2014",
          "2015",
          "2016",
          "2017",
          "2018",
          "2019",
          "2020"
         ],
         "xaxis": "x9",
         "y": [
          12,
          10,
          10,
          12,
          14,
          15,
          11,
          6,
          11,
          17,
          27,
          14,
          13,
          1
         ],
         "yaxis": "y9"
        },
        {
         "hovertemplate": "Type=Murders<br>City name=Wichita<br>Year=%{x}<br>Count of Types=%{y}<extra></extra>",
         "legendgroup": "Murders",
         "line": {
          "color": "#636efa",
          "dash": "solid"
         },
         "marker": {
          "symbol": "circle"
         },
         "mode": "lines",
         "name": "Murders",
         "showlegend": false,
         "type": "scattergl",
         "x": [
          "2007",
          "2008",
          "2009",
          "2010",
          "2011",
          "2012",
          "2013",
          "2014",
          "2015",
          "2016",
          "2017",
          "2018",
          "2019",
          "2020"
         ],
         "xaxis": "x10",
         "y": [
          40,
          30,
          25,
          16,
          25,
          23,
          15,
          21,
          27,
          31,
          35,
          35,
          35,
          45
         ],
         "yaxis": "y10"
        },
        {
         "hovertemplate": "Type=Rapes<br>City name=Hutchinson<br>Year=%{x}<br>Count of Types=%{y}<extra></extra>",
         "legendgroup": "Rapes",
         "line": {
          "color": "#EF553B",
          "dash": "solid"
         },
         "marker": {
          "symbol": "circle"
         },
         "mode": "lines",
         "name": "Rapes",
         "showlegend": true,
         "type": "scattergl",
         "x": [
          "2007",
          "2008",
          "2009",
          "2010",
          "2011",
          "2012",
          "2013",
          "2014",
          "2015",
          "2016",
          "2017",
          "2018",
          "2019",
          "2020"
         ],
         "xaxis": "x",
         "y": [
          19,
          28,
          34,
          25,
          22,
          26,
          43,
          32,
          43,
          35,
          40,
          37,
          26,
          11
         ],
         "yaxis": "y"
        },
        {
         "hovertemplate": "Type=Rapes<br>City name=Kansas<br>Year=%{x}<br>Count of Types=%{y}<extra></extra>",
         "legendgroup": "Rapes",
         "line": {
          "color": "#EF553B",
          "dash": "solid"
         },
         "marker": {
          "symbol": "circle"
         },
         "mode": "lines",
         "name": "Rapes",
         "showlegend": false,
         "type": "scattergl",
         "x": [
          "2007",
          "2008",
          "2009",
          "2010",
          "2011",
          "2012",
          "2013",
          "2014",
          "2015",
          "2016",
          "2017",
          "2018",
          "2019",
          "2020"
         ],
         "xaxis": "x2",
         "y": [
          91,
          59,
          80,
          62,
          95,
          85,
          83,
          233,
          264,
          0,
          0,
          0,
          0,
          0
         ],
         "yaxis": "y2"
        },
        {
         "hovertemplate": "Type=Rapes<br>City name=Lawrence<br>Year=%{x}<br>Count of Types=%{y}<extra></extra>",
         "legendgroup": "Rapes",
         "line": {
          "color": "#EF553B",
          "dash": "solid"
         },
         "marker": {
          "symbol": "circle"
         },
         "mode": "lines",
         "name": "Rapes",
         "showlegend": false,
         "type": "scattergl",
         "x": [
          "2007",
          "2008",
          "2009",
          "2010",
          "2011",
          "2012",
          "2013",
          "2014",
          "2015",
          "2016",
          "2017",
          "2018",
          "2019",
          "2020"
         ],
         "xaxis": "x3",
         "y": [
          48,
          41,
          62,
          42,
          38,
          53,
          55,
          25,
          0,
          0,
          0,
          0,
          0,
          0
         ],
         "yaxis": "y3"
        },
        {
         "hovertemplate": "Type=Rapes<br>City name=Lenexa<br>Year=%{x}<br>Count of Types=%{y}<extra></extra>",
         "legendgroup": "Rapes",
         "line": {
          "color": "#EF553B",
          "dash": "solid"
         },
         "marker": {
          "symbol": "circle"
         },
         "mode": "lines",
         "name": "Rapes",
         "showlegend": false,
         "type": "scattergl",
         "x": [
          "2007",
          "2008",
          "2009",
          "2010",
          "2011",
          "2012",
          "2013",
          "2014",
          "2015",
          "2016",
          "2017",
          "2018",
          "2019",
          "2020"
         ],
         "xaxis": "x4",
         "y": [
          7,
          12,
          12,
          9,
          12,
          9,
          9,
          8,
          7,
          9,
          18,
          13,
          17,
          12
         ],
         "yaxis": "y4"
        },
        {
         "hovertemplate": "Type=Rapes<br>City name=Olathe<br>Year=%{x}<br>Count of Types=%{y}<extra></extra>",
         "legendgroup": "Rapes",
         "line": {
          "color": "#EF553B",
          "dash": "solid"
         },
         "marker": {
          "symbol": "circle"
         },
         "mode": "lines",
         "name": "Rapes",
         "showlegend": false,
         "type": "scattergl",
         "x": [
          "2007",
          "2008",
          "2009",
          "2010",
          "2011",
          "2012",
          "2013",
          "2014",
          "2015",
          "2016",
          "2017",
          "2018",
          "2019",
          "2020"
         ],
         "xaxis": "x5",
         "y": [
          37,
          62,
          48,
          41,
          48,
          38,
          37,
          37,
          36,
          45,
          71,
          80,
          78,
          46
         ],
         "yaxis": "y5"
        },
        {
         "hovertemplate": "Type=Rapes<br>City name=Overland_park<br>Year=%{x}<br>Count of Types=%{y}<extra></extra>",
         "legendgroup": "Rapes",
         "line": {
          "color": "#EF553B",
          "dash": "solid"
         },
         "marker": {
          "symbol": "circle"
         },
         "mode": "lines",
         "name": "Rapes",
         "showlegend": false,
         "type": "scattergl",
         "x": [
          "2007",
          "2008",
          "2009",
          "2010",
          "2011",
          "2012",
          "2013",
          "2014",
          "2015",
          "2016",
          "2017",
          "2018",
          "2019",
          "2020"
         ],
         "xaxis": "x6",
         "y": [
          35,
          35,
          28,
          40,
          60,
          40,
          33,
          127,
          166,
          108,
          109,
          120,
          69,
          39
         ],
         "yaxis": "y6"
        },
        {
         "hovertemplate": "Type=Rapes<br>City name=Salina<br>Year=%{x}<br>Count of Types=%{y}<extra></extra>",
         "legendgroup": "Rapes",
         "line": {
          "color": "#EF553B",
          "dash": "solid"
         },
         "marker": {
          "symbol": "circle"
         },
         "mode": "lines",
         "name": "Rapes",
         "showlegend": false,
         "type": "scattergl",
         "x": [
          "2007",
          "2008",
          "2009",
          "2010",
          "2011",
          "2012",
          "2013",
          "2014",
          "2015",
          "2016",
          "2017",
          "2018",
          "2019",
          "2020"
         ],
         "xaxis": "x7",
         "y": [
          46,
          37,
          29,
          28,
          43,
          23,
          44,
          47,
          44,
          36,
          45,
          43,
          38,
          36
         ],
         "yaxis": "y7"
        },
        {
         "hovertemplate": "Type=Rapes<br>City name=Shawnee<br>Year=%{x}<br>Count of Types=%{y}<extra></extra>",
         "legendgroup": "Rapes",
         "line": {
          "color": "#EF553B",
          "dash": "solid"
         },
         "marker": {
          "symbol": "circle"
         },
         "mode": "lines",
         "name": "Rapes",
         "showlegend": false,
         "type": "scattergl",
         "x": [
          "2007",
          "2008",
          "2009",
          "2010",
          "2011",
          "2012",
          "2013",
          "2014",
          "2015",
          "2016",
          "2017",
          "2018",
          "2019",
          "2020"
         ],
         "xaxis": "x8",
         "y": [
          9,
          7,
          18,
          21,
          17,
          11,
          15,
          24,
          19,
          23,
          21,
          26,
          7,
          24
         ],
         "yaxis": "y8"
        },
        {
         "hovertemplate": "Type=Rapes<br>City name=Topeka<br>Year=%{x}<br>Count of Types=%{y}<extra></extra>",
         "legendgroup": "Rapes",
         "line": {
          "color": "#EF553B",
          "dash": "solid"
         },
         "marker": {
          "symbol": "circle"
         },
         "mode": "lines",
         "name": "Rapes",
         "showlegend": false,
         "type": "scattergl",
         "x": [
          "2007",
          "2008",
          "2009",
          "2010",
          "2011",
          "2012",
          "2013",
          "2014",
          "2015",
          "2016",
          "2017",
          "2018",
          "2019",
          "2020"
         ],
         "xaxis": "x9",
         "y": [
          47,
          35,
          44,
          51,
          53,
          39,
          33,
          66,
          93,
          54,
          56,
          84,
          74,
          3
         ],
         "yaxis": "y9"
        },
        {
         "hovertemplate": "Type=Rapes<br>City name=Wichita<br>Year=%{x}<br>Count of Types=%{y}<extra></extra>",
         "legendgroup": "Rapes",
         "line": {
          "color": "#EF553B",
          "dash": "solid"
         },
         "marker": {
          "symbol": "circle"
         },
         "mode": "lines",
         "name": "Rapes",
         "showlegend": false,
         "type": "scattergl",
         "x": [
          "2007",
          "2008",
          "2009",
          "2010",
          "2011",
          "2012",
          "2013",
          "2014",
          "2015",
          "2016",
          "2017",
          "2018",
          "2019",
          "2020"
         ],
         "xaxis": "x10",
         "y": [
          278,
          282,
          262,
          251,
          245,
          242,
          250,
          243,
          360,
          327,
          406,
          407,
          387,
          353
         ],
         "yaxis": "y10"
        },
        {
         "hovertemplate": "Type=Robberies<br>City name=Hutchinson<br>Year=%{x}<br>Count of Types=%{y}<extra></extra>",
         "legendgroup": "Robberies",
         "line": {
          "color": "#00cc96",
          "dash": "solid"
         },
         "marker": {
          "symbol": "circle"
         },
         "mode": "lines",
         "name": "Robberies",
         "showlegend": true,
         "type": "scattergl",
         "x": [
          "2007",
          "2008",
          "2009",
          "2010",
          "2011",
          "2012",
          "2013",
          "2014",
          "2015",
          "2016",
          "2017",
          "2018",
          "2019",
          "2020"
         ],
         "xaxis": "x",
         "y": [
          22,
          21,
          23,
          35,
          28,
          24,
          27,
          21,
          26,
          24,
          36,
          18,
          20,
          4
         ],
         "yaxis": "y"
        },
        {
         "hovertemplate": "Type=Robberies<br>City name=Kansas<br>Year=%{x}<br>Count of Types=%{y}<extra></extra>",
         "legendgroup": "Robberies",
         "line": {
          "color": "#00cc96",
          "dash": "solid"
         },
         "marker": {
          "symbol": "circle"
         },
         "mode": "lines",
         "name": "Robberies",
         "showlegend": false,
         "type": "scattergl",
         "x": [
          "2007",
          "2008",
          "2009",
          "2010",
          "2011",
          "2012",
          "2013",
          "2014",
          "2015",
          "2016",
          "2017",
          "2018",
          "2019",
          "2020"
         ],
         "xaxis": "x2",
         "y": [
          489,
          229,
          318,
          289,
          291,
          277,
          238,
          254,
          304,
          0,
          0,
          0,
          0,
          0
         ],
         "yaxis": "y2"
        },
        {
         "hovertemplate": "Type=Robberies<br>City name=Lawrence<br>Year=%{x}<br>Count of Types=%{y}<extra></extra>",
         "legendgroup": "Robberies",
         "line": {
          "color": "#00cc96",
          "dash": "solid"
         },
         "marker": {
          "symbol": "circle"
         },
         "mode": "lines",
         "name": "Robberies",
         "showlegend": false,
         "type": "scattergl",
         "x": [
          "2007",
          "2008",
          "2009",
          "2010",
          "2011",
          "2012",
          "2013",
          "2014",
          "2015",
          "2016",
          "2017",
          "2018",
          "2019",
          "2020"
         ],
         "xaxis": "x3",
         "y": [
          63,
          78,
          76,
          62,
          37,
          53,
          75,
          27,
          0,
          0,
          0,
          0,
          0,
          0
         ],
         "yaxis": "y3"
        },
        {
         "hovertemplate": "Type=Robberies<br>City name=Lenexa<br>Year=%{x}<br>Count of Types=%{y}<extra></extra>",
         "legendgroup": "Robberies",
         "line": {
          "color": "#00cc96",
          "dash": "solid"
         },
         "marker": {
          "symbol": "circle"
         },
         "mode": "lines",
         "name": "Robberies",
         "showlegend": false,
         "type": "scattergl",
         "x": [
          "2007",
          "2008",
          "2009",
          "2010",
          "2011",
          "2012",
          "2013",
          "2014",
          "2015",
          "2016",
          "2017",
          "2018",
          "2019",
          "2020"
         ],
         "xaxis": "x4",
         "y": [
          14,
          10,
          21,
          12,
          12,
          6,
          11,
          6,
          11,
          7,
          9,
          12,
          4,
          11
         ],
         "yaxis": "y4"
        },
        {
         "hovertemplate": "Type=Robberies<br>City name=Olathe<br>Year=%{x}<br>Count of Types=%{y}<extra></extra>",
         "legendgroup": "Robberies",
         "line": {
          "color": "#00cc96",
          "dash": "solid"
         },
         "marker": {
          "symbol": "circle"
         },
         "mode": "lines",
         "name": "Robberies",
         "showlegend": false,
         "type": "scattergl",
         "x": [
          "2007",
          "2008",
          "2009",
          "2010",
          "2011",
          "2012",
          "2013",
          "2014",
          "2015",
          "2016",
          "2017",
          "2018",
          "2019",
          "2020"
         ],
         "xaxis": "x5",
         "y": [
          39,
          35,
          44,
          28,
          20,
          24,
          23,
          15,
          23,
          31,
          33,
          26,
          35,
          22
         ],
         "yaxis": "y5"
        },
        {
         "hovertemplate": "Type=Robberies<br>City name=Overland_park<br>Year=%{x}<br>Count of Types=%{y}<extra></extra>",
         "legendgroup": "Robberies",
         "line": {
          "color": "#00cc96",
          "dash": "solid"
         },
         "marker": {
          "symbol": "circle"
         },
         "mode": "lines",
         "name": "Robberies",
         "showlegend": false,
         "type": "scattergl",
         "x": [
          "2007",
          "2008",
          "2009",
          "2010",
          "2011",
          "2012",
          "2013",
          "2014",
          "2015",
          "2016",
          "2017",
          "2018",
          "2019",
          "2020"
         ],
         "xaxis": "x6",
         "y": [
          53,
          60,
          51,
          36,
          38,
          42,
          45,
          29,
          52,
          58,
          70,
          78,
          65,
          43
         ],
         "yaxis": "y6"
        },
        {
         "hovertemplate": "Type=Robberies<br>City name=Salina<br>Year=%{x}<br>Count of Types=%{y}<extra></extra>",
         "legendgroup": "Robberies",
         "line": {
          "color": "#00cc96",
          "dash": "solid"
         },
         "marker": {
          "symbol": "circle"
         },
         "mode": "lines",
         "name": "Robberies",
         "showlegend": false,
         "type": "scattergl",
         "x": [
          "2007",
          "2008",
          "2009",
          "2010",
          "2011",
          "2012",
          "2013",
          "2014",
          "2015",
          "2016",
          "2017",
          "2018",
          "2019",
          "2020"
         ],
         "xaxis": "x7",
         "y": [
          15,
          24,
          30,
          29,
          26,
          23,
          24,
          24,
          25,
          32,
          23,
          19,
          27,
          18
         ],
         "yaxis": "y7"
        },
        {
         "hovertemplate": "Type=Robberies<br>City name=Shawnee<br>Year=%{x}<br>Count of Types=%{y}<extra></extra>",
         "legendgroup": "Robberies",
         "line": {
          "color": "#00cc96",
          "dash": "solid"
         },
         "marker": {
          "symbol": "circle"
         },
         "mode": "lines",
         "name": "Robberies",
         "showlegend": false,
         "type": "scattergl",
         "x": [
          "2007",
          "2008",
          "2009",
          "2010",
          "2011",
          "2012",
          "2013",
          "2014",
          "2015",
          "2016",
          "2017",
          "2018",
          "2019",
          "2020"
         ],
         "xaxis": "x8",
         "y": [
          21,
          14,
          23,
          22,
          15,
          12,
          17,
          14,
          19,
          10,
          14,
          14,
          10,
          15
         ],
         "yaxis": "y8"
        },
        {
         "hovertemplate": "Type=Robberies<br>City name=Topeka<br>Year=%{x}<br>Count of Types=%{y}<extra></extra>",
         "legendgroup": "Robberies",
         "line": {
          "color": "#00cc96",
          "dash": "solid"
         },
         "marker": {
          "symbol": "circle"
         },
         "mode": "lines",
         "name": "Robberies",
         "showlegend": false,
         "type": "scattergl",
         "x": [
          "2007",
          "2008",
          "2009",
          "2010",
          "2011",
          "2012",
          "2013",
          "2014",
          "2015",
          "2016",
          "2017",
          "2018",
          "2019",
          "2020"
         ],
         "xaxis": "x9",
         "y": [
          308,
          275,
          301,
          222,
          235,
          237,
          172,
          198,
          228,
          248,
          269,
          254,
          243,
          3
         ],
         "yaxis": "y9"
        },
        {
         "hovertemplate": "Type=Robberies<br>City name=Wichita<br>Year=%{x}<br>Count of Types=%{y}<extra></extra>",
         "legendgroup": "Robberies",
         "line": {
          "color": "#00cc96",
          "dash": "solid"
         },
         "marker": {
          "symbol": "circle"
         },
         "mode": "lines",
         "name": "Robberies",
         "showlegend": false,
         "type": "scattergl",
         "x": [
          "2007",
          "2008",
          "2009",
          "2010",
          "2011",
          "2012",
          "2013",
          "2014",
          "2015",
          "2016",
          "2017",
          "2018",
          "2019",
          "2020"
         ],
         "xaxis": "x10",
         "y": [
          557,
          482,
          527,
          481,
          490,
          496,
          467,
          496,
          733,
          653,
          599,
          571,
          460,
          442
         ],
         "yaxis": "y10"
        },
        {
         "hovertemplate": "Type=Assaults<br>City name=Hutchinson<br>Year=%{x}<br>Count of Types=%{y}<extra></extra>",
         "legendgroup": "Assaults",
         "line": {
          "color": "#ab63fa",
          "dash": "solid"
         },
         "marker": {
          "symbol": "circle"
         },
         "mode": "lines",
         "name": "Assaults",
         "showlegend": true,
         "type": "scattergl",
         "x": [
          "2007",
          "2008",
          "2009",
          "2010",
          "2011",
          "2012",
          "2013",
          "2014",
          "2015",
          "2016",
          "2017",
          "2018",
          "2019",
          "2020"
         ],
         "xaxis": "x",
         "y": [
          187,
          220,
          206,
          184,
          183,
          211,
          182,
          152,
          186,
          126,
          165,
          115,
          107,
          66
         ],
         "yaxis": "y"
        },
        {
         "hovertemplate": "Type=Assaults<br>City name=Kansas<br>Year=%{x}<br>Count of Types=%{y}<extra></extra>",
         "legendgroup": "Assaults",
         "line": {
          "color": "#ab63fa",
          "dash": "solid"
         },
         "marker": {
          "symbol": "circle"
         },
         "mode": "lines",
         "name": "Assaults",
         "showlegend": false,
         "type": "scattergl",
         "x": [
          "2007",
          "2008",
          "2009",
          "2010",
          "2011",
          "2012",
          "2013",
          "2014",
          "2015",
          "2016",
          "2017",
          "2018",
          "2019",
          "2020"
         ],
         "xaxis": "x2",
         "y": [
          549,
          386,
          507,
          447,
          534,
          500,
          382,
          548,
          567,
          0,
          0,
          0,
          0,
          0
         ],
         "yaxis": "y2"
        },
        {
         "hovertemplate": "Type=Assaults<br>City name=Lawrence<br>Year=%{x}<br>Count of Types=%{y}<extra></extra>",
         "legendgroup": "Assaults",
         "line": {
          "color": "#ab63fa",
          "dash": "solid"
         },
         "marker": {
          "symbol": "circle"
         },
         "mode": "lines",
         "name": "Assaults",
         "showlegend": false,
         "type": "scattergl",
         "x": [
          "2007",
          "2008",
          "2009",
          "2010",
          "2011",
          "2012",
          "2013",
          "2014",
          "2015",
          "2016",
          "2017",
          "2018",
          "2019",
          "2020"
         ],
         "xaxis": "x3",
         "y": [
          299,
          291,
          293,
          315,
          271,
          269,
          216,
          158,
          0,
          0,
          0,
          0,
          0,
          0
         ],
         "yaxis": "y3"
        },
        {
         "hovertemplate": "Type=Assaults<br>City name=Lenexa<br>Year=%{x}<br>Count of Types=%{y}<extra></extra>",
         "legendgroup": "Assaults",
         "line": {
          "color": "#ab63fa",
          "dash": "solid"
         },
         "marker": {
          "symbol": "circle"
         },
         "mode": "lines",
         "name": "Assaults",
         "showlegend": false,
         "type": "scattergl",
         "x": [
          "2007",
          "2008",
          "2009",
          "2010",
          "2011",
          "2012",
          "2013",
          "2014",
          "2015",
          "2016",
          "2017",
          "2018",
          "2019",
          "2020"
         ],
         "xaxis": "x4",
         "y": [
          68,
          64,
          56,
          44,
          44,
          43,
          38,
          40,
          56,
          55,
          63,
          84,
          66,
          80
         ],
         "yaxis": "y4"
        },
        {
         "hovertemplate": "Type=Assaults<br>City name=Olathe<br>Year=%{x}<br>Count of Types=%{y}<extra></extra>",
         "legendgroup": "Assaults",
         "line": {
          "color": "#ab63fa",
          "dash": "solid"
         },
         "marker": {
          "symbol": "circle"
         },
         "mode": "lines",
         "name": "Assaults",
         "showlegend": false,
         "type": "scattergl",
         "x": [
          "2007",
          "2008",
          "2009",
          "2010",
          "2011",
          "2012",
          "2013",
          "2014",
          "2015",
          "2016",
          "2017",
          "2018",
          "2019",
          "2020"
         ],
         "xaxis": "x5",
         "y": [
          555,
          514,
          172,
          143,
          152,
          129,
          123,
          49,
          115,
          145,
          149,
          197,
          174,
          285
         ],
         "yaxis": "y5"
        },
        {
         "hovertemplate": "Type=Assaults<br>City name=Overland_park<br>Year=%{x}<br>Count of Types=%{y}<extra></extra>",
         "legendgroup": "Assaults",
         "line": {
          "color": "#ab63fa",
          "dash": "solid"
         },
         "marker": {
          "symbol": "circle"
         },
         "mode": "lines",
         "name": "Assaults",
         "showlegend": false,
         "type": "scattergl",
         "x": [
          "2007",
          "2008",
          "2009",
          "2010",
          "2011",
          "2012",
          "2013",
          "2014",
          "2015",
          "2016",
          "2017",
          "2018",
          "2019",
          "2020"
         ],
         "xaxis": "x6",
         "y": [
          221,
          209,
          226,
          213,
          189,
          201,
          204,
          165,
          176,
          206,
          216,
          239,
          229,
          325
         ],
         "yaxis": "y6"
        },
        {
         "hovertemplate": "Type=Assaults<br>City name=Salina<br>Year=%{x}<br>Count of Types=%{y}<extra></extra>",
         "legendgroup": "Assaults",
         "line": {
          "color": "#ab63fa",
          "dash": "solid"
         },
         "marker": {
          "symbol": "circle"
         },
         "mode": "lines",
         "name": "Assaults",
         "showlegend": false,
         "type": "scattergl",
         "x": [
          "2007",
          "2008",
          "2009",
          "2010",
          "2011",
          "2012",
          "2013",
          "2014",
          "2015",
          "2016",
          "2017",
          "2018",
          "2019",
          "2020"
         ],
         "xaxis": "x7",
         "y": [
          108,
          115,
          88,
          132,
          95,
          118,
          91,
          122,
          119,
          135,
          136,
          167,
          154,
          150
         ],
         "yaxis": "y7"
        },
        {
         "hovertemplate": "Type=Assaults<br>City name=Shawnee<br>Year=%{x}<br>Count of Types=%{y}<extra></extra>",
         "legendgroup": "Assaults",
         "line": {
          "color": "#ab63fa",
          "dash": "solid"
         },
         "marker": {
          "symbol": "circle"
         },
         "mode": "lines",
         "name": "Assaults",
         "showlegend": false,
         "type": "scattergl",
         "x": [
          "2007",
          "2008",
          "2009",
          "2010",
          "2011",
          "2012",
          "2013",
          "2014",
          "2015",
          "2016",
          "2017",
          "2018",
          "2019",
          "2020"
         ],
         "xaxis": "x8",
         "y": [
          97,
          73,
          64,
          71,
          75,
          62,
          53,
          68,
          82,
          103,
          84,
          123,
          126,
          152
         ],
         "yaxis": "y8"
        },
        {
         "hovertemplate": "Type=Assaults<br>City name=Topeka<br>Year=%{x}<br>Count of Types=%{y}<extra></extra>",
         "legendgroup": "Assaults",
         "line": {
          "color": "#ab63fa",
          "dash": "solid"
         },
         "marker": {
          "symbol": "circle"
         },
         "mode": "lines",
         "name": "Assaults",
         "showlegend": false,
         "type": "scattergl",
         "x": [
          "2007",
          "2008",
          "2009",
          "2010",
          "2011",
          "2012",
          "2013",
          "2014",
          "2015",
          "2016",
          "2017",
          "2018",
          "2019",
          "2020"
         ],
         "xaxis": "x9",
         "y": [
          352,
          289,
          360,
          410,
          395,
          481,
          396,
          381,
          388,
          392,
          425,
          414,
          565,
          9
         ],
         "yaxis": "y9"
        },
        {
         "hovertemplate": "Type=Assaults<br>City name=Wichita<br>Year=%{x}<br>Count of Types=%{y}<extra></extra>",
         "legendgroup": "Assaults",
         "line": {
          "color": "#ab63fa",
          "dash": "solid"
         },
         "marker": {
          "symbol": "circle"
         },
         "mode": "lines",
         "name": "Assaults",
         "showlegend": false,
         "type": "scattergl",
         "x": [
          "2007",
          "2008",
          "2009",
          "2010",
          "2011",
          "2012",
          "2013",
          "2014",
          "2015",
          "2016",
          "2017",
          "2018",
          "2019",
          "2020"
         ],
         "xaxis": "x10",
         "y": [
          2516,
          2303,
          2441,
          2290,
          2203,
          2135,
          2337,
          2179,
          2734,
          3152,
          2987,
          3653,
          3611,
          4032
         ],
         "yaxis": "y10"
        },
        {
         "hovertemplate": "Type=Burglaries<br>City name=Hutchinson<br>Year=%{x}<br>Count of Types=%{y}<extra></extra>",
         "legendgroup": "Burglaries",
         "line": {
          "color": "#FFA15A",
          "dash": "solid"
         },
         "marker": {
          "symbol": "circle"
         },
         "mode": "lines",
         "name": "Burglaries",
         "showlegend": true,
         "type": "scattergl",
         "x": [
          "2007",
          "2008",
          "2009",
          "2010",
          "2011",
          "2012",
          "2013",
          "2014",
          "2015",
          "2016",
          "2017",
          "2018",
          "2019",
          "2020"
         ],
         "xaxis": "x",
         "y": [
          432,
          468,
          417,
          589,
          503,
          503,
          437,
          381,
          261,
          431,
          429,
          360,
          260,
          79
         ],
         "yaxis": "y"
        },
        {
         "hovertemplate": "Type=Burglaries<br>City name=Kansas<br>Year=%{x}<br>Count of Types=%{y}<extra></extra>",
         "legendgroup": "Burglaries",
         "line": {
          "color": "#FFA15A",
          "dash": "solid"
         },
         "marker": {
          "symbol": "circle"
         },
         "mode": "lines",
         "name": "Burglaries",
         "showlegend": false,
         "type": "scattergl",
         "x": [
          "2007",
          "2008",
          "2009",
          "2010",
          "2011",
          "2012",
          "2013",
          "2014",
          "2015",
          "2016",
          "2017",
          "2018",
          "2019",
          "2020"
         ],
         "xaxis": "x2",
         "y": [
          2269,
          1498,
          1918,
          1922,
          1827,
          1772,
          1617,
          1663,
          1311,
          0,
          0,
          0,
          0,
          0
         ],
         "yaxis": "y2"
        },
        {
         "hovertemplate": "Type=Burglaries<br>City name=Lawrence<br>Year=%{x}<br>Count of Types=%{y}<extra></extra>",
         "legendgroup": "Burglaries",
         "line": {
          "color": "#FFA15A",
          "dash": "solid"
         },
         "marker": {
          "symbol": "circle"
         },
         "mode": "lines",
         "name": "Burglaries",
         "showlegend": false,
         "type": "scattergl",
         "x": [
          "2007",
          "2008",
          "2009",
          "2010",
          "2011",
          "2012",
          "2013",
          "2014",
          "2015",
          "2016",
          "2017",
          "2018",
          "2019",
          "2020"
         ],
         "xaxis": "x3",
         "y": [
          550,
          800,
          683,
          527,
          505,
          607,
          494,
          209,
          0,
          0,
          0,
          0,
          0,
          0
         ],
         "yaxis": "y3"
        },
        {
         "hovertemplate": "Type=Burglaries<br>City name=Lenexa<br>Year=%{x}<br>Count of Types=%{y}<extra></extra>",
         "legendgroup": "Burglaries",
         "line": {
          "color": "#FFA15A",
          "dash": "solid"
         },
         "marker": {
          "symbol": "circle"
         },
         "mode": "lines",
         "name": "Burglaries",
         "showlegend": false,
         "type": "scattergl",
         "x": [
          "2007",
          "2008",
          "2009",
          "2010",
          "2011",
          "2012",
          "2013",
          "2014",
          "2015",
          "2016",
          "2017",
          "2018",
          "2019",
          "2020"
         ],
         "xaxis": "x4",
         "y": [
          196,
          182,
          122,
          158,
          113,
          95,
          106,
          84,
          97,
          92,
          145,
          100,
          69,
          99
         ],
         "yaxis": "y4"
        },
        {
         "hovertemplate": "Type=Burglaries<br>City name=Olathe<br>Year=%{x}<br>Count of Types=%{y}<extra></extra>",
         "legendgroup": "Burglaries",
         "line": {
          "color": "#FFA15A",
          "dash": "solid"
         },
         "marker": {
          "symbol": "circle"
         },
         "mode": "lines",
         "name": "Burglaries",
         "showlegend": false,
         "type": "scattergl",
         "x": [
          "2007",
          "2008",
          "2009",
          "2010",
          "2011",
          "2012",
          "2013",
          "2014",
          "2015",
          "2016",
          "2017",
          "2018",
          "2019",
          "2020"
         ],
         "xaxis": "x5",
         "y": [
          346,
          247,
          321,
          243,
          259,
          315,
          217,
          199,
          190,
          178,
          165,
          147,
          126,
          155
         ],
         "yaxis": "y5"
        },
        {
         "hovertemplate": "Type=Burglaries<br>City name=Overland_park<br>Year=%{x}<br>Count of Types=%{y}<extra></extra>",
         "legendgroup": "Burglaries",
         "line": {
          "color": "#FFA15A",
          "dash": "solid"
         },
         "marker": {
          "symbol": "circle"
         },
         "mode": "lines",
         "name": "Burglaries",
         "showlegend": false,
         "type": "scattergl",
         "x": [
          "2007",
          "2008",
          "2009",
          "2010",
          "2011",
          "2012",
          "2013",
          "2014",
          "2015",
          "2016",
          "2017",
          "2018",
          "2019",
          "2020"
         ],
         "xaxis": "x6",
         "y": [
          532,
          507,
          534,
          491,
          468,
          517,
          404,
          384,
          505,
          405,
          302,
          379,
          277,
          382
         ],
         "yaxis": "y6"
        },
        {
         "hovertemplate": "Type=Burglaries<br>City name=Salina<br>Year=%{x}<br>Count of Types=%{y}<extra></extra>",
         "legendgroup": "Burglaries",
         "line": {
          "color": "#FFA15A",
          "dash": "solid"
         },
         "marker": {
          "symbol": "circle"
         },
         "mode": "lines",
         "name": "Burglaries",
         "showlegend": false,
         "type": "scattergl",
         "x": [
          "2007",
          "2008",
          "2009",
          "2010",
          "2011",
          "2012",
          "2013",
          "2014",
          "2015",
          "2016",
          "2017",
          "2018",
          "2019",
          "2020"
         ],
         "xaxis": "x7",
         "y": [
          365,
          305,
          436,
          395,
          420,
          446,
          325,
          236,
          262,
          295,
          284,
          262,
          214,
          155
         ],
         "yaxis": "y7"
        },
        {
         "hovertemplate": "Type=Burglaries<br>City name=Shawnee<br>Year=%{x}<br>Count of Types=%{y}<extra></extra>",
         "legendgroup": "Burglaries",
         "line": {
          "color": "#FFA15A",
          "dash": "solid"
         },
         "marker": {
          "symbol": "circle"
         },
         "mode": "lines",
         "name": "Burglaries",
         "showlegend": false,
         "type": "scattergl",
         "x": [
          "2007",
          "2008",
          "2009",
          "2010",
          "2011",
          "2012",
          "2013",
          "2014",
          "2015",
          "2016",
          "2017",
          "2018",
          "2019",
          "2020"
         ],
         "xaxis": "x8",
         "y": [
          165,
          184,
          177,
          224,
          159,
          152,
          171,
          181,
          165,
          132,
          114,
          137,
          97,
          142
         ],
         "yaxis": "y8"
        },
        {
         "hovertemplate": "Type=Burglaries<br>City name=Topeka<br>Year=%{x}<br>Count of Types=%{y}<extra></extra>",
         "legendgroup": "Burglaries",
         "line": {
          "color": "#FFA15A",
          "dash": "solid"
         },
         "marker": {
          "symbol": "circle"
         },
         "mode": "lines",
         "name": "Burglaries",
         "showlegend": false,
         "type": "scattergl",
         "x": [
          "2007",
          "2008",
          "2009",
          "2010",
          "2011",
          "2012",
          "2013",
          "2014",
          "2015",
          "2016",
          "2017",
          "2018",
          "2019",
          "2020"
         ],
         "xaxis": "x9",
         "y": [
          1424,
          1561,
          1663,
          1598,
          1727,
          1277,
          1238,
          1007,
          1176,
          1114,
          1001,
          973,
          905,
          9
         ],
         "yaxis": "y9"
        },
        {
         "hovertemplate": "Type=Burglaries<br>City name=Wichita<br>Year=%{x}<br>Count of Types=%{y}<extra></extra>",
         "legendgroup": "Burglaries",
         "line": {
          "color": "#FFA15A",
          "dash": "solid"
         },
         "marker": {
          "symbol": "circle"
         },
         "mode": "lines",
         "name": "Burglaries",
         "showlegend": false,
         "type": "scattergl",
         "x": [
          "2007",
          "2008",
          "2009",
          "2010",
          "2011",
          "2012",
          "2013",
          "2014",
          "2015",
          "2016",
          "2017",
          "2018",
          "2019",
          "2020"
         ],
         "xaxis": "x10",
         "y": [
          4362,
          4081,
          4054,
          4248,
          4017,
          3949,
          3941,
          3264,
          3489,
          3470,
          3296,
          3420,
          2674,
          2427
         ],
         "yaxis": "y10"
        },
        {
         "hovertemplate": "Type=Thefts<br>City name=Hutchinson<br>Year=%{x}<br>Count of Types=%{y}<extra></extra>",
         "legendgroup": "Thefts",
         "line": {
          "color": "#19d3f3",
          "dash": "solid"
         },
         "marker": {
          "symbol": "circle"
         },
         "mode": "lines",
         "name": "Thefts",
         "showlegend": true,
         "type": "scattergl",
         "x": [
          "2007",
          "2008",
          "2009",
          "2010",
          "2011",
          "2012",
          "2013",
          "2014",
          "2015",
          "2016",
          "2017",
          "2018",
          "2019",
          "2020"
         ],
         "xaxis": "x",
         "y": [
          1805,
          1806,
          1564,
          2199,
          2117,
          1915,
          1704,
          1244,
          1455,
          1366,
          1382,
          1191,
          978,
          415
         ],
         "yaxis": "y"
        },
        {
         "hovertemplate": "Type=Thefts<br>City name=Kansas<br>Year=%{x}<br>Count of Types=%{y}<extra></extra>",
         "legendgroup": "Thefts",
         "line": {
          "color": "#19d3f3",
          "dash": "solid"
         },
         "marker": {
          "symbol": "circle"
         },
         "mode": "lines",
         "name": "Thefts",
         "showlegend": false,
         "type": "scattergl",
         "x": [
          "2007",
          "2008",
          "2009",
          "2010",
          "2011",
          "2012",
          "2013",
          "2014",
          "2015",
          "2016",
          "2017",
          "2018",
          "2019",
          "2020"
         ],
         "xaxis": "x2",
         "y": [
          5431,
          3470,
          4744,
          4684,
          4792,
          4558,
          4566,
          4697,
          4754,
          0,
          0,
          0,
          0,
          0
         ],
         "yaxis": "y2"
        },
        {
         "hovertemplate": "Type=Thefts<br>City name=Lawrence<br>Year=%{x}<br>Count of Types=%{y}<extra></extra>",
         "legendgroup": "Thefts",
         "line": {
          "color": "#19d3f3",
          "dash": "solid"
         },
         "marker": {
          "symbol": "circle"
         },
         "mode": "lines",
         "name": "Thefts",
         "showlegend": false,
         "type": "scattergl",
         "x": [
          "2007",
          "2008",
          "2009",
          "2010",
          "2011",
          "2012",
          "2013",
          "2014",
          "2015",
          "2016",
          "2017",
          "2018",
          "2019",
          "2020"
         ],
         "xaxis": "x3",
         "y": [
          4313,
          3693,
          3603,
          3189,
          3142,
          3213,
          2981,
          1609,
          0,
          0,
          0,
          0,
          0,
          0
         ],
         "yaxis": "y3"
        },
        {
         "hovertemplate": "Type=Thefts<br>City name=Lenexa<br>Year=%{x}<br>Count of Types=%{y}<extra></extra>",
         "legendgroup": "Thefts",
         "line": {
          "color": "#19d3f3",
          "dash": "solid"
         },
         "marker": {
          "symbol": "circle"
         },
         "mode": "lines",
         "name": "Thefts",
         "showlegend": false,
         "type": "scattergl",
         "x": [
          "2007",
          "2008",
          "2009",
          "2010",
          "2011",
          "2012",
          "2013",
          "2014",
          "2015",
          "2016",
          "2017",
          "2018",
          "2019",
          "2020"
         ],
         "xaxis": "x4",
         "y": [
          1009,
          951,
          838,
          756,
          867,
          777,
          716,
          638,
          679,
          740,
          698,
          672,
          606,
          646
         ],
         "yaxis": "y4"
        },
        {
         "hovertemplate": "Type=Thefts<br>City name=Olathe<br>Year=%{x}<br>Count of Types=%{y}<extra></extra>",
         "legendgroup": "Thefts",
         "line": {
          "color": "#19d3f3",
          "dash": "solid"
         },
         "marker": {
          "symbol": "circle"
         },
         "mode": "lines",
         "name": "Thefts",
         "showlegend": false,
         "type": "scattergl",
         "x": [
          "2007",
          "2008",
          "2009",
          "2010",
          "2011",
          "2012",
          "2013",
          "2014",
          "2015",
          "2016",
          "2017",
          "2018",
          "2019",
          "2020"
         ],
         "xaxis": "x5",
         "y": [
          2553,
          2267,
          2126,
          1922,
          1774,
          1988,
          1877,
          1388,
          1710,
          1789,
          1641,
          1639,
          1300,
          1550
         ],
         "yaxis": "y5"
        },
        {
         "hovertemplate": "Type=Thefts<br>City name=Overland_park<br>Year=%{x}<br>Count of Types=%{y}<extra></extra>",
         "legendgroup": "Thefts",
         "line": {
          "color": "#19d3f3",
          "dash": "solid"
         },
         "marker": {
          "symbol": "circle"
         },
         "mode": "lines",
         "name": "Thefts",
         "showlegend": false,
         "type": "scattergl",
         "x": [
          "2007",
          "2008",
          "2009",
          "2010",
          "2011",
          "2012",
          "2013",
          "2014",
          "2015",
          "2016",
          "2017",
          "2018",
          "2019",
          "2020"
         ],
         "xaxis": "x6",
         "y": [
          3305,
          3226,
          3628,
          3389,
          3237,
          3238,
          2846,
          2130,
          2422,
          2078,
          2655,
          3017,
          2273,
          2979
         ],
         "yaxis": "y6"
        },
        {
         "hovertemplate": "Type=Thefts<br>City name=Salina<br>Year=%{x}<br>Count of Types=%{y}<extra></extra>",
         "legendgroup": "Thefts",
         "line": {
          "color": "#19d3f3",
          "dash": "solid"
         },
         "marker": {
          "symbol": "circle"
         },
         "mode": "lines",
         "name": "Thefts",
         "showlegend": false,
         "type": "scattergl",
         "x": [
          "2007",
          "2008",
          "2009",
          "2010",
          "2011",
          "2012",
          "2013",
          "2014",
          "2015",
          "2016",
          "2017",
          "2018",
          "2019",
          "2020"
         ],
         "xaxis": "x7",
         "y": [
          2302,
          2097,
          2144,
          1803,
          1779,
          1813,
          1524,
          1503,
          1428,
          1413,
          1369,
          1336,
          1409,
          1044
         ],
         "yaxis": "y7"
        },
        {
         "hovertemplate": "Type=Thefts<br>City name=Shawnee<br>Year=%{x}<br>Count of Types=%{y}<extra></extra>",
         "legendgroup": "Thefts",
         "line": {
          "color": "#19d3f3",
          "dash": "solid"
         },
         "marker": {
          "symbol": "circle"
         },
         "mode": "lines",
         "name": "Thefts",
         "showlegend": false,
         "type": "scattergl",
         "x": [
          "2007",
          "2008",
          "2009",
          "2010",
          "2011",
          "2012",
          "2013",
          "2014",
          "2015",
          "2016",
          "2017",
          "2018",
          "2019",
          "2020"
         ],
         "xaxis": "x8",
         "y": [
          937,
          914,
          927,
          875,
          950,
          769,
          763,
          763,
          926,
          905,
          842,
          796,
          668,
          796
         ],
         "yaxis": "y8"
        },
        {
         "hovertemplate": "Type=Thefts<br>City name=Topeka<br>Year=%{x}<br>Count of Types=%{y}<extra></extra>",
         "legendgroup": "Thefts",
         "line": {
          "color": "#19d3f3",
          "dash": "solid"
         },
         "marker": {
          "symbol": "circle"
         },
         "mode": "lines",
         "name": "Thefts",
         "showlegend": false,
         "type": "scattergl",
         "x": [
          "2007",
          "2008",
          "2009",
          "2010",
          "2011",
          "2012",
          "2013",
          "2014",
          "2015",
          "2016",
          "2017",
          "2018",
          "2019",
          "2020"
         ],
         "xaxis": "x9",
         "y": [
          5646,
          5067,
          4632,
          5404,
          5213,
          4967,
          4679,
          4672,
          4876,
          5227,
          4725,
          4851,
          4404,
          49
         ],
         "yaxis": "y9"
        },
        {
         "hovertemplate": "Type=Thefts<br>City name=Wichita<br>Year=%{x}<br>Count of Types=%{y}<extra></extra>",
         "legendgroup": "Thefts",
         "line": {
          "color": "#19d3f3",
          "dash": "solid"
         },
         "marker": {
          "symbol": "circle"
         },
         "mode": "lines",
         "name": "Thefts",
         "showlegend": false,
         "type": "scattergl",
         "x": [
          "2007",
          "2008",
          "2009",
          "2010",
          "2011",
          "2012",
          "2013",
          "2014",
          "2015",
          "2016",
          "2017",
          "2018",
          "2019",
          "2020"
         ],
         "xaxis": "x10",
         "y": [
          14296,
          14132,
          13928,
          12515,
          13615,
          15466,
          14930,
          13006,
          14178,
          15417,
          15943,
          15988,
          15937,
          13321
         ],
         "yaxis": "y10"
        },
        {
         "hovertemplate": "Type=Auto thefts<br>City name=Hutchinson<br>Year=%{x}<br>Count of Types=%{y}<extra></extra>",
         "legendgroup": "Auto thefts",
         "line": {
          "color": "#FF6692",
          "dash": "solid"
         },
         "marker": {
          "symbol": "circle"
         },
         "mode": "lines",
         "name": "Auto thefts",
         "showlegend": true,
         "type": "scattergl",
         "x": [
          "2007",
          "2008",
          "2009",
          "2010",
          "2011",
          "2012",
          "2013",
          "2014",
          "2015",
          "2016",
          "2017",
          "2018",
          "2019",
          "2020"
         ],
         "xaxis": "x",
         "y": [
          104,
          89,
          80,
          106,
          129,
          123,
          134,
          86,
          113,
          133,
          140,
          122,
          61,
          22
         ],
         "yaxis": "y"
        },
        {
         "hovertemplate": "Type=Auto thefts<br>City name=Kansas<br>Year=%{x}<br>Count of Types=%{y}<extra></extra>",
         "legendgroup": "Auto thefts",
         "line": {
          "color": "#FF6692",
          "dash": "solid"
         },
         "marker": {
          "symbol": "circle"
         },
         "mode": "lines",
         "name": "Auto thefts",
         "showlegend": false,
         "type": "scattergl",
         "x": [
          "2007",
          "2008",
          "2009",
          "2010",
          "2011",
          "2012",
          "2013",
          "2014",
          "2015",
          "2016",
          "2017",
          "2018",
          "2019",
          "2020"
         ],
         "xaxis": "x2",
         "y": [
          2017,
          1166,
          1080,
          1129,
          1264,
          1208,
          1045,
          956,
          989,
          0,
          0,
          0,
          0,
          0
         ],
         "yaxis": "y2"
        },
        {
         "hovertemplate": "Type=Auto thefts<br>City name=Lawrence<br>Year=%{x}<br>Count of Types=%{y}<extra></extra>",
         "legendgroup": "Auto thefts",
         "line": {
          "color": "#FF6692",
          "dash": "solid"
         },
         "marker": {
          "symbol": "circle"
         },
         "mode": "lines",
         "name": "Auto thefts",
         "showlegend": false,
         "type": "scattergl",
         "x": [
          "2007",
          "2008",
          "2009",
          "2010",
          "2011",
          "2012",
          "2013",
          "2014",
          "2015",
          "2016",
          "2017",
          "2018",
          "2019",
          "2020"
         ],
         "xaxis": "x3",
         "y": [
          196,
          199,
          156,
          157,
          194,
          203,
          174,
          99,
          0,
          0,
          0,
          0,
          0,
          0
         ],
         "yaxis": "y3"
        },
        {
         "hovertemplate": "Type=Auto thefts<br>City name=Lenexa<br>Year=%{x}<br>Count of Types=%{y}<extra></extra>",
         "legendgroup": "Auto thefts",
         "line": {
          "color": "#FF6692",
          "dash": "solid"
         },
         "marker": {
          "symbol": "circle"
         },
         "mode": "lines",
         "name": "Auto thefts",
         "showlegend": false,
         "type": "scattergl",
         "x": [
          "2007",
          "2008",
          "2009",
          "2010",
          "2011",
          "2012",
          "2013",
          "2014",
          "2015",
          "2016",
          "2017",
          "2018",
          "2019",
          "2020"
         ],
         "xaxis": "x4",
         "y": [
          156,
          104,
          69,
          85,
          106,
          97,
          76,
          92,
          113,
          95,
          99,
          79,
          86,
          158
         ],
         "yaxis": "y4"
        },
        {
         "hovertemplate": "Type=Auto thefts<br>City name=Olathe<br>Year=%{x}<br>Count of Types=%{y}<extra></extra>",
         "legendgroup": "Auto thefts",
         "line": {
          "color": "#FF6692",
          "dash": "solid"
         },
         "marker": {
          "symbol": "circle"
         },
         "mode": "lines",
         "name": "Auto thefts",
         "showlegend": false,
         "type": "scattergl",
         "x": [
          "2007",
          "2008",
          "2009",
          "2010",
          "2011",
          "2012",
          "2013",
          "2014",
          "2015",
          "2016",
          "2017",
          "2018",
          "2019",
          "2020"
         ],
         "xaxis": "x5",
         "y": [
          116,
          99,
          162,
          142,
          171,
          177,
          179,
          159,
          199,
          160,
          152,
          171,
          192,
          235
         ],
         "yaxis": "y5"
        },
        {
         "hovertemplate": "Type=Auto thefts<br>City name=Overland_park<br>Year=%{x}<br>Count of Types=%{y}<extra></extra>",
         "legendgroup": "Auto thefts",
         "line": {
          "color": "#FF6692",
          "dash": "solid"
         },
         "marker": {
          "symbol": "circle"
         },
         "mode": "lines",
         "name": "Auto thefts",
         "showlegend": false,
         "type": "scattergl",
         "x": [
          "2007",
          "2008",
          "2009",
          "2010",
          "2011",
          "2012",
          "2013",
          "2014",
          "2015",
          "2016",
          "2017",
          "2018",
          "2019",
          "2020"
         ],
         "xaxis": "x6",
         "y": [
          429,
          360,
          345,
          305,
          310,
          324,
          280,
          519,
          520,
          320,
          274,
          343,
          320,
          545
         ],
         "yaxis": "y6"
        },
        {
         "hovertemplate": "Type=Auto thefts<br>City name=Salina<br>Year=%{x}<br>Count of Types=%{y}<extra></extra>",
         "legendgroup": "Auto thefts",
         "line": {
          "color": "#FF6692",
          "dash": "solid"
         },
         "marker": {
          "symbol": "circle"
         },
         "mode": "lines",
         "name": "Auto thefts",
         "showlegend": false,
         "type": "scattergl",
         "x": [
          "2007",
          "2008",
          "2009",
          "2010",
          "2011",
          "2012",
          "2013",
          "2014",
          "2015",
          "2016",
          "2017",
          "2018",
          "2019",
          "2020"
         ],
         "xaxis": "x7",
         "y": [
          100,
          89,
          100,
          91,
          75,
          107,
          116,
          96,
          99,
          131,
          112,
          130,
          133,
          111
         ],
         "yaxis": "y7"
        },
        {
         "hovertemplate": "Type=Auto thefts<br>City name=Shawnee<br>Year=%{x}<br>Count of Types=%{y}<extra></extra>",
         "legendgroup": "Auto thefts",
         "line": {
          "color": "#FF6692",
          "dash": "solid"
         },
         "marker": {
          "symbol": "circle"
         },
         "mode": "lines",
         "name": "Auto thefts",
         "showlegend": false,
         "type": "scattergl",
         "x": [
          "2007",
          "2008",
          "2009",
          "2010",
          "2011",
          "2012",
          "2013",
          "2014",
          "2015",
          "2016",
          "2017",
          "2018",
          "2019",
          "2020"
         ],
         "xaxis": "x8",
         "y": [
          206,
          150,
          98,
          123,
          130,
          139,
          157,
          123,
          155,
          146,
          138,
          149,
          118,
          192
         ],
         "yaxis": "y8"
        },
        {
         "hovertemplate": "Type=Auto thefts<br>City name=Topeka<br>Year=%{x}<br>Count of Types=%{y}<extra></extra>",
         "legendgroup": "Auto thefts",
         "line": {
          "color": "#FF6692",
          "dash": "solid"
         },
         "marker": {
          "symbol": "circle"
         },
         "mode": "lines",
         "name": "Auto thefts",
         "showlegend": false,
         "type": "scattergl",
         "x": [
          "2007",
          "2008",
          "2009",
          "2010",
          "2011",
          "2012",
          "2013",
          "2014",
          "2015",
          "2016",
          "2017",
          "2018",
          "2019",
          "2020"
         ],
         "xaxis": "x9",
         "y": [
          704,
          688,
          407,
          504,
          589,
          597,
          569,
          581,
          549,
          807,
          768,
          736,
          962,
          7
         ],
         "yaxis": "y9"
        },
        {
         "hovertemplate": "Type=Auto thefts<br>City name=Wichita<br>Year=%{x}<br>Count of Types=%{y}<extra></extra>",
         "legendgroup": "Auto thefts",
         "line": {
          "color": "#FF6692",
          "dash": "solid"
         },
         "marker": {
          "symbol": "circle"
         },
         "mode": "lines",
         "name": "Auto thefts",
         "showlegend": false,
         "type": "scattergl",
         "x": [
          "2007",
          "2008",
          "2009",
          "2010",
          "2011",
          "2012",
          "2013",
          "2014",
          "2015",
          "2016",
          "2017",
          "2018",
          "2019",
          "2020"
         ],
         "xaxis": "x10",
         "y": [
          2139,
          1865,
          1674,
          1537,
          1908,
          1832,
          1989,
          2031,
          2052,
          2202,
          2492,
          2785,
          2318,
          2072
         ],
         "yaxis": "y10"
        },
        {
         "hovertemplate": "Type=Arson<br>City name=Hutchinson<br>Year=%{x}<br>Count of Types=%{y}<extra></extra>",
         "legendgroup": "Arson",
         "line": {
          "color": "#B6E880",
          "dash": "solid"
         },
         "marker": {
          "symbol": "circle"
         },
         "mode": "lines",
         "name": "Arson",
         "showlegend": true,
         "type": "scattergl",
         "x": [
          "2007",
          "2008",
          "2009",
          "2010",
          "2011",
          "2012",
          "2013",
          "2014",
          "2015",
          "2016",
          "2017",
          "2018",
          "2019",
          "2020"
         ],
         "xaxis": "x",
         "y": [
          32,
          37,
          36,
          23,
          22,
          21,
          17,
          17,
          8,
          10,
          17,
          16,
          11,
          6
         ],
         "yaxis": "y"
        },
        {
         "hovertemplate": "Type=Arson<br>City name=Kansas<br>Year=%{x}<br>Count of Types=%{y}<extra></extra>",
         "legendgroup": "Arson",
         "line": {
          "color": "#B6E880",
          "dash": "solid"
         },
         "marker": {
          "symbol": "circle"
         },
         "mode": "lines",
         "name": "Arson",
         "showlegend": false,
         "type": "scattergl",
         "x": [
          "2007",
          "2008",
          "2009",
          "2010",
          "2011",
          "2012",
          "2013",
          "2014",
          "2015",
          "2016",
          "2017",
          "2018",
          "2019",
          "2020"
         ],
         "xaxis": "x2",
         "y": [
          0,
          0,
          0,
          0,
          0,
          69,
          56,
          61,
          77,
          0,
          0,
          0,
          0,
          0
         ],
         "yaxis": "y2"
        },
        {
         "hovertemplate": "Type=Arson<br>City name=Lawrence<br>Year=%{x}<br>Count of Types=%{y}<extra></extra>",
         "legendgroup": "Arson",
         "line": {
          "color": "#B6E880",
          "dash": "solid"
         },
         "marker": {
          "symbol": "circle"
         },
         "mode": "lines",
         "name": "Arson",
         "showlegend": false,
         "type": "scattergl",
         "x": [
          "2007",
          "2008",
          "2009",
          "2010",
          "2011",
          "2012",
          "2013",
          "2014",
          "2015",
          "2016",
          "2017",
          "2018",
          "2019",
          "2020"
         ],
         "xaxis": "x3",
         "y": [
          23,
          26,
          20,
          21,
          14,
          26,
          19,
          12,
          0,
          0,
          0,
          0,
          0,
          0
         ],
         "yaxis": "y3"
        },
        {
         "hovertemplate": "Type=Arson<br>City name=Lenexa<br>Year=%{x}<br>Count of Types=%{y}<extra></extra>",
         "legendgroup": "Arson",
         "line": {
          "color": "#B6E880",
          "dash": "solid"
         },
         "marker": {
          "symbol": "circle"
         },
         "mode": "lines",
         "name": "Arson",
         "showlegend": false,
         "type": "scattergl",
         "x": [
          "2007",
          "2008",
          "2009",
          "2010",
          "2011",
          "2012",
          "2013",
          "2014",
          "2015",
          "2016",
          "2017",
          "2018",
          "2019",
          "2020"
         ],
         "xaxis": "x4",
         "y": [
          14,
          12,
          5,
          4,
          8,
          14,
          1,
          1,
          3,
          1,
          1,
          2,
          0,
          3
         ],
         "yaxis": "y4"
        },
        {
         "hovertemplate": "Type=Arson<br>City name=Olathe<br>Year=%{x}<br>Count of Types=%{y}<extra></extra>",
         "legendgroup": "Arson",
         "line": {
          "color": "#B6E880",
          "dash": "solid"
         },
         "marker": {
          "symbol": "circle"
         },
         "mode": "lines",
         "name": "Arson",
         "showlegend": false,
         "type": "scattergl",
         "x": [
          "2007",
          "2008",
          "2009",
          "2010",
          "2011",
          "2012",
          "2013",
          "2014",
          "2015",
          "2016",
          "2017",
          "2018",
          "2019",
          "2020"
         ],
         "xaxis": "x5",
         "y": [
          17,
          19,
          23,
          19,
          19,
          16,
          19,
          0,
          10,
          2,
          9,
          7,
          9,
          11
         ],
         "yaxis": "y5"
        },
        {
         "hovertemplate": "Type=Arson<br>City name=Overland_park<br>Year=%{x}<br>Count of Types=%{y}<extra></extra>",
         "legendgroup": "Arson",
         "line": {
          "color": "#B6E880",
          "dash": "solid"
         },
         "marker": {
          "symbol": "circle"
         },
         "mode": "lines",
         "name": "Arson",
         "showlegend": false,
         "type": "scattergl",
         "x": [
          "2007",
          "2008",
          "2009",
          "2010",
          "2011",
          "2012",
          "2013",
          "2014",
          "2015",
          "2016",
          "2017",
          "2018",
          "2019",
          "2020"
         ],
         "xaxis": "x6",
         "y": [
          44,
          44,
          21,
          38,
          38,
          27,
          15,
          9,
          16,
          16,
          10,
          22,
          5,
          13
         ],
         "yaxis": "y6"
        },
        {
         "hovertemplate": "Type=Arson<br>City name=Salina<br>Year=%{x}<br>Count of Types=%{y}<extra></extra>",
         "legendgroup": "Arson",
         "line": {
          "color": "#B6E880",
          "dash": "solid"
         },
         "marker": {
          "symbol": "circle"
         },
         "mode": "lines",
         "name": "Arson",
         "showlegend": false,
         "type": "scattergl",
         "x": [
          "2007",
          "2008",
          "2009",
          "2010",
          "2011",
          "2012",
          "2013",
          "2014",
          "2015",
          "2016",
          "2017",
          "2018",
          "2019",
          "2020"
         ],
         "xaxis": "x7",
         "y": [
          20,
          23,
          23,
          39,
          32,
          23,
          15,
          9,
          18,
          19,
          29,
          26,
          9,
          15
         ],
         "yaxis": "y7"
        },
        {
         "hovertemplate": "Type=Arson<br>City name=Shawnee<br>Year=%{x}<br>Count of Types=%{y}<extra></extra>",
         "legendgroup": "Arson",
         "line": {
          "color": "#B6E880",
          "dash": "solid"
         },
         "marker": {
          "symbol": "circle"
         },
         "mode": "lines",
         "name": "Arson",
         "showlegend": false,
         "type": "scattergl",
         "x": [
          "2007",
          "2008",
          "2009",
          "2010",
          "2011",
          "2012",
          "2013",
          "2014",
          "2015",
          "2016",
          "2017",
          "2018",
          "2019",
          "2020"
         ],
         "xaxis": "x8",
         "y": [
          18,
          24,
          21,
          11,
          12,
          11,
          8,
          7,
          12,
          6,
          9,
          8,
          7,
          8
         ],
         "yaxis": "y8"
        },
        {
         "hovertemplate": "Type=Arson<br>City name=Topeka<br>Year=%{x}<br>Count of Types=%{y}<extra></extra>",
         "legendgroup": "Arson",
         "line": {
          "color": "#B6E880",
          "dash": "solid"
         },
         "marker": {
          "symbol": "circle"
         },
         "mode": "lines",
         "name": "Arson",
         "showlegend": false,
         "type": "scattergl",
         "x": [
          "2007",
          "2008",
          "2009",
          "2010",
          "2011",
          "2012",
          "2013",
          "2014",
          "2015",
          "2016",
          "2017",
          "2018",
          "2019",
          "2020"
         ],
         "xaxis": "x9",
         "y": [
          10,
          10,
          9,
          14,
          6,
          7,
          7,
          5,
          12,
          1,
          11,
          7,
          3,
          1
         ],
         "yaxis": "y9"
        },
        {
         "hovertemplate": "Type=Arson<br>City name=Wichita<br>Year=%{x}<br>Count of Types=%{y}<extra></extra>",
         "legendgroup": "Arson",
         "line": {
          "color": "#B6E880",
          "dash": "solid"
         },
         "marker": {
          "symbol": "circle"
         },
         "mode": "lines",
         "name": "Arson",
         "showlegend": false,
         "type": "scattergl",
         "x": [
          "2007",
          "2008",
          "2009",
          "2010",
          "2011",
          "2012",
          "2013",
          "2014",
          "2015",
          "2016",
          "2017",
          "2018",
          "2019",
          "2020"
         ],
         "xaxis": "x10",
         "y": [
          189,
          187,
          180,
          129,
          139,
          134,
          113,
          120,
          129,
          136,
          100,
          139,
          127,
          132
         ],
         "yaxis": "y10"
        }
       ],
       "layout": {
        "annotations": [
         {
          "font": {},
          "showarrow": false,
          "text": "City name=Hutchinson",
          "x": 0.04100000000000001,
          "xanchor": "center",
          "xref": "paper",
          "y": 1,
          "yanchor": "bottom",
          "yref": "paper"
         },
         {
          "font": {},
          "showarrow": false,
          "text": "City name=Kansas",
          "x": 0.14300000000000004,
          "xanchor": "center",
          "xref": "paper",
          "y": 1,
          "yanchor": "bottom",
          "yref": "paper"
         },
         {
          "font": {},
          "showarrow": false,
          "text": "City name=Lawrence",
          "x": 0.24500000000000005,
          "xanchor": "center",
          "xref": "paper",
          "y": 1,
          "yanchor": "bottom",
          "yref": "paper"
         },
         {
          "font": {},
          "showarrow": false,
          "text": "City name=Lenexa",
          "x": 0.3470000000000001,
          "xanchor": "center",
          "xref": "paper",
          "y": 1,
          "yanchor": "bottom",
          "yref": "paper"
         },
         {
          "font": {},
          "showarrow": false,
          "text": "City name=Olathe",
          "x": 0.44900000000000007,
          "xanchor": "center",
          "xref": "paper",
          "y": 1,
          "yanchor": "bottom",
          "yref": "paper"
         },
         {
          "font": {},
          "showarrow": false,
          "text": "City name=Overland_park",
          "x": 0.5510000000000002,
          "xanchor": "center",
          "xref": "paper",
          "y": 1,
          "yanchor": "bottom",
          "yref": "paper"
         },
         {
          "font": {},
          "showarrow": false,
          "text": "City name=Salina",
          "x": 0.6530000000000001,
          "xanchor": "center",
          "xref": "paper",
          "y": 1,
          "yanchor": "bottom",
          "yref": "paper"
         },
         {
          "font": {},
          "showarrow": false,
          "text": "City name=Shawnee",
          "x": 0.7550000000000001,
          "xanchor": "center",
          "xref": "paper",
          "y": 1,
          "yanchor": "bottom",
          "yref": "paper"
         },
         {
          "font": {},
          "showarrow": false,
          "text": "City name=Topeka",
          "x": 0.8570000000000002,
          "xanchor": "center",
          "xref": "paper",
          "y": 1,
          "yanchor": "bottom",
          "yref": "paper"
         },
         {
          "font": {},
          "showarrow": false,
          "text": "City name=Wichita",
          "x": 0.9590000000000002,
          "xanchor": "center",
          "xref": "paper",
          "y": 1,
          "yanchor": "bottom",
          "yref": "paper"
         }
        ],
        "legend": {
         "title": {
          "text": "Type"
         },
         "tracegroupgap": 0
        },
        "margin": {
         "t": 60
        },
        "template": {
         "data": {
          "bar": [
           {
            "error_x": {
             "color": "#2a3f5f"
            },
            "error_y": {
             "color": "#2a3f5f"
            },
            "marker": {
             "line": {
              "color": "#E5ECF6",
              "width": 0.5
             },
             "pattern": {
              "fillmode": "overlay",
              "size": 10,
              "solidity": 0.2
             }
            },
            "type": "bar"
           }
          ],
          "barpolar": [
           {
            "marker": {
             "line": {
              "color": "#E5ECF6",
              "width": 0.5
             },
             "pattern": {
              "fillmode": "overlay",
              "size": 10,
              "solidity": 0.2
             }
            },
            "type": "barpolar"
           }
          ],
          "carpet": [
           {
            "aaxis": {
             "endlinecolor": "#2a3f5f",
             "gridcolor": "white",
             "linecolor": "white",
             "minorgridcolor": "white",
             "startlinecolor": "#2a3f5f"
            },
            "baxis": {
             "endlinecolor": "#2a3f5f",
             "gridcolor": "white",
             "linecolor": "white",
             "minorgridcolor": "white",
             "startlinecolor": "#2a3f5f"
            },
            "type": "carpet"
           }
          ],
          "choropleth": [
           {
            "colorbar": {
             "outlinewidth": 0,
             "ticks": ""
            },
            "type": "choropleth"
           }
          ],
          "contour": [
           {
            "colorbar": {
             "outlinewidth": 0,
             "ticks": ""
            },
            "colorscale": [
             [
              0,
              "#0d0887"
             ],
             [
              0.1111111111111111,
              "#46039f"
             ],
             [
              0.2222222222222222,
              "#7201a8"
             ],
             [
              0.3333333333333333,
              "#9c179e"
             ],
             [
              0.4444444444444444,
              "#bd3786"
             ],
             [
              0.5555555555555556,
              "#d8576b"
             ],
             [
              0.6666666666666666,
              "#ed7953"
             ],
             [
              0.7777777777777778,
              "#fb9f3a"
             ],
             [
              0.8888888888888888,
              "#fdca26"
             ],
             [
              1,
              "#f0f921"
             ]
            ],
            "type": "contour"
           }
          ],
          "contourcarpet": [
           {
            "colorbar": {
             "outlinewidth": 0,
             "ticks": ""
            },
            "type": "contourcarpet"
           }
          ],
          "heatmap": [
           {
            "colorbar": {
             "outlinewidth": 0,
             "ticks": ""
            },
            "colorscale": [
             [
              0,
              "#0d0887"
             ],
             [
              0.1111111111111111,
              "#46039f"
             ],
             [
              0.2222222222222222,
              "#7201a8"
             ],
             [
              0.3333333333333333,
              "#9c179e"
             ],
             [
              0.4444444444444444,
              "#bd3786"
             ],
             [
              0.5555555555555556,
              "#d8576b"
             ],
             [
              0.6666666666666666,
              "#ed7953"
             ],
             [
              0.7777777777777778,
              "#fb9f3a"
             ],
             [
              0.8888888888888888,
              "#fdca26"
             ],
             [
              1,
              "#f0f921"
             ]
            ],
            "type": "heatmap"
           }
          ],
          "heatmapgl": [
           {
            "colorbar": {
             "outlinewidth": 0,
             "ticks": ""
            },
            "colorscale": [
             [
              0,
              "#0d0887"
             ],
             [
              0.1111111111111111,
              "#46039f"
             ],
             [
              0.2222222222222222,
              "#7201a8"
             ],
             [
              0.3333333333333333,
              "#9c179e"
             ],
             [
              0.4444444444444444,
              "#bd3786"
             ],
             [
              0.5555555555555556,
              "#d8576b"
             ],
             [
              0.6666666666666666,
              "#ed7953"
             ],
             [
              0.7777777777777778,
              "#fb9f3a"
             ],
             [
              0.8888888888888888,
              "#fdca26"
             ],
             [
              1,
              "#f0f921"
             ]
            ],
            "type": "heatmapgl"
           }
          ],
          "histogram": [
           {
            "marker": {
             "pattern": {
              "fillmode": "overlay",
              "size": 10,
              "solidity": 0.2
             }
            },
            "type": "histogram"
           }
          ],
          "histogram2d": [
           {
            "colorbar": {
             "outlinewidth": 0,
             "ticks": ""
            },
            "colorscale": [
             [
              0,
              "#0d0887"
             ],
             [
              0.1111111111111111,
              "#46039f"
             ],
             [
              0.2222222222222222,
              "#7201a8"
             ],
             [
              0.3333333333333333,
              "#9c179e"
             ],
             [
              0.4444444444444444,
              "#bd3786"
             ],
             [
              0.5555555555555556,
              "#d8576b"
             ],
             [
              0.6666666666666666,
              "#ed7953"
             ],
             [
              0.7777777777777778,
              "#fb9f3a"
             ],
             [
              0.8888888888888888,
              "#fdca26"
             ],
             [
              1,
              "#f0f921"
             ]
            ],
            "type": "histogram2d"
           }
          ],
          "histogram2dcontour": [
           {
            "colorbar": {
             "outlinewidth": 0,
             "ticks": ""
            },
            "colorscale": [
             [
              0,
              "#0d0887"
             ],
             [
              0.1111111111111111,
              "#46039f"
             ],
             [
              0.2222222222222222,
              "#7201a8"
             ],
             [
              0.3333333333333333,
              "#9c179e"
             ],
             [
              0.4444444444444444,
              "#bd3786"
             ],
             [
              0.5555555555555556,
              "#d8576b"
             ],
             [
              0.6666666666666666,
              "#ed7953"
             ],
             [
              0.7777777777777778,
              "#fb9f3a"
             ],
             [
              0.8888888888888888,
              "#fdca26"
             ],
             [
              1,
              "#f0f921"
             ]
            ],
            "type": "histogram2dcontour"
           }
          ],
          "mesh3d": [
           {
            "colorbar": {
             "outlinewidth": 0,
             "ticks": ""
            },
            "type": "mesh3d"
           }
          ],
          "parcoords": [
           {
            "line": {
             "colorbar": {
              "outlinewidth": 0,
              "ticks": ""
             }
            },
            "type": "parcoords"
           }
          ],
          "pie": [
           {
            "automargin": true,
            "type": "pie"
           }
          ],
          "scatter": [
           {
            "fillpattern": {
             "fillmode": "overlay",
             "size": 10,
             "solidity": 0.2
            },
            "type": "scatter"
           }
          ],
          "scatter3d": [
           {
            "line": {
             "colorbar": {
              "outlinewidth": 0,
              "ticks": ""
             }
            },
            "marker": {
             "colorbar": {
              "outlinewidth": 0,
              "ticks": ""
             }
            },
            "type": "scatter3d"
           }
          ],
          "scattercarpet": [
           {
            "marker": {
             "colorbar": {
              "outlinewidth": 0,
              "ticks": ""
             }
            },
            "type": "scattercarpet"
           }
          ],
          "scattergeo": [
           {
            "marker": {
             "colorbar": {
              "outlinewidth": 0,
              "ticks": ""
             }
            },
            "type": "scattergeo"
           }
          ],
          "scattergl": [
           {
            "marker": {
             "colorbar": {
              "outlinewidth": 0,
              "ticks": ""
             }
            },
            "type": "scattergl"
           }
          ],
          "scattermapbox": [
           {
            "marker": {
             "colorbar": {
              "outlinewidth": 0,
              "ticks": ""
             }
            },
            "type": "scattermapbox"
           }
          ],
          "scatterpolar": [
           {
            "marker": {
             "colorbar": {
              "outlinewidth": 0,
              "ticks": ""
             }
            },
            "type": "scatterpolar"
           }
          ],
          "scatterpolargl": [
           {
            "marker": {
             "colorbar": {
              "outlinewidth": 0,
              "ticks": ""
             }
            },
            "type": "scatterpolargl"
           }
          ],
          "scatterternary": [
           {
            "marker": {
             "colorbar": {
              "outlinewidth": 0,
              "ticks": ""
             }
            },
            "type": "scatterternary"
           }
          ],
          "surface": [
           {
            "colorbar": {
             "outlinewidth": 0,
             "ticks": ""
            },
            "colorscale": [
             [
              0,
              "#0d0887"
             ],
             [
              0.1111111111111111,
              "#46039f"
             ],
             [
              0.2222222222222222,
              "#7201a8"
             ],
             [
              0.3333333333333333,
              "#9c179e"
             ],
             [
              0.4444444444444444,
              "#bd3786"
             ],
             [
              0.5555555555555556,
              "#d8576b"
             ],
             [
              0.6666666666666666,
              "#ed7953"
             ],
             [
              0.7777777777777778,
              "#fb9f3a"
             ],
             [
              0.8888888888888888,
              "#fdca26"
             ],
             [
              1,
              "#f0f921"
             ]
            ],
            "type": "surface"
           }
          ],
          "table": [
           {
            "cells": {
             "fill": {
              "color": "#EBF0F8"
             },
             "line": {
              "color": "white"
             }
            },
            "header": {
             "fill": {
              "color": "#C8D4E3"
             },
             "line": {
              "color": "white"
             }
            },
            "type": "table"
           }
          ]
         },
         "layout": {
          "annotationdefaults": {
           "arrowcolor": "#2a3f5f",
           "arrowhead": 0,
           "arrowwidth": 1
          },
          "autotypenumbers": "strict",
          "coloraxis": {
           "colorbar": {
            "outlinewidth": 0,
            "ticks": ""
           }
          },
          "colorscale": {
           "diverging": [
            [
             0,
             "#8e0152"
            ],
            [
             0.1,
             "#c51b7d"
            ],
            [
             0.2,
             "#de77ae"
            ],
            [
             0.3,
             "#f1b6da"
            ],
            [
             0.4,
             "#fde0ef"
            ],
            [
             0.5,
             "#f7f7f7"
            ],
            [
             0.6,
             "#e6f5d0"
            ],
            [
             0.7,
             "#b8e186"
            ],
            [
             0.8,
             "#7fbc41"
            ],
            [
             0.9,
             "#4d9221"
            ],
            [
             1,
             "#276419"
            ]
           ],
           "sequential": [
            [
             0,
             "#0d0887"
            ],
            [
             0.1111111111111111,
             "#46039f"
            ],
            [
             0.2222222222222222,
             "#7201a8"
            ],
            [
             0.3333333333333333,
             "#9c179e"
            ],
            [
             0.4444444444444444,
             "#bd3786"
            ],
            [
             0.5555555555555556,
             "#d8576b"
            ],
            [
             0.6666666666666666,
             "#ed7953"
            ],
            [
             0.7777777777777778,
             "#fb9f3a"
            ],
            [
             0.8888888888888888,
             "#fdca26"
            ],
            [
             1,
             "#f0f921"
            ]
           ],
           "sequentialminus": [
            [
             0,
             "#0d0887"
            ],
            [
             0.1111111111111111,
             "#46039f"
            ],
            [
             0.2222222222222222,
             "#7201a8"
            ],
            [
             0.3333333333333333,
             "#9c179e"
            ],
            [
             0.4444444444444444,
             "#bd3786"
            ],
            [
             0.5555555555555556,
             "#d8576b"
            ],
            [
             0.6666666666666666,
             "#ed7953"
            ],
            [
             0.7777777777777778,
             "#fb9f3a"
            ],
            [
             0.8888888888888888,
             "#fdca26"
            ],
            [
             1,
             "#f0f921"
            ]
           ]
          },
          "colorway": [
           "#636efa",
           "#EF553B",
           "#00cc96",
           "#ab63fa",
           "#FFA15A",
           "#19d3f3",
           "#FF6692",
           "#B6E880",
           "#FF97FF",
           "#FECB52"
          ],
          "font": {
           "color": "#2a3f5f"
          },
          "geo": {
           "bgcolor": "white",
           "lakecolor": "white",
           "landcolor": "#E5ECF6",
           "showlakes": true,
           "showland": true,
           "subunitcolor": "white"
          },
          "hoverlabel": {
           "align": "left"
          },
          "hovermode": "closest",
          "mapbox": {
           "style": "light"
          },
          "paper_bgcolor": "white",
          "plot_bgcolor": "#E5ECF6",
          "polar": {
           "angularaxis": {
            "gridcolor": "white",
            "linecolor": "white",
            "ticks": ""
           },
           "bgcolor": "#E5ECF6",
           "radialaxis": {
            "gridcolor": "white",
            "linecolor": "white",
            "ticks": ""
           }
          },
          "scene": {
           "xaxis": {
            "backgroundcolor": "#E5ECF6",
            "gridcolor": "white",
            "gridwidth": 2,
            "linecolor": "white",
            "showbackground": true,
            "ticks": "",
            "zerolinecolor": "white"
           },
           "yaxis": {
            "backgroundcolor": "#E5ECF6",
            "gridcolor": "white",
            "gridwidth": 2,
            "linecolor": "white",
            "showbackground": true,
            "ticks": "",
            "zerolinecolor": "white"
           },
           "zaxis": {
            "backgroundcolor": "#E5ECF6",
            "gridcolor": "white",
            "gridwidth": 2,
            "linecolor": "white",
            "showbackground": true,
            "ticks": "",
            "zerolinecolor": "white"
           }
          },
          "shapedefaults": {
           "line": {
            "color": "#2a3f5f"
           }
          },
          "ternary": {
           "aaxis": {
            "gridcolor": "white",
            "linecolor": "white",
            "ticks": ""
           },
           "baxis": {
            "gridcolor": "white",
            "linecolor": "white",
            "ticks": ""
           },
           "bgcolor": "#E5ECF6",
           "caxis": {
            "gridcolor": "white",
            "linecolor": "white",
            "ticks": ""
           }
          },
          "title": {
           "x": 0.05
          },
          "xaxis": {
           "automargin": true,
           "gridcolor": "white",
           "linecolor": "white",
           "ticks": "",
           "title": {
            "standoff": 15
           },
           "zerolinecolor": "white",
           "zerolinewidth": 2
          },
          "yaxis": {
           "automargin": true,
           "gridcolor": "white",
           "linecolor": "white",
           "ticks": "",
           "title": {
            "standoff": 15
           },
           "zerolinecolor": "white",
           "zerolinewidth": 2
          }
         }
        },
        "xaxis": {
         "anchor": "y",
         "domain": [
          0,
          0.08200000000000002
         ],
         "title": {
          "text": "Year"
         }
        },
        "xaxis10": {
         "anchor": "y10",
         "domain": [
          0.9180000000000001,
          1
         ],
         "matches": "x",
         "title": {
          "text": "Year"
         }
        },
        "xaxis2": {
         "anchor": "y2",
         "domain": [
          0.10200000000000002,
          0.18400000000000005
         ],
         "matches": "x",
         "title": {
          "text": "Year"
         }
        },
        "xaxis3": {
         "anchor": "y3",
         "domain": [
          0.20400000000000004,
          0.28600000000000003
         ],
         "matches": "x",
         "title": {
          "text": "Year"
         }
        },
        "xaxis4": {
         "anchor": "y4",
         "domain": [
          0.30600000000000005,
          0.38800000000000007
         ],
         "matches": "x",
         "title": {
          "text": "Year"
         }
        },
        "xaxis5": {
         "anchor": "y5",
         "domain": [
          0.4080000000000001,
          0.4900000000000001
         ],
         "matches": "x",
         "title": {
          "text": "Year"
         }
        },
        "xaxis6": {
         "anchor": "y6",
         "domain": [
          0.5100000000000001,
          0.5920000000000001
         ],
         "matches": "x",
         "title": {
          "text": "Year"
         }
        },
        "xaxis7": {
         "anchor": "y7",
         "domain": [
          0.6120000000000001,
          0.6940000000000002
         ],
         "matches": "x",
         "title": {
          "text": "Year"
         }
        },
        "xaxis8": {
         "anchor": "y8",
         "domain": [
          0.7140000000000001,
          0.796
         ],
         "matches": "x",
         "title": {
          "text": "Year"
         }
        },
        "xaxis9": {
         "anchor": "y9",
         "domain": [
          0.8160000000000002,
          0.8980000000000001
         ],
         "matches": "x",
         "title": {
          "text": "Year"
         }
        },
        "yaxis": {
         "anchor": "x",
         "domain": [
          0,
          1
         ],
         "title": {
          "text": "Count of Types"
         }
        },
        "yaxis10": {
         "anchor": "x10",
         "domain": [
          0,
          1
         ],
         "matches": "y",
         "showticklabels": false
        },
        "yaxis2": {
         "anchor": "x2",
         "domain": [
          0,
          1
         ],
         "matches": "y",
         "showticklabels": false
        },
        "yaxis3": {
         "anchor": "x3",
         "domain": [
          0,
          1
         ],
         "matches": "y",
         "showticklabels": false
        },
        "yaxis4": {
         "anchor": "x4",
         "domain": [
          0,
          1
         ],
         "matches": "y",
         "showticklabels": false
        },
        "yaxis5": {
         "anchor": "x5",
         "domain": [
          0,
          1
         ],
         "matches": "y",
         "showticklabels": false
        },
        "yaxis6": {
         "anchor": "x6",
         "domain": [
          0,
          1
         ],
         "matches": "y",
         "showticklabels": false
        },
        "yaxis7": {
         "anchor": "x7",
         "domain": [
          0,
          1
         ],
         "matches": "y",
         "showticklabels": false
        },
        "yaxis8": {
         "anchor": "x8",
         "domain": [
          0,
          1
         ],
         "matches": "y",
         "showticklabels": false
        },
        "yaxis9": {
         "anchor": "x9",
         "domain": [
          0,
          1
         ],
         "matches": "y",
         "showticklabels": false
        }
       }
      }
     },
     "metadata": {},
     "output_type": "display_data"
    }
   ],
   "source": [
    "# line plot for Types of Crime\n",
    "fig = px.line(x='Year', y='Count of Types', data_frame=df_new, color='Type', facet_col='City name')\n",
    "fig.show()"
   ]
  },
  {
   "cell_type": "code",
   "execution_count": 30,
   "metadata": {},
   "outputs": [
    {
     "data": {
      "application/vnd.plotly.v1+json": {
       "config": {
        "plotlyServerURL": "https://plot.ly"
       },
       "data": [
        {
         "branchvalues": "total",
         "domain": {
          "x": [
           0,
           1
          ],
          "y": [
           0,
           1
          ]
         },
         "hovertemplate": "labels=%{label}<br>Count of Types=%{value}<br>parent=%{parent}<br>id=%{id}<extra></extra>",
         "ids": [
          "2007/Arson",
          "2008/Arson",
          "2009/Arson",
          "2010/Arson",
          "2011/Arson",
          "2012/Arson",
          "2013/Arson",
          "2014/Arson",
          "2015/Arson",
          "2016/Arson",
          "2017/Arson",
          "2018/Arson",
          "2019/Arson",
          "2020/Arson",
          "2007/Assaults",
          "2008/Assaults",
          "2009/Assaults",
          "2010/Assaults",
          "2011/Assaults",
          "2012/Assaults",
          "2013/Assaults",
          "2014/Assaults",
          "2015/Assaults",
          "2016/Assaults",
          "2017/Assaults",
          "2018/Assaults",
          "2019/Assaults",
          "2020/Assaults",
          "2007/Auto thefts",
          "2008/Auto thefts",
          "2009/Auto thefts",
          "2010/Auto thefts",
          "2011/Auto thefts",
          "2012/Auto thefts",
          "2013/Auto thefts",
          "2014/Auto thefts",
          "2015/Auto thefts",
          "2016/Auto thefts",
          "2017/Auto thefts",
          "2018/Auto thefts",
          "2019/Auto thefts",
          "2020/Auto thefts",
          "2007/Burglaries",
          "2008/Burglaries",
          "2009/Burglaries",
          "2010/Burglaries",
          "2011/Burglaries",
          "2012/Burglaries",
          "2013/Burglaries",
          "2014/Burglaries",
          "2015/Burglaries",
          "2016/Burglaries",
          "2017/Burglaries",
          "2018/Burglaries",
          "2019/Burglaries",
          "2020/Burglaries",
          "2007/Murders",
          "2008/Murders",
          "2009/Murders",
          "2010/Murders",
          "2011/Murders",
          "2012/Murders",
          "2013/Murders",
          "2014/Murders",
          "2015/Murders",
          "2016/Murders",
          "2017/Murders",
          "2018/Murders",
          "2019/Murders",
          "2020/Murders",
          "2007/Rapes",
          "2008/Rapes",
          "2009/Rapes",
          "2010/Rapes",
          "2011/Rapes",
          "2012/Rapes",
          "2013/Rapes",
          "2014/Rapes",
          "2015/Rapes",
          "2016/Rapes",
          "2017/Rapes",
          "2018/Rapes",
          "2019/Rapes",
          "2020/Rapes",
          "2007/Robberies",
          "2008/Robberies",
          "2009/Robberies",
          "2010/Robberies",
          "2011/Robberies",
          "2012/Robberies",
          "2013/Robberies",
          "2014/Robberies",
          "2015/Robberies",
          "2016/Robberies",
          "2017/Robberies",
          "2018/Robberies",
          "2019/Robberies",
          "2020/Robberies",
          "2007/Thefts",
          "2008/Thefts",
          "2009/Thefts",
          "2010/Thefts",
          "2011/Thefts",
          "2012/Thefts",
          "2013/Thefts",
          "2014/Thefts",
          "2015/Thefts",
          "2016/Thefts",
          "2017/Thefts",
          "2018/Thefts",
          "2019/Thefts",
          "2020/Thefts",
          "2007",
          "2008",
          "2009",
          "2010",
          "2011",
          "2012",
          "2013",
          "2014",
          "2015",
          "2016",
          "2017",
          "2018",
          "2019",
          "2020"
         ],
         "labels": [
          "Arson",
          "Arson",
          "Arson",
          "Arson",
          "Arson",
          "Arson",
          "Arson",
          "Arson",
          "Arson",
          "Arson",
          "Arson",
          "Arson",
          "Arson",
          "Arson",
          "Assaults",
          "Assaults",
          "Assaults",
          "Assaults",
          "Assaults",
          "Assaults",
          "Assaults",
          "Assaults",
          "Assaults",
          "Assaults",
          "Assaults",
          "Assaults",
          "Assaults",
          "Assaults",
          "Auto thefts",
          "Auto thefts",
          "Auto thefts",
          "Auto thefts",
          "Auto thefts",
          "Auto thefts",
          "Auto thefts",
          "Auto thefts",
          "Auto thefts",
          "Auto thefts",
          "Auto thefts",
          "Auto thefts",
          "Auto thefts",
          "Auto thefts",
          "Burglaries",
          "Burglaries",
          "Burglaries",
          "Burglaries",
          "Burglaries",
          "Burglaries",
          "Burglaries",
          "Burglaries",
          "Burglaries",
          "Burglaries",
          "Burglaries",
          "Burglaries",
          "Burglaries",
          "Burglaries",
          "Murders",
          "Murders",
          "Murders",
          "Murders",
          "Murders",
          "Murders",
          "Murders",
          "Murders",
          "Murders",
          "Murders",
          "Murders",
          "Murders",
          "Murders",
          "Murders",
          "Rapes",
          "Rapes",
          "Rapes",
          "Rapes",
          "Rapes",
          "Rapes",
          "Rapes",
          "Rapes",
          "Rapes",
          "Rapes",
          "Rapes",
          "Rapes",
          "Rapes",
          "Rapes",
          "Robberies",
          "Robberies",
          "Robberies",
          "Robberies",
          "Robberies",
          "Robberies",
          "Robberies",
          "Robberies",
          "Robberies",
          "Robberies",
          "Robberies",
          "Robberies",
          "Robberies",
          "Robberies",
          "Thefts",
          "Thefts",
          "Thefts",
          "Thefts",
          "Thefts",
          "Thefts",
          "Thefts",
          "Thefts",
          "Thefts",
          "Thefts",
          "Thefts",
          "Thefts",
          "Thefts",
          "Thefts",
          "2007",
          "2008",
          "2009",
          "2010",
          "2011",
          "2012",
          "2013",
          "2014",
          "2015",
          "2016",
          "2017",
          "2018",
          "2019",
          "2020"
         ],
         "name": "",
         "parents": [
          "2007",
          "2008",
          "2009",
          "2010",
          "2011",
          "2012",
          "2013",
          "2014",
          "2015",
          "2016",
          "2017",
          "2018",
          "2019",
          "2020",
          "2007",
          "2008",
          "2009",
          "2010",
          "2011",
          "2012",
          "2013",
          "2014",
          "2015",
          "2016",
          "2017",
          "2018",
          "2019",
          "2020",
          "2007",
          "2008",
          "2009",
          "2010",
          "2011",
          "2012",
          "2013",
          "2014",
          "2015",
          "2016",
          "2017",
          "2018",
          "2019",
          "2020",
          "2007",
          "2008",
          "2009",
          "2010",
          "2011",
          "2012",
          "2013",
          "2014",
          "2015",
          "2016",
          "2017",
          "2018",
          "2019",
          "2020",
          "2007",
          "2008",
          "2009",
          "2010",
          "2011",
          "2012",
          "2013",
          "2014",
          "2015",
          "2016",
          "2017",
          "2018",
          "2019",
          "2020",
          "2007",
          "2008",
          "2009",
          "2010",
          "2011",
          "2012",
          "2013",
          "2014",
          "2015",
          "2016",
          "2017",
          "2018",
          "2019",
          "2020",
          "2007",
          "2008",
          "2009",
          "2010",
          "2011",
          "2012",
          "2013",
          "2014",
          "2015",
          "2016",
          "2017",
          "2018",
          "2019",
          "2020",
          "2007",
          "2008",
          "2009",
          "2010",
          "2011",
          "2012",
          "2013",
          "2014",
          "2015",
          "2016",
          "2017",
          "2018",
          "2019",
          "2020",
          "",
          "",
          "",
          "",
          "",
          "",
          "",
          "",
          "",
          "",
          "",
          "",
          "",
          ""
         ],
         "type": "sunburst",
         "values": [
          367,
          382,
          338,
          298,
          290,
          348,
          270,
          241,
          285,
          191,
          186,
          227,
          171,
          189,
          4952,
          4464,
          4413,
          4249,
          4141,
          4149,
          4022,
          3862,
          4423,
          4314,
          4225,
          4992,
          5032,
          5099,
          6167,
          4809,
          4171,
          4179,
          4876,
          4807,
          4719,
          4742,
          4789,
          3994,
          4175,
          4515,
          4190,
          3342,
          10641,
          9833,
          10325,
          10395,
          9998,
          9633,
          8950,
          7608,
          7456,
          6117,
          5736,
          5778,
          4622,
          3448,
          77,
          79,
          79,
          65,
          80,
          58,
          67,
          61,
          79,
          58,
          73,
          59,
          60,
          52,
          617,
          598,
          617,
          570,
          633,
          566,
          602,
          842,
          1032,
          637,
          766,
          810,
          696,
          524,
          1581,
          1228,
          1414,
          1216,
          1192,
          1194,
          1099,
          1084,
          1421,
          1063,
          1053,
          992,
          864,
          558,
          41597,
          37623,
          38134,
          36736,
          37486,
          38704,
          36586,
          31650,
          32428,
          28935,
          29255,
          29490,
          27575,
          20800,
          65999,
          59016,
          59491,
          57708,
          58696,
          59459,
          56315,
          50090,
          51913,
          45309,
          45469,
          46863,
          43210,
          34012
         ]
        }
       ],
       "layout": {
        "height": 800,
        "legend": {
         "tracegroupgap": 0
        },
        "margin": {
         "t": 60
        },
        "template": {
         "data": {
          "bar": [
           {
            "error_x": {
             "color": "#2a3f5f"
            },
            "error_y": {
             "color": "#2a3f5f"
            },
            "marker": {
             "line": {
              "color": "#E5ECF6",
              "width": 0.5
             },
             "pattern": {
              "fillmode": "overlay",
              "size": 10,
              "solidity": 0.2
             }
            },
            "type": "bar"
           }
          ],
          "barpolar": [
           {
            "marker": {
             "line": {
              "color": "#E5ECF6",
              "width": 0.5
             },
             "pattern": {
              "fillmode": "overlay",
              "size": 10,
              "solidity": 0.2
             }
            },
            "type": "barpolar"
           }
          ],
          "carpet": [
           {
            "aaxis": {
             "endlinecolor": "#2a3f5f",
             "gridcolor": "white",
             "linecolor": "white",
             "minorgridcolor": "white",
             "startlinecolor": "#2a3f5f"
            },
            "baxis": {
             "endlinecolor": "#2a3f5f",
             "gridcolor": "white",
             "linecolor": "white",
             "minorgridcolor": "white",
             "startlinecolor": "#2a3f5f"
            },
            "type": "carpet"
           }
          ],
          "choropleth": [
           {
            "colorbar": {
             "outlinewidth": 0,
             "ticks": ""
            },
            "type": "choropleth"
           }
          ],
          "contour": [
           {
            "colorbar": {
             "outlinewidth": 0,
             "ticks": ""
            },
            "colorscale": [
             [
              0,
              "#0d0887"
             ],
             [
              0.1111111111111111,
              "#46039f"
             ],
             [
              0.2222222222222222,
              "#7201a8"
             ],
             [
              0.3333333333333333,
              "#9c179e"
             ],
             [
              0.4444444444444444,
              "#bd3786"
             ],
             [
              0.5555555555555556,
              "#d8576b"
             ],
             [
              0.6666666666666666,
              "#ed7953"
             ],
             [
              0.7777777777777778,
              "#fb9f3a"
             ],
             [
              0.8888888888888888,
              "#fdca26"
             ],
             [
              1,
              "#f0f921"
             ]
            ],
            "type": "contour"
           }
          ],
          "contourcarpet": [
           {
            "colorbar": {
             "outlinewidth": 0,
             "ticks": ""
            },
            "type": "contourcarpet"
           }
          ],
          "heatmap": [
           {
            "colorbar": {
             "outlinewidth": 0,
             "ticks": ""
            },
            "colorscale": [
             [
              0,
              "#0d0887"
             ],
             [
              0.1111111111111111,
              "#46039f"
             ],
             [
              0.2222222222222222,
              "#7201a8"
             ],
             [
              0.3333333333333333,
              "#9c179e"
             ],
             [
              0.4444444444444444,
              "#bd3786"
             ],
             [
              0.5555555555555556,
              "#d8576b"
             ],
             [
              0.6666666666666666,
              "#ed7953"
             ],
             [
              0.7777777777777778,
              "#fb9f3a"
             ],
             [
              0.8888888888888888,
              "#fdca26"
             ],
             [
              1,
              "#f0f921"
             ]
            ],
            "type": "heatmap"
           }
          ],
          "heatmapgl": [
           {
            "colorbar": {
             "outlinewidth": 0,
             "ticks": ""
            },
            "colorscale": [
             [
              0,
              "#0d0887"
             ],
             [
              0.1111111111111111,
              "#46039f"
             ],
             [
              0.2222222222222222,
              "#7201a8"
             ],
             [
              0.3333333333333333,
              "#9c179e"
             ],
             [
              0.4444444444444444,
              "#bd3786"
             ],
             [
              0.5555555555555556,
              "#d8576b"
             ],
             [
              0.6666666666666666,
              "#ed7953"
             ],
             [
              0.7777777777777778,
              "#fb9f3a"
             ],
             [
              0.8888888888888888,
              "#fdca26"
             ],
             [
              1,
              "#f0f921"
             ]
            ],
            "type": "heatmapgl"
           }
          ],
          "histogram": [
           {
            "marker": {
             "pattern": {
              "fillmode": "overlay",
              "size": 10,
              "solidity": 0.2
             }
            },
            "type": "histogram"
           }
          ],
          "histogram2d": [
           {
            "colorbar": {
             "outlinewidth": 0,
             "ticks": ""
            },
            "colorscale": [
             [
              0,
              "#0d0887"
             ],
             [
              0.1111111111111111,
              "#46039f"
             ],
             [
              0.2222222222222222,
              "#7201a8"
             ],
             [
              0.3333333333333333,
              "#9c179e"
             ],
             [
              0.4444444444444444,
              "#bd3786"
             ],
             [
              0.5555555555555556,
              "#d8576b"
             ],
             [
              0.6666666666666666,
              "#ed7953"
             ],
             [
              0.7777777777777778,
              "#fb9f3a"
             ],
             [
              0.8888888888888888,
              "#fdca26"
             ],
             [
              1,
              "#f0f921"
             ]
            ],
            "type": "histogram2d"
           }
          ],
          "histogram2dcontour": [
           {
            "colorbar": {
             "outlinewidth": 0,
             "ticks": ""
            },
            "colorscale": [
             [
              0,
              "#0d0887"
             ],
             [
              0.1111111111111111,
              "#46039f"
             ],
             [
              0.2222222222222222,
              "#7201a8"
             ],
             [
              0.3333333333333333,
              "#9c179e"
             ],
             [
              0.4444444444444444,
              "#bd3786"
             ],
             [
              0.5555555555555556,
              "#d8576b"
             ],
             [
              0.6666666666666666,
              "#ed7953"
             ],
             [
              0.7777777777777778,
              "#fb9f3a"
             ],
             [
              0.8888888888888888,
              "#fdca26"
             ],
             [
              1,
              "#f0f921"
             ]
            ],
            "type": "histogram2dcontour"
           }
          ],
          "mesh3d": [
           {
            "colorbar": {
             "outlinewidth": 0,
             "ticks": ""
            },
            "type": "mesh3d"
           }
          ],
          "parcoords": [
           {
            "line": {
             "colorbar": {
              "outlinewidth": 0,
              "ticks": ""
             }
            },
            "type": "parcoords"
           }
          ],
          "pie": [
           {
            "automargin": true,
            "type": "pie"
           }
          ],
          "scatter": [
           {
            "fillpattern": {
             "fillmode": "overlay",
             "size": 10,
             "solidity": 0.2
            },
            "type": "scatter"
           }
          ],
          "scatter3d": [
           {
            "line": {
             "colorbar": {
              "outlinewidth": 0,
              "ticks": ""
             }
            },
            "marker": {
             "colorbar": {
              "outlinewidth": 0,
              "ticks": ""
             }
            },
            "type": "scatter3d"
           }
          ],
          "scattercarpet": [
           {
            "marker": {
             "colorbar": {
              "outlinewidth": 0,
              "ticks": ""
             }
            },
            "type": "scattercarpet"
           }
          ],
          "scattergeo": [
           {
            "marker": {
             "colorbar": {
              "outlinewidth": 0,
              "ticks": ""
             }
            },
            "type": "scattergeo"
           }
          ],
          "scattergl": [
           {
            "marker": {
             "colorbar": {
              "outlinewidth": 0,
              "ticks": ""
             }
            },
            "type": "scattergl"
           }
          ],
          "scattermapbox": [
           {
            "marker": {
             "colorbar": {
              "outlinewidth": 0,
              "ticks": ""
             }
            },
            "type": "scattermapbox"
           }
          ],
          "scatterpolar": [
           {
            "marker": {
             "colorbar": {
              "outlinewidth": 0,
              "ticks": ""
             }
            },
            "type": "scatterpolar"
           }
          ],
          "scatterpolargl": [
           {
            "marker": {
             "colorbar": {
              "outlinewidth": 0,
              "ticks": ""
             }
            },
            "type": "scatterpolargl"
           }
          ],
          "scatterternary": [
           {
            "marker": {
             "colorbar": {
              "outlinewidth": 0,
              "ticks": ""
             }
            },
            "type": "scatterternary"
           }
          ],
          "surface": [
           {
            "colorbar": {
             "outlinewidth": 0,
             "ticks": ""
            },
            "colorscale": [
             [
              0,
              "#0d0887"
             ],
             [
              0.1111111111111111,
              "#46039f"
             ],
             [
              0.2222222222222222,
              "#7201a8"
             ],
             [
              0.3333333333333333,
              "#9c179e"
             ],
             [
              0.4444444444444444,
              "#bd3786"
             ],
             [
              0.5555555555555556,
              "#d8576b"
             ],
             [
              0.6666666666666666,
              "#ed7953"
             ],
             [
              0.7777777777777778,
              "#fb9f3a"
             ],
             [
              0.8888888888888888,
              "#fdca26"
             ],
             [
              1,
              "#f0f921"
             ]
            ],
            "type": "surface"
           }
          ],
          "table": [
           {
            "cells": {
             "fill": {
              "color": "#EBF0F8"
             },
             "line": {
              "color": "white"
             }
            },
            "header": {
             "fill": {
              "color": "#C8D4E3"
             },
             "line": {
              "color": "white"
             }
            },
            "type": "table"
           }
          ]
         },
         "layout": {
          "annotationdefaults": {
           "arrowcolor": "#2a3f5f",
           "arrowhead": 0,
           "arrowwidth": 1
          },
          "autotypenumbers": "strict",
          "coloraxis": {
           "colorbar": {
            "outlinewidth": 0,
            "ticks": ""
           }
          },
          "colorscale": {
           "diverging": [
            [
             0,
             "#8e0152"
            ],
            [
             0.1,
             "#c51b7d"
            ],
            [
             0.2,
             "#de77ae"
            ],
            [
             0.3,
             "#f1b6da"
            ],
            [
             0.4,
             "#fde0ef"
            ],
            [
             0.5,
             "#f7f7f7"
            ],
            [
             0.6,
             "#e6f5d0"
            ],
            [
             0.7,
             "#b8e186"
            ],
            [
             0.8,
             "#7fbc41"
            ],
            [
             0.9,
             "#4d9221"
            ],
            [
             1,
             "#276419"
            ]
           ],
           "sequential": [
            [
             0,
             "#0d0887"
            ],
            [
             0.1111111111111111,
             "#46039f"
            ],
            [
             0.2222222222222222,
             "#7201a8"
            ],
            [
             0.3333333333333333,
             "#9c179e"
            ],
            [
             0.4444444444444444,
             "#bd3786"
            ],
            [
             0.5555555555555556,
             "#d8576b"
            ],
            [
             0.6666666666666666,
             "#ed7953"
            ],
            [
             0.7777777777777778,
             "#fb9f3a"
            ],
            [
             0.8888888888888888,
             "#fdca26"
            ],
            [
             1,
             "#f0f921"
            ]
           ],
           "sequentialminus": [
            [
             0,
             "#0d0887"
            ],
            [
             0.1111111111111111,
             "#46039f"
            ],
            [
             0.2222222222222222,
             "#7201a8"
            ],
            [
             0.3333333333333333,
             "#9c179e"
            ],
            [
             0.4444444444444444,
             "#bd3786"
            ],
            [
             0.5555555555555556,
             "#d8576b"
            ],
            [
             0.6666666666666666,
             "#ed7953"
            ],
            [
             0.7777777777777778,
             "#fb9f3a"
            ],
            [
             0.8888888888888888,
             "#fdca26"
            ],
            [
             1,
             "#f0f921"
            ]
           ]
          },
          "colorway": [
           "#636efa",
           "#EF553B",
           "#00cc96",
           "#ab63fa",
           "#FFA15A",
           "#19d3f3",
           "#FF6692",
           "#B6E880",
           "#FF97FF",
           "#FECB52"
          ],
          "font": {
           "color": "#2a3f5f"
          },
          "geo": {
           "bgcolor": "white",
           "lakecolor": "white",
           "landcolor": "#E5ECF6",
           "showlakes": true,
           "showland": true,
           "subunitcolor": "white"
          },
          "hoverlabel": {
           "align": "left"
          },
          "hovermode": "closest",
          "mapbox": {
           "style": "light"
          },
          "paper_bgcolor": "white",
          "plot_bgcolor": "#E5ECF6",
          "polar": {
           "angularaxis": {
            "gridcolor": "white",
            "linecolor": "white",
            "ticks": ""
           },
           "bgcolor": "#E5ECF6",
           "radialaxis": {
            "gridcolor": "white",
            "linecolor": "white",
            "ticks": ""
           }
          },
          "scene": {
           "xaxis": {
            "backgroundcolor": "#E5ECF6",
            "gridcolor": "white",
            "gridwidth": 2,
            "linecolor": "white",
            "showbackground": true,
            "ticks": "",
            "zerolinecolor": "white"
           },
           "yaxis": {
            "backgroundcolor": "#E5ECF6",
            "gridcolor": "white",
            "gridwidth": 2,
            "linecolor": "white",
            "showbackground": true,
            "ticks": "",
            "zerolinecolor": "white"
           },
           "zaxis": {
            "backgroundcolor": "#E5ECF6",
            "gridcolor": "white",
            "gridwidth": 2,
            "linecolor": "white",
            "showbackground": true,
            "ticks": "",
            "zerolinecolor": "white"
           }
          },
          "shapedefaults": {
           "line": {
            "color": "#2a3f5f"
           }
          },
          "ternary": {
           "aaxis": {
            "gridcolor": "white",
            "linecolor": "white",
            "ticks": ""
           },
           "baxis": {
            "gridcolor": "white",
            "linecolor": "white",
            "ticks": ""
           },
           "bgcolor": "#E5ECF6",
           "caxis": {
            "gridcolor": "white",
            "linecolor": "white",
            "ticks": ""
           }
          },
          "title": {
           "x": 0.05
          },
          "xaxis": {
           "automargin": true,
           "gridcolor": "white",
           "linecolor": "white",
           "ticks": "",
           "title": {
            "standoff": 15
           },
           "zerolinecolor": "white",
           "zerolinewidth": 2
          },
          "yaxis": {
           "automargin": true,
           "gridcolor": "white",
           "linecolor": "white",
           "ticks": "",
           "title": {
            "standoff": 15
           },
           "zerolinecolor": "white",
           "zerolinewidth": 2
          }
         }
        },
        "width": 800
       }
      }
     },
     "metadata": {},
     "output_type": "display_data"
    }
   ],
   "source": [
    "# circle chart for Types of Crime and their count\n",
    "fig = px.sunburst(df_new, path=['Year', 'Type'], values='Count of Types')\n",
    "\n",
    "# Adjust the height and width\n",
    "fig.update_layout(height=800, width=800)\n",
    "\n",
    "# Show the plot\n",
    "fig.show()\n"
   ]
  },
  {
   "cell_type": "code",
   "execution_count": null,
   "metadata": {},
   "outputs": [],
   "source": []
  }
 ],
 "metadata": {
  "kernelspec": {
   "display_name": "minimalds",
   "language": "python",
   "name": "python3"
  },
  "language_info": {
   "codemirror_mode": {
    "name": "ipython",
    "version": 3
   },
   "file_extension": ".py",
   "mimetype": "text/x-python",
   "name": "python",
   "nbconvert_exporter": "python",
   "pygments_lexer": "ipython3",
   "version": "3.11.4"
  }
 },
 "nbformat": 4,
 "nbformat_minor": 2
}
